{
 "cells": [
  {
   "cell_type": "code",
   "execution_count": 4,
   "id": "6b553deb",
   "metadata": {},
   "outputs": [
    {
     "data": {
      "text/plain": [
       "75"
      ]
     },
     "execution_count": 4,
     "metadata": {},
     "output_type": "execute_result"
    }
   ],
   "source": [
    "45+30"
   ]
  },
  {
   "cell_type": "code",
   "execution_count": 2,
   "id": "94b9682d",
   "metadata": {},
   "outputs": [
    {
     "data": {
      "text/plain": [
       "10"
      ]
     },
     "execution_count": 2,
     "metadata": {},
     "output_type": "execute_result"
    }
   ],
   "source": [
    "32-22"
   ]
  },
  {
   "cell_type": "code",
   "execution_count": 3,
   "id": "bd221d14",
   "metadata": {},
   "outputs": [
    {
     "data": {
      "text/plain": [
       "225"
      ]
     },
     "execution_count": 3,
     "metadata": {},
     "output_type": "execute_result"
    }
   ],
   "source": [
    "5*45"
   ]
  },
  {
   "cell_type": "code",
   "execution_count": 9,
   "id": "36dd423c",
   "metadata": {},
   "outputs": [
    {
     "data": {
      "text/plain": [
       "3.5"
      ]
     },
     "execution_count": 9,
     "metadata": {},
     "output_type": "execute_result"
    }
   ],
   "source": [
    "7/2"
   ]
  },
  {
   "cell_type": "code",
   "execution_count": 6,
   "id": "b00e00f6",
   "metadata": {},
   "outputs": [
    {
     "data": {
      "text/plain": [
       "1"
      ]
     },
     "execution_count": 6,
     "metadata": {},
     "output_type": "execute_result"
    }
   ],
   "source": [
    "7%2"
   ]
  },
  {
   "cell_type": "code",
   "execution_count": 7,
   "id": "78e4ca30",
   "metadata": {},
   "outputs": [
    {
     "data": {
      "text/plain": [
       "3"
      ]
     },
     "execution_count": 7,
     "metadata": {},
     "output_type": "execute_result"
    }
   ],
   "source": [
    "7//2"
   ]
  },
  {
   "cell_type": "code",
   "execution_count": 8,
   "id": "3ce85b4c",
   "metadata": {},
   "outputs": [
    {
     "data": {
      "text/plain": [
       "625"
      ]
     },
     "execution_count": 8,
     "metadata": {},
     "output_type": "execute_result"
    }
   ],
   "source": [
    "5**4"
   ]
  },
  {
   "cell_type": "code",
   "execution_count": 10,
   "id": "ce172f9c",
   "metadata": {},
   "outputs": [
    {
     "data": {
      "text/plain": [
       "'C:\\\\Users\\\\yoges'"
      ]
     },
     "execution_count": 10,
     "metadata": {},
     "output_type": "execute_result"
    }
   ],
   "source": [
    "pwd  #present working directory"
   ]
  },
  {
   "cell_type": "code",
   "execution_count": 12,
   "id": "165b3728",
   "metadata": {},
   "outputs": [],
   "source": [
    "#Data Types in Python"
   ]
  },
  {
   "cell_type": "markdown",
   "id": "796eb859",
   "metadata": {},
   "source": [
    "# Data Types in Python\n",
    "## Data Types in Python\n",
    "### Data Types in Python\n",
    "#### Data Types in Python"
   ]
  },
  {
   "cell_type": "markdown",
   "id": "14d052a6",
   "metadata": {},
   "source": [
    "### Numbers"
   ]
  },
  {
   "cell_type": "code",
   "execution_count": 13,
   "id": "731bd6b5",
   "metadata": {},
   "outputs": [],
   "source": [
    "a=55"
   ]
  },
  {
   "cell_type": "code",
   "execution_count": 14,
   "id": "ddff9eec",
   "metadata": {},
   "outputs": [
    {
     "data": {
      "text/plain": [
       "55"
      ]
     },
     "execution_count": 14,
     "metadata": {},
     "output_type": "execute_result"
    }
   ],
   "source": [
    "a"
   ]
  },
  {
   "cell_type": "code",
   "execution_count": 15,
   "id": "a74540ea",
   "metadata": {},
   "outputs": [
    {
     "data": {
      "text/plain": [
       "int"
      ]
     },
     "execution_count": 15,
     "metadata": {},
     "output_type": "execute_result"
    }
   ],
   "source": [
    "type(a)"
   ]
  },
  {
   "cell_type": "code",
   "execution_count": 16,
   "id": "1f448c45",
   "metadata": {},
   "outputs": [],
   "source": [
    "b=45.78"
   ]
  },
  {
   "cell_type": "code",
   "execution_count": 17,
   "id": "caa32cd8",
   "metadata": {},
   "outputs": [
    {
     "data": {
      "text/plain": [
       "45.78"
      ]
     },
     "execution_count": 17,
     "metadata": {},
     "output_type": "execute_result"
    }
   ],
   "source": [
    "b"
   ]
  },
  {
   "cell_type": "code",
   "execution_count": 18,
   "id": "731a66b6",
   "metadata": {},
   "outputs": [
    {
     "data": {
      "text/plain": [
       "float"
      ]
     },
     "execution_count": 18,
     "metadata": {},
     "output_type": "execute_result"
    }
   ],
   "source": [
    "type(b)"
   ]
  },
  {
   "cell_type": "code",
   "execution_count": 19,
   "id": "408ceaa4",
   "metadata": {},
   "outputs": [
    {
     "data": {
      "text/plain": [
       "100.78"
      ]
     },
     "execution_count": 19,
     "metadata": {},
     "output_type": "execute_result"
    }
   ],
   "source": [
    "a+b"
   ]
  },
  {
   "cell_type": "code",
   "execution_count": 20,
   "id": "29066374",
   "metadata": {},
   "outputs": [
    {
     "data": {
      "text/plain": [
       "9"
      ]
     },
     "execution_count": 20,
     "metadata": {},
     "output_type": "execute_result"
    }
   ],
   "source": [
    "4+5"
   ]
  },
  {
   "cell_type": "code",
   "execution_count": 21,
   "id": "1bc61a68",
   "metadata": {},
   "outputs": [
    {
     "data": {
      "text/plain": [
       "9.0"
      ]
     },
     "execution_count": 21,
     "metadata": {},
     "output_type": "execute_result"
    }
   ],
   "source": [
    "4+5.0"
   ]
  },
  {
   "cell_type": "markdown",
   "id": "9921f71b",
   "metadata": {},
   "source": [
    "## Boolean"
   ]
  },
  {
   "cell_type": "code",
   "execution_count": 22,
   "id": "7cc36ad8",
   "metadata": {},
   "outputs": [],
   "source": [
    "c=True"
   ]
  },
  {
   "cell_type": "code",
   "execution_count": 23,
   "id": "8474147a",
   "metadata": {},
   "outputs": [
    {
     "data": {
      "text/plain": [
       "True"
      ]
     },
     "execution_count": 23,
     "metadata": {},
     "output_type": "execute_result"
    }
   ],
   "source": [
    "c"
   ]
  },
  {
   "cell_type": "code",
   "execution_count": 25,
   "id": "b46b7bb0",
   "metadata": {},
   "outputs": [
    {
     "data": {
      "text/plain": [
       "bool"
      ]
     },
     "execution_count": 25,
     "metadata": {},
     "output_type": "execute_result"
    }
   ],
   "source": [
    "type(c)"
   ]
  },
  {
   "cell_type": "code",
   "execution_count": 26,
   "id": "dfb74f09",
   "metadata": {},
   "outputs": [],
   "source": [
    "d=False"
   ]
  },
  {
   "cell_type": "code",
   "execution_count": 27,
   "id": "98362ae8",
   "metadata": {},
   "outputs": [
    {
     "data": {
      "text/plain": [
       "False"
      ]
     },
     "execution_count": 27,
     "metadata": {},
     "output_type": "execute_result"
    }
   ],
   "source": [
    "d"
   ]
  },
  {
   "cell_type": "code",
   "execution_count": 28,
   "id": "95fcc540",
   "metadata": {},
   "outputs": [
    {
     "data": {
      "text/plain": [
       "bool"
      ]
     },
     "execution_count": 28,
     "metadata": {},
     "output_type": "execute_result"
    }
   ],
   "source": [
    "type(d)"
   ]
  },
  {
   "cell_type": "code",
   "execution_count": 29,
   "id": "43b8b5a5",
   "metadata": {},
   "outputs": [
    {
     "data": {
      "text/plain": [
       "True"
      ]
     },
     "execution_count": 29,
     "metadata": {},
     "output_type": "execute_result"
    }
   ],
   "source": [
    "c"
   ]
  },
  {
   "cell_type": "code",
   "execution_count": 30,
   "id": "d916a2b1",
   "metadata": {},
   "outputs": [
    {
     "data": {
      "text/plain": [
       "False"
      ]
     },
     "execution_count": 30,
     "metadata": {},
     "output_type": "execute_result"
    }
   ],
   "source": [
    "d"
   ]
  },
  {
   "cell_type": "code",
   "execution_count": 31,
   "id": "91022420",
   "metadata": {},
   "outputs": [
    {
     "data": {
      "text/plain": [
       "1"
      ]
     },
     "execution_count": 31,
     "metadata": {},
     "output_type": "execute_result"
    }
   ],
   "source": [
    "c+d"
   ]
  },
  {
   "cell_type": "code",
   "execution_count": 32,
   "id": "c9419d60",
   "metadata": {},
   "outputs": [
    {
     "data": {
      "text/plain": [
       "13"
      ]
     },
     "execution_count": 32,
     "metadata": {},
     "output_type": "execute_result"
    }
   ],
   "source": [
    "True+False+3+True+False+2+True+False+4+True"
   ]
  },
  {
   "cell_type": "code",
   "execution_count": 35,
   "id": "a51e0b8b",
   "metadata": {},
   "outputs": [
    {
     "data": {
      "text/plain": [
       "True"
      ]
     },
     "execution_count": 35,
     "metadata": {},
     "output_type": "execute_result"
    }
   ],
   "source": [
    "True"
   ]
  },
  {
   "cell_type": "code",
   "execution_count": 36,
   "id": "1b7c0664",
   "metadata": {},
   "outputs": [],
   "source": [
    "## String"
   ]
  },
  {
   "cell_type": "code",
   "execution_count": 37,
   "id": "62bc6920",
   "metadata": {},
   "outputs": [],
   "source": [
    "s1='hello everyone we are here'"
   ]
  },
  {
   "cell_type": "code",
   "execution_count": 38,
   "id": "c8843e8a",
   "metadata": {},
   "outputs": [
    {
     "data": {
      "text/plain": [
       "'hello everyone we are here'"
      ]
     },
     "execution_count": 38,
     "metadata": {},
     "output_type": "execute_result"
    }
   ],
   "source": [
    "s1"
   ]
  },
  {
   "cell_type": "code",
   "execution_count": 39,
   "id": "87705b97",
   "metadata": {},
   "outputs": [
    {
     "data": {
      "text/plain": [
       "str"
      ]
     },
     "execution_count": 39,
     "metadata": {},
     "output_type": "execute_result"
    }
   ],
   "source": [
    "type(s1)"
   ]
  },
  {
   "cell_type": "code",
   "execution_count": 40,
   "id": "9ed98d0d",
   "metadata": {},
   "outputs": [],
   "source": [
    "s2=\"hi hello all we are learnig Python\""
   ]
  },
  {
   "cell_type": "code",
   "execution_count": 41,
   "id": "98c4cb6c",
   "metadata": {},
   "outputs": [
    {
     "data": {
      "text/plain": [
       "str"
      ]
     },
     "execution_count": 41,
     "metadata": {},
     "output_type": "execute_result"
    }
   ],
   "source": [
    "type(s2)"
   ]
  },
  {
   "cell_type": "code",
   "execution_count": 42,
   "id": "ccae4003",
   "metadata": {},
   "outputs": [
    {
     "data": {
      "text/plain": [
       "'hi hello all we are learnig Python'"
      ]
     },
     "execution_count": 42,
     "metadata": {},
     "output_type": "execute_result"
    }
   ],
   "source": [
    "s2"
   ]
  },
  {
   "cell_type": "code",
   "execution_count": 43,
   "id": "e33d8528",
   "metadata": {},
   "outputs": [],
   "source": [
    "n1='hi'"
   ]
  },
  {
   "cell_type": "code",
   "execution_count": 44,
   "id": "4747fa79",
   "metadata": {},
   "outputs": [],
   "source": [
    "n2='bye'"
   ]
  },
  {
   "cell_type": "code",
   "execution_count": 45,
   "id": "4346aa63",
   "metadata": {},
   "outputs": [
    {
     "data": {
      "text/plain": [
       "'hibye'"
      ]
     },
     "execution_count": 45,
     "metadata": {},
     "output_type": "execute_result"
    }
   ],
   "source": [
    "n1+n2  #concatenation"
   ]
  },
  {
   "cell_type": "code",
   "execution_count": 46,
   "id": "16c072bb",
   "metadata": {},
   "outputs": [],
   "source": [
    "n1='32'"
   ]
  },
  {
   "cell_type": "code",
   "execution_count": 47,
   "id": "4ea59a09",
   "metadata": {},
   "outputs": [],
   "source": [
    "n2='30'"
   ]
  },
  {
   "cell_type": "code",
   "execution_count": 48,
   "id": "95898dde",
   "metadata": {},
   "outputs": [
    {
     "data": {
      "text/plain": [
       "'3230'"
      ]
     },
     "execution_count": 48,
     "metadata": {},
     "output_type": "execute_result"
    }
   ],
   "source": [
    "n1+n2"
   ]
  },
  {
   "cell_type": "code",
   "execution_count": 49,
   "id": "9ecbc75b",
   "metadata": {},
   "outputs": [
    {
     "data": {
      "text/plain": [
       "62"
      ]
     },
     "execution_count": 49,
     "metadata": {},
     "output_type": "execute_result"
    }
   ],
   "source": [
    "int(n1)+int(n2) #type casting"
   ]
  },
  {
   "cell_type": "markdown",
   "id": "f8f72c38",
   "metadata": {},
   "source": [
    "## Complex Numbers"
   ]
  },
  {
   "cell_type": "code",
   "execution_count": 51,
   "id": "2be768fb",
   "metadata": {},
   "outputs": [],
   "source": [
    "c=5+2j"
   ]
  },
  {
   "cell_type": "code",
   "execution_count": 52,
   "id": "727d20f8",
   "metadata": {},
   "outputs": [
    {
     "data": {
      "text/plain": [
       "(5+2j)"
      ]
     },
     "execution_count": 52,
     "metadata": {},
     "output_type": "execute_result"
    }
   ],
   "source": [
    "c"
   ]
  },
  {
   "cell_type": "code",
   "execution_count": 53,
   "id": "1b11bd46",
   "metadata": {},
   "outputs": [
    {
     "data": {
      "text/plain": [
       "complex"
      ]
     },
     "execution_count": 53,
     "metadata": {},
     "output_type": "execute_result"
    }
   ],
   "source": [
    "type(c)"
   ]
  },
  {
   "cell_type": "code",
   "execution_count": 54,
   "id": "addfcdaa",
   "metadata": {},
   "outputs": [
    {
     "data": {
      "text/plain": [
       "9"
      ]
     },
     "execution_count": 54,
     "metadata": {},
     "output_type": "execute_result"
    }
   ],
   "source": [
    "5+4"
   ]
  },
  {
   "cell_type": "code",
   "execution_count": 55,
   "id": "b3a2571c",
   "metadata": {},
   "outputs": [
    {
     "data": {
      "text/plain": [
       "9.0"
      ]
     },
     "execution_count": 55,
     "metadata": {},
     "output_type": "execute_result"
    }
   ],
   "source": [
    "3.4+5.6"
   ]
  },
  {
   "cell_type": "code",
   "execution_count": 56,
   "id": "9b72ceb4",
   "metadata": {},
   "outputs": [
    {
     "ename": "TypeError",
     "evalue": "can only concatenate str (not \"int\") to str",
     "output_type": "error",
     "traceback": [
      "\u001b[1;31m---------------------------------------------------------------------------\u001b[0m",
      "\u001b[1;31mTypeError\u001b[0m                                 Traceback (most recent call last)",
      "Cell \u001b[1;32mIn[56], line 1\u001b[0m\n\u001b[1;32m----> 1\u001b[0m \u001b[38;5;124;43m'\u001b[39;49m\u001b[38;5;124;43m34\u001b[39;49m\u001b[38;5;124;43m'\u001b[39;49m\u001b[38;5;241;43m+\u001b[39;49m\u001b[38;5;241;43m55\u001b[39;49m\n",
      "\u001b[1;31mTypeError\u001b[0m: can only concatenate str (not \"int\") to str"
     ]
    }
   ],
   "source": [
    "'34'+55"
   ]
  },
  {
   "cell_type": "code",
   "execution_count": 57,
   "id": "d11c7987",
   "metadata": {},
   "outputs": [
    {
     "ename": "TypeError",
     "evalue": "unsupported operand type(s) for -: 'str' and 'str'",
     "output_type": "error",
     "traceback": [
      "\u001b[1;31m---------------------------------------------------------------------------\u001b[0m",
      "\u001b[1;31mTypeError\u001b[0m                                 Traceback (most recent call last)",
      "Cell \u001b[1;32mIn[57], line 1\u001b[0m\n\u001b[1;32m----> 1\u001b[0m \u001b[38;5;124;43m'\u001b[39;49m\u001b[38;5;124;43m34\u001b[39;49m\u001b[38;5;124;43m'\u001b[39;49m\u001b[38;5;241;43m-\u001b[39;49m\u001b[38;5;124;43m'\u001b[39;49m\u001b[38;5;124;43m32\u001b[39;49m\u001b[38;5;124;43m'\u001b[39;49m\n",
      "\u001b[1;31mTypeError\u001b[0m: unsupported operand type(s) for -: 'str' and 'str'"
     ]
    }
   ],
   "source": [
    "'34'-'32'"
   ]
  },
  {
   "cell_type": "code",
   "execution_count": 58,
   "id": "6adfde29",
   "metadata": {},
   "outputs": [
    {
     "data": {
      "text/plain": [
       "'343434'"
      ]
     },
     "execution_count": 58,
     "metadata": {},
     "output_type": "execute_result"
    }
   ],
   "source": [
    "'34'*3"
   ]
  },
  {
   "cell_type": "code",
   "execution_count": 59,
   "id": "077b3c28",
   "metadata": {},
   "outputs": [
    {
     "ename": "TypeError",
     "evalue": "can't multiply sequence by non-int of type 'str'",
     "output_type": "error",
     "traceback": [
      "\u001b[1;31m---------------------------------------------------------------------------\u001b[0m",
      "\u001b[1;31mTypeError\u001b[0m                                 Traceback (most recent call last)",
      "Cell \u001b[1;32mIn[59], line 1\u001b[0m\n\u001b[1;32m----> 1\u001b[0m \u001b[38;5;124;43m'\u001b[39;49m\u001b[38;5;124;43m23\u001b[39;49m\u001b[38;5;124;43m'\u001b[39;49m\u001b[38;5;241;43m*\u001b[39;49m\u001b[38;5;124;43m'\u001b[39;49m\u001b[38;5;124;43m5\u001b[39;49m\u001b[38;5;124;43m'\u001b[39;49m\n",
      "\u001b[1;31mTypeError\u001b[0m: can't multiply sequence by non-int of type 'str'"
     ]
    }
   ],
   "source": [
    "'23'*'5'"
   ]
  },
  {
   "cell_type": "code",
   "execution_count": 60,
   "id": "ddcfdb8b",
   "metadata": {},
   "outputs": [],
   "source": [
    "s=\"45\""
   ]
  },
  {
   "cell_type": "code",
   "execution_count": 61,
   "id": "b88cced5",
   "metadata": {},
   "outputs": [
    {
     "data": {
      "text/plain": [
       "str"
      ]
     },
     "execution_count": 61,
     "metadata": {},
     "output_type": "execute_result"
    }
   ],
   "source": [
    "type(s)"
   ]
  },
  {
   "cell_type": "code",
   "execution_count": 62,
   "id": "bcae9d2c",
   "metadata": {},
   "outputs": [],
   "source": [
    "s2=int(s)"
   ]
  },
  {
   "cell_type": "code",
   "execution_count": 63,
   "id": "5cbcd783",
   "metadata": {},
   "outputs": [
    {
     "data": {
      "text/plain": [
       "int"
      ]
     },
     "execution_count": 63,
     "metadata": {},
     "output_type": "execute_result"
    }
   ],
   "source": [
    "type(s2)"
   ]
  },
  {
   "cell_type": "code",
   "execution_count": 64,
   "id": "16662d1b",
   "metadata": {},
   "outputs": [
    {
     "data": {
      "text/plain": [
       "45"
      ]
     },
     "execution_count": 64,
     "metadata": {},
     "output_type": "execute_result"
    }
   ],
   "source": [
    "s2"
   ]
  },
  {
   "cell_type": "code",
   "execution_count": 65,
   "id": "47365d9d",
   "metadata": {},
   "outputs": [],
   "source": [
    "s1='45'"
   ]
  },
  {
   "cell_type": "code",
   "execution_count": 66,
   "id": "b6721202",
   "metadata": {},
   "outputs": [],
   "source": [
    "s2='45'"
   ]
  },
  {
   "cell_type": "code",
   "execution_count": 67,
   "id": "a8f163a1",
   "metadata": {},
   "outputs": [
    {
     "data": {
      "text/plain": [
       "'4545'"
      ]
     },
     "execution_count": 67,
     "metadata": {},
     "output_type": "execute_result"
    }
   ],
   "source": [
    "s1+s2"
   ]
  },
  {
   "cell_type": "code",
   "execution_count": 68,
   "id": "e1dd8e0d",
   "metadata": {},
   "outputs": [
    {
     "data": {
      "text/plain": [
       "90.0"
      ]
     },
     "execution_count": 68,
     "metadata": {},
     "output_type": "execute_result"
    }
   ],
   "source": [
    "float(s1)+float(s2)"
   ]
  },
  {
   "cell_type": "markdown",
   "id": "830ad9d6",
   "metadata": {},
   "source": [
    "## Indexing"
   ]
  },
  {
   "cell_type": "code",
   "execution_count": 1,
   "id": "3d38cd3c",
   "metadata": {},
   "outputs": [],
   "source": [
    "s1=\"Hello\""
   ]
  },
  {
   "cell_type": "code",
   "execution_count": 2,
   "id": "6ea5195c",
   "metadata": {},
   "outputs": [
    {
     "data": {
      "text/plain": [
       "'Hello'"
      ]
     },
     "execution_count": 2,
     "metadata": {},
     "output_type": "execute_result"
    }
   ],
   "source": [
    "s1"
   ]
  },
  {
   "cell_type": "code",
   "execution_count": 4,
   "id": "8aee3a3e",
   "metadata": {},
   "outputs": [
    {
     "data": {
      "text/plain": [
       "str"
      ]
     },
     "execution_count": 4,
     "metadata": {},
     "output_type": "execute_result"
    }
   ],
   "source": [
    "type(s1)"
   ]
  },
  {
   "cell_type": "code",
   "execution_count": 5,
   "id": "43e05d14",
   "metadata": {},
   "outputs": [
    {
     "data": {
      "text/plain": [
       "'H'"
      ]
     },
     "execution_count": 5,
     "metadata": {},
     "output_type": "execute_result"
    }
   ],
   "source": [
    "s1[0]"
   ]
  },
  {
   "cell_type": "code",
   "execution_count": 6,
   "id": "78d55ab5",
   "metadata": {},
   "outputs": [
    {
     "data": {
      "text/plain": [
       "'o'"
      ]
     },
     "execution_count": 6,
     "metadata": {},
     "output_type": "execute_result"
    }
   ],
   "source": [
    "s1[4]"
   ]
  },
  {
   "cell_type": "code",
   "execution_count": 7,
   "id": "4cfd3751",
   "metadata": {},
   "outputs": [],
   "source": [
    "s='abcdefghijk'"
   ]
  },
  {
   "cell_type": "code",
   "execution_count": 8,
   "id": "2095c793",
   "metadata": {},
   "outputs": [
    {
     "data": {
      "text/plain": [
       "'abcdefghijk'"
      ]
     },
     "execution_count": 8,
     "metadata": {},
     "output_type": "execute_result"
    }
   ],
   "source": [
    "s"
   ]
  },
  {
   "cell_type": "code",
   "execution_count": 9,
   "id": "eac46c50",
   "metadata": {},
   "outputs": [
    {
     "data": {
      "text/plain": [
       "'a'"
      ]
     },
     "execution_count": 9,
     "metadata": {},
     "output_type": "execute_result"
    }
   ],
   "source": [
    "s[0]"
   ]
  },
  {
   "cell_type": "code",
   "execution_count": 10,
   "id": "0a2c1c07",
   "metadata": {},
   "outputs": [
    {
     "data": {
      "text/plain": [
       "'k'"
      ]
     },
     "execution_count": 10,
     "metadata": {},
     "output_type": "execute_result"
    }
   ],
   "source": [
    "s[10]"
   ]
  },
  {
   "cell_type": "code",
   "execution_count": 11,
   "id": "129ff2ab",
   "metadata": {},
   "outputs": [
    {
     "ename": "SyntaxError",
     "evalue": "invalid syntax (1085298815.py, line 1)",
     "output_type": "error",
     "traceback": [
      "\u001b[1;36m  Cell \u001b[1;32mIn[11], line 1\u001b[1;36m\u001b[0m\n\u001b[1;33m    s[]\u001b[0m\n\u001b[1;37m      ^\u001b[0m\n\u001b[1;31mSyntaxError\u001b[0m\u001b[1;31m:\u001b[0m invalid syntax\n"
     ]
    }
   ],
   "source": [
    "s[]"
   ]
  },
  {
   "cell_type": "code",
   "execution_count": 12,
   "id": "b0378ccc",
   "metadata": {},
   "outputs": [
    {
     "data": {
      "text/plain": [
       "'abcdefghijk'"
      ]
     },
     "execution_count": 12,
     "metadata": {},
     "output_type": "execute_result"
    }
   ],
   "source": [
    "s[:]"
   ]
  },
  {
   "cell_type": "code",
   "execution_count": 13,
   "id": "266d0b7b",
   "metadata": {},
   "outputs": [
    {
     "data": {
      "text/plain": [
       "'abcdefghijk'"
      ]
     },
     "execution_count": 13,
     "metadata": {},
     "output_type": "execute_result"
    }
   ],
   "source": [
    "s[0:]"
   ]
  },
  {
   "cell_type": "code",
   "execution_count": 14,
   "id": "43f18b13",
   "metadata": {},
   "outputs": [
    {
     "data": {
      "text/plain": [
       "'fghijk'"
      ]
     },
     "execution_count": 14,
     "metadata": {},
     "output_type": "execute_result"
    }
   ],
   "source": [
    "s[5:]"
   ]
  },
  {
   "cell_type": "code",
   "execution_count": 15,
   "id": "831a147d",
   "metadata": {},
   "outputs": [
    {
     "data": {
      "text/plain": [
       "'abcde'"
      ]
     },
     "execution_count": 15,
     "metadata": {},
     "output_type": "execute_result"
    }
   ],
   "source": [
    "s[:5]"
   ]
  },
  {
   "cell_type": "code",
   "execution_count": 16,
   "id": "1d764a1c",
   "metadata": {},
   "outputs": [
    {
     "data": {
      "text/plain": [
       "'def'"
      ]
     },
     "execution_count": 16,
     "metadata": {},
     "output_type": "execute_result"
    }
   ],
   "source": [
    "s[3:6]"
   ]
  },
  {
   "cell_type": "code",
   "execution_count": 17,
   "id": "6a599b87",
   "metadata": {},
   "outputs": [
    {
     "data": {
      "text/plain": [
       "'abcdefghijk'"
      ]
     },
     "execution_count": 17,
     "metadata": {},
     "output_type": "execute_result"
    }
   ],
   "source": [
    "s"
   ]
  },
  {
   "cell_type": "code",
   "execution_count": 18,
   "id": "c6528436",
   "metadata": {},
   "outputs": [
    {
     "data": {
      "text/plain": [
       "'ijk'"
      ]
     },
     "execution_count": 18,
     "metadata": {},
     "output_type": "execute_result"
    }
   ],
   "source": [
    "s[8:]"
   ]
  },
  {
   "cell_type": "code",
   "execution_count": 19,
   "id": "29a4f63d",
   "metadata": {},
   "outputs": [
    {
     "data": {
      "text/plain": [
       "'ijk'"
      ]
     },
     "execution_count": 19,
     "metadata": {},
     "output_type": "execute_result"
    }
   ],
   "source": [
    "s[8:11]"
   ]
  },
  {
   "cell_type": "code",
   "execution_count": 20,
   "id": "2370c454",
   "metadata": {},
   "outputs": [
    {
     "data": {
      "text/plain": [
       "'abcdefghijk'"
      ]
     },
     "execution_count": 20,
     "metadata": {},
     "output_type": "execute_result"
    }
   ],
   "source": [
    "s"
   ]
  },
  {
   "cell_type": "code",
   "execution_count": 21,
   "id": "ebbd591d",
   "metadata": {},
   "outputs": [
    {
     "ename": "IndexError",
     "evalue": "string index out of range",
     "output_type": "error",
     "traceback": [
      "\u001b[1;31m---------------------------------------------------------------------------\u001b[0m",
      "\u001b[1;31mIndexError\u001b[0m                                Traceback (most recent call last)",
      "Cell \u001b[1;32mIn[21], line 1\u001b[0m\n\u001b[1;32m----> 1\u001b[0m \u001b[43ms\u001b[49m\u001b[43m[\u001b[49m\u001b[38;5;241;43m12\u001b[39;49m\u001b[43m]\u001b[49m\n",
      "\u001b[1;31mIndexError\u001b[0m: string index out of range"
     ]
    }
   ],
   "source": [
    "s[12]"
   ]
  },
  {
   "cell_type": "code",
   "execution_count": 22,
   "id": "8c830d97",
   "metadata": {},
   "outputs": [
    {
     "ename": "IndexError",
     "evalue": "string index out of range",
     "output_type": "error",
     "traceback": [
      "\u001b[1;31m---------------------------------------------------------------------------\u001b[0m",
      "\u001b[1;31mIndexError\u001b[0m                                Traceback (most recent call last)",
      "Cell \u001b[1;32mIn[22], line 1\u001b[0m\n\u001b[1;32m----> 1\u001b[0m \u001b[43ms\u001b[49m\u001b[43m[\u001b[49m\u001b[38;5;241;43m11\u001b[39;49m\u001b[43m]\u001b[49m\n",
      "\u001b[1;31mIndexError\u001b[0m: string index out of range"
     ]
    }
   ],
   "source": [
    "s[11]"
   ]
  },
  {
   "cell_type": "code",
   "execution_count": 23,
   "id": "2a982bbb",
   "metadata": {},
   "outputs": [
    {
     "ename": "IndexError",
     "evalue": "string index out of range",
     "output_type": "error",
     "traceback": [
      "\u001b[1;31m---------------------------------------------------------------------------\u001b[0m",
      "\u001b[1;31mIndexError\u001b[0m                                Traceback (most recent call last)",
      "Cell \u001b[1;32mIn[23], line 1\u001b[0m\n\u001b[1;32m----> 1\u001b[0m \u001b[43ms\u001b[49m\u001b[43m[\u001b[49m\u001b[38;5;241;43m20\u001b[39;49m\u001b[43m]\u001b[49m\n",
      "\u001b[1;31mIndexError\u001b[0m: string index out of range"
     ]
    }
   ],
   "source": [
    "s[20]"
   ]
  },
  {
   "cell_type": "code",
   "execution_count": 24,
   "id": "967d3763",
   "metadata": {},
   "outputs": [
    {
     "data": {
      "text/plain": [
       "'abcdefghijk'"
      ]
     },
     "execution_count": 24,
     "metadata": {},
     "output_type": "execute_result"
    }
   ],
   "source": [
    "s"
   ]
  },
  {
   "cell_type": "code",
   "execution_count": 25,
   "id": "52c6c3df",
   "metadata": {},
   "outputs": [
    {
     "data": {
      "text/plain": [
       "'acegi'"
      ]
     },
     "execution_count": 25,
     "metadata": {},
     "output_type": "execute_result"
    }
   ],
   "source": [
    "s[0:10:2]"
   ]
  },
  {
   "cell_type": "code",
   "execution_count": 26,
   "id": "721954ad",
   "metadata": {},
   "outputs": [
    {
     "data": {
      "text/plain": [
       "'abcdefghijk'"
      ]
     },
     "execution_count": 26,
     "metadata": {},
     "output_type": "execute_result"
    }
   ],
   "source": [
    "s"
   ]
  },
  {
   "cell_type": "code",
   "execution_count": 27,
   "id": "7c1799cf",
   "metadata": {},
   "outputs": [
    {
     "data": {
      "text/plain": [
       "'cf'"
      ]
     },
     "execution_count": 27,
     "metadata": {},
     "output_type": "execute_result"
    }
   ],
   "source": [
    "s[2:6:3]"
   ]
  },
  {
   "cell_type": "code",
   "execution_count": 29,
   "id": "7a17e5fd",
   "metadata": {},
   "outputs": [
    {
     "data": {
      "text/plain": [
       "'ce'"
      ]
     },
     "execution_count": 29,
     "metadata": {},
     "output_type": "execute_result"
    }
   ],
   "source": [
    "s[2:5:2]"
   ]
  },
  {
   "cell_type": "code",
   "execution_count": 31,
   "id": "84b47436",
   "metadata": {},
   "outputs": [
    {
     "data": {
      "text/plain": [
       "'ceg'"
      ]
     },
     "execution_count": 31,
     "metadata": {},
     "output_type": "execute_result"
    }
   ],
   "source": [
    "s[2:7:2]"
   ]
  },
  {
   "cell_type": "code",
   "execution_count": 32,
   "id": "9409fe9f",
   "metadata": {},
   "outputs": [
    {
     "data": {
      "text/plain": [
       "'c'"
      ]
     },
     "execution_count": 32,
     "metadata": {},
     "output_type": "execute_result"
    }
   ],
   "source": [
    "s[2:5:3]"
   ]
  },
  {
   "cell_type": "code",
   "execution_count": 34,
   "id": "a77e2f7a",
   "metadata": {},
   "outputs": [
    {
     "data": {
      "text/plain": [
       "'ceg'"
      ]
     },
     "execution_count": 34,
     "metadata": {},
     "output_type": "execute_result"
    }
   ],
   "source": [
    "s[2:7:2]"
   ]
  },
  {
   "cell_type": "code",
   "execution_count": 35,
   "id": "3db37045",
   "metadata": {},
   "outputs": [
    {
     "data": {
      "text/plain": [
       "'abcdefghijk'"
      ]
     },
     "execution_count": 35,
     "metadata": {},
     "output_type": "execute_result"
    }
   ],
   "source": [
    "s"
   ]
  },
  {
   "cell_type": "code",
   "execution_count": 37,
   "id": "377f1617",
   "metadata": {},
   "outputs": [
    {
     "data": {
      "text/plain": [
       "'beh'"
      ]
     },
     "execution_count": 37,
     "metadata": {},
     "output_type": "execute_result"
    }
   ],
   "source": [
    "s[1:8:3]"
   ]
  },
  {
   "cell_type": "code",
   "execution_count": 38,
   "id": "adbb13ea",
   "metadata": {},
   "outputs": [
    {
     "data": {
      "text/plain": [
       "'beh'"
      ]
     },
     "execution_count": 38,
     "metadata": {},
     "output_type": "execute_result"
    }
   ],
   "source": [
    "s[1:9:3]"
   ]
  },
  {
   "cell_type": "code",
   "execution_count": 39,
   "id": "027958f3",
   "metadata": {},
   "outputs": [
    {
     "data": {
      "text/plain": [
       "'abcdefghijk'"
      ]
     },
     "execution_count": 39,
     "metadata": {},
     "output_type": "execute_result"
    }
   ],
   "source": [
    "s[0:11]"
   ]
  },
  {
   "cell_type": "code",
   "execution_count": 40,
   "id": "d57b14a7",
   "metadata": {},
   "outputs": [
    {
     "data": {
      "text/plain": [
       "'abcdefghijk'"
      ]
     },
     "execution_count": 40,
     "metadata": {},
     "output_type": "execute_result"
    }
   ],
   "source": [
    "s[0: ]"
   ]
  },
  {
   "cell_type": "code",
   "execution_count": 42,
   "id": "86777b12",
   "metadata": {},
   "outputs": [
    {
     "data": {
      "text/plain": [
       "'ak'"
      ]
     },
     "execution_count": 42,
     "metadata": {},
     "output_type": "execute_result"
    }
   ],
   "source": [
    "s[0:11:10]"
   ]
  },
  {
   "cell_type": "code",
   "execution_count": 45,
   "id": "a90d773c",
   "metadata": {},
   "outputs": [
    {
     "data": {
      "text/plain": [
       "'ak'"
      ]
     },
     "execution_count": 45,
     "metadata": {},
     "output_type": "execute_result"
    }
   ],
   "source": [
    "s[0:11:10]"
   ]
  },
  {
   "cell_type": "code",
   "execution_count": 46,
   "id": "4759118f",
   "metadata": {},
   "outputs": [
    {
     "data": {
      "text/plain": [
       "'abcdefghijk'"
      ]
     },
     "execution_count": 46,
     "metadata": {},
     "output_type": "execute_result"
    }
   ],
   "source": [
    "s"
   ]
  },
  {
   "cell_type": "code",
   "execution_count": 47,
   "id": "e75474b4",
   "metadata": {},
   "outputs": [
    {
     "ename": "IndexError",
     "evalue": "string index out of range",
     "output_type": "error",
     "traceback": [
      "\u001b[1;31m---------------------------------------------------------------------------\u001b[0m",
      "\u001b[1;31mIndexError\u001b[0m                                Traceback (most recent call last)",
      "Cell \u001b[1;32mIn[47], line 1\u001b[0m\n\u001b[1;32m----> 1\u001b[0m \u001b[43ms\u001b[49m\u001b[43m[\u001b[49m\u001b[38;5;241;43m20\u001b[39;49m\u001b[43m]\u001b[49m\n",
      "\u001b[1;31mIndexError\u001b[0m: string index out of range"
     ]
    }
   ],
   "source": [
    "s[20]"
   ]
  },
  {
   "cell_type": "code",
   "execution_count": 48,
   "id": "f7946593",
   "metadata": {},
   "outputs": [
    {
     "data": {
      "text/plain": [
       "''"
      ]
     },
     "execution_count": 48,
     "metadata": {},
     "output_type": "execute_result"
    }
   ],
   "source": [
    "s[20:50]"
   ]
  },
  {
   "cell_type": "code",
   "execution_count": 49,
   "id": "bdf5b820",
   "metadata": {},
   "outputs": [
    {
     "data": {
      "text/plain": [
       "''"
      ]
     },
     "execution_count": 49,
     "metadata": {},
     "output_type": "execute_result"
    }
   ],
   "source": [
    "s[500:2000]"
   ]
  },
  {
   "cell_type": "code",
   "execution_count": 50,
   "id": "0483a538",
   "metadata": {},
   "outputs": [
    {
     "ename": "IndexError",
     "evalue": "string index out of range",
     "output_type": "error",
     "traceback": [
      "\u001b[1;31m---------------------------------------------------------------------------\u001b[0m",
      "\u001b[1;31mIndexError\u001b[0m                                Traceback (most recent call last)",
      "Cell \u001b[1;32mIn[50], line 1\u001b[0m\n\u001b[1;32m----> 1\u001b[0m \u001b[43ms\u001b[49m\u001b[43m[\u001b[49m\u001b[38;5;241;43m500\u001b[39;49m\u001b[43m]\u001b[49m\n",
      "\u001b[1;31mIndexError\u001b[0m: string index out of range"
     ]
    }
   ],
   "source": [
    "s[500]"
   ]
  },
  {
   "cell_type": "code",
   "execution_count": 51,
   "id": "00f6301c",
   "metadata": {},
   "outputs": [
    {
     "data": {
      "text/plain": [
       "'abcdefghijk'"
      ]
     },
     "execution_count": 51,
     "metadata": {},
     "output_type": "execute_result"
    }
   ],
   "source": [
    "s"
   ]
  },
  {
   "cell_type": "code",
   "execution_count": 52,
   "id": "6124ed0c",
   "metadata": {},
   "outputs": [
    {
     "data": {
      "text/plain": [
       "'cde'"
      ]
     },
     "execution_count": 52,
     "metadata": {},
     "output_type": "execute_result"
    }
   ],
   "source": [
    "s[2:5]    #Slice Notation"
   ]
  },
  {
   "cell_type": "code",
   "execution_count": 53,
   "id": "8673f075",
   "metadata": {},
   "outputs": [
    {
     "ename": "IndexError",
     "evalue": "string index out of range",
     "output_type": "error",
     "traceback": [
      "\u001b[1;31m---------------------------------------------------------------------------\u001b[0m",
      "\u001b[1;31mIndexError\u001b[0m                                Traceback (most recent call last)",
      "Cell \u001b[1;32mIn[53], line 1\u001b[0m\n\u001b[1;32m----> 1\u001b[0m \u001b[43ms\u001b[49m\u001b[43m[\u001b[49m\u001b[38;5;241;43m20\u001b[39;49m\u001b[43m]\u001b[49m\n",
      "\u001b[1;31mIndexError\u001b[0m: string index out of range"
     ]
    }
   ],
   "source": [
    "s[20]"
   ]
  },
  {
   "cell_type": "code",
   "execution_count": 54,
   "id": "0b99e2da",
   "metadata": {},
   "outputs": [
    {
     "data": {
      "text/plain": [
       "''"
      ]
     },
     "execution_count": 54,
     "metadata": {},
     "output_type": "execute_result"
    }
   ],
   "source": [
    "s[20:]"
   ]
  },
  {
   "cell_type": "code",
   "execution_count": 55,
   "id": "feb12d3f",
   "metadata": {},
   "outputs": [
    {
     "data": {
      "text/plain": [
       "''"
      ]
     },
     "execution_count": 55,
     "metadata": {},
     "output_type": "execute_result"
    }
   ],
   "source": [
    "s[20:50]"
   ]
  },
  {
   "cell_type": "code",
   "execution_count": 56,
   "id": "823cf02d",
   "metadata": {},
   "outputs": [
    {
     "data": {
      "text/plain": [
       "'abcdefghijk'"
      ]
     },
     "execution_count": 56,
     "metadata": {},
     "output_type": "execute_result"
    }
   ],
   "source": [
    "s"
   ]
  },
  {
   "cell_type": "code",
   "execution_count": 57,
   "id": "e69bb320",
   "metadata": {},
   "outputs": [
    {
     "data": {
      "text/plain": [
       "''"
      ]
     },
     "execution_count": 57,
     "metadata": {},
     "output_type": "execute_result"
    }
   ],
   "source": [
    "s[2000:500000]"
   ]
  },
  {
   "cell_type": "code",
   "execution_count": 58,
   "id": "8510e2b9",
   "metadata": {},
   "outputs": [
    {
     "data": {
      "text/plain": [
       "'abcdefghijk'"
      ]
     },
     "execution_count": 58,
     "metadata": {},
     "output_type": "execute_result"
    }
   ],
   "source": [
    "s"
   ]
  },
  {
   "cell_type": "code",
   "execution_count": 59,
   "id": "565e96b8",
   "metadata": {},
   "outputs": [
    {
     "data": {
      "text/plain": [
       "'k'"
      ]
     },
     "execution_count": 59,
     "metadata": {},
     "output_type": "execute_result"
    }
   ],
   "source": [
    "s[-1]"
   ]
  },
  {
   "cell_type": "code",
   "execution_count": 60,
   "id": "30a029a6",
   "metadata": {},
   "outputs": [
    {
     "data": {
      "text/plain": [
       "'k'"
      ]
     },
     "execution_count": 60,
     "metadata": {},
     "output_type": "execute_result"
    }
   ],
   "source": [
    "s[10]"
   ]
  },
  {
   "cell_type": "code",
   "execution_count": 61,
   "id": "95de2709",
   "metadata": {},
   "outputs": [
    {
     "data": {
      "text/plain": [
       "'a'"
      ]
     },
     "execution_count": 61,
     "metadata": {},
     "output_type": "execute_result"
    }
   ],
   "source": [
    "s[-11]"
   ]
  },
  {
   "cell_type": "code",
   "execution_count": 62,
   "id": "972edcf1",
   "metadata": {},
   "outputs": [
    {
     "data": {
      "text/plain": [
       "'abcdefghijk'"
      ]
     },
     "execution_count": 62,
     "metadata": {},
     "output_type": "execute_result"
    }
   ],
   "source": [
    "s"
   ]
  },
  {
   "cell_type": "code",
   "execution_count": 63,
   "id": "8d48597c",
   "metadata": {},
   "outputs": [
    {
     "data": {
      "text/plain": [
       "''"
      ]
     },
     "execution_count": 63,
     "metadata": {},
     "output_type": "execute_result"
    }
   ],
   "source": [
    "s[-2:-8]"
   ]
  },
  {
   "cell_type": "code",
   "execution_count": 64,
   "id": "5dfec51d",
   "metadata": {},
   "outputs": [
    {
     "data": {
      "text/plain": [
       "''"
      ]
     },
     "execution_count": 64,
     "metadata": {},
     "output_type": "execute_result"
    }
   ],
   "source": [
    "s[-2:-8:1]"
   ]
  },
  {
   "cell_type": "code",
   "execution_count": 65,
   "id": "f2ef632c",
   "metadata": {},
   "outputs": [
    {
     "data": {
      "text/plain": [
       "'jihgfe'"
      ]
     },
     "execution_count": 65,
     "metadata": {},
     "output_type": "execute_result"
    }
   ],
   "source": [
    "s[-2:-8:-1]"
   ]
  },
  {
   "cell_type": "code",
   "execution_count": 66,
   "id": "46d3305b",
   "metadata": {},
   "outputs": [
    {
     "data": {
      "text/plain": [
       "'abcdefghijk'"
      ]
     },
     "execution_count": 66,
     "metadata": {},
     "output_type": "execute_result"
    }
   ],
   "source": [
    "s"
   ]
  },
  {
   "cell_type": "code",
   "execution_count": 67,
   "id": "5aed073a",
   "metadata": {},
   "outputs": [
    {
     "data": {
      "text/plain": [
       "'efg'"
      ]
     },
     "execution_count": 67,
     "metadata": {},
     "output_type": "execute_result"
    }
   ],
   "source": [
    "s[-7:7]"
   ]
  },
  {
   "cell_type": "code",
   "execution_count": 68,
   "id": "f82cdf51",
   "metadata": {},
   "outputs": [
    {
     "data": {
      "text/plain": [
       "'abcdefghijk'"
      ]
     },
     "execution_count": 68,
     "metadata": {},
     "output_type": "execute_result"
    }
   ],
   "source": [
    "s"
   ]
  },
  {
   "cell_type": "code",
   "execution_count": 69,
   "id": "5bc33742",
   "metadata": {},
   "outputs": [
    {
     "data": {
      "text/plain": [
       "''"
      ]
     },
     "execution_count": 69,
     "metadata": {},
     "output_type": "execute_result"
    }
   ],
   "source": [
    "s[-7:4]"
   ]
  },
  {
   "cell_type": "code",
   "execution_count": 70,
   "id": "6c772dc1",
   "metadata": {},
   "outputs": [
    {
     "data": {
      "text/plain": [
       "'abcdefghijk'"
      ]
     },
     "execution_count": 70,
     "metadata": {},
     "output_type": "execute_result"
    }
   ],
   "source": [
    "s"
   ]
  },
  {
   "cell_type": "code",
   "execution_count": 71,
   "id": "16ebc486",
   "metadata": {},
   "outputs": [
    {
     "data": {
      "text/plain": [
       "''"
      ]
     },
     "execution_count": 71,
     "metadata": {},
     "output_type": "execute_result"
    }
   ],
   "source": [
    "s[5:-3:-2]"
   ]
  },
  {
   "cell_type": "code",
   "execution_count": 72,
   "id": "bf35f033",
   "metadata": {},
   "outputs": [
    {
     "data": {
      "text/plain": [
       "'fh'"
      ]
     },
     "execution_count": 72,
     "metadata": {},
     "output_type": "execute_result"
    }
   ],
   "source": [
    "s[5:-3:2]"
   ]
  },
  {
   "cell_type": "code",
   "execution_count": 73,
   "id": "386a9e67",
   "metadata": {},
   "outputs": [
    {
     "data": {
      "text/plain": [
       "'abcdefghijk'"
      ]
     },
     "execution_count": 73,
     "metadata": {},
     "output_type": "execute_result"
    }
   ],
   "source": [
    "s"
   ]
  },
  {
   "cell_type": "code",
   "execution_count": 74,
   "id": "f920135f",
   "metadata": {},
   "outputs": [
    {
     "data": {
      "text/plain": [
       "'kjihgfedcba'"
      ]
     },
     "execution_count": 74,
     "metadata": {},
     "output_type": "execute_result"
    }
   ],
   "source": [
    "s[::-1]"
   ]
  },
  {
   "cell_type": "code",
   "execution_count": 75,
   "id": "7f4908d9",
   "metadata": {},
   "outputs": [],
   "source": [
    "name=\"Rohit\""
   ]
  },
  {
   "cell_type": "code",
   "execution_count": 76,
   "id": "dfc8e6bf",
   "metadata": {},
   "outputs": [
    {
     "data": {
      "text/plain": [
       "'tihoR'"
      ]
     },
     "execution_count": 76,
     "metadata": {},
     "output_type": "execute_result"
    }
   ],
   "source": [
    "name[::-1]"
   ]
  },
  {
   "cell_type": "code",
   "execution_count": 77,
   "id": "ef99ecbc",
   "metadata": {},
   "outputs": [
    {
     "data": {
      "text/plain": [
       "'abcdefghijk'"
      ]
     },
     "execution_count": 77,
     "metadata": {},
     "output_type": "execute_result"
    }
   ],
   "source": [
    "s"
   ]
  },
  {
   "cell_type": "code",
   "execution_count": 78,
   "id": "6b107f40",
   "metadata": {},
   "outputs": [],
   "source": [
    "s=\"Hello Everyone, we are Learning, Python & it requires Practice\""
   ]
  },
  {
   "cell_type": "code",
   "execution_count": 79,
   "id": "80184e66",
   "metadata": {},
   "outputs": [
    {
     "data": {
      "text/plain": [
       "'Hello Everyone, we are Learning, Python & it requires Practice'"
      ]
     },
     "execution_count": 79,
     "metadata": {},
     "output_type": "execute_result"
    }
   ],
   "source": [
    "s"
   ]
  },
  {
   "cell_type": "code",
   "execution_count": 81,
   "id": "7856b0d4",
   "metadata": {},
   "outputs": [
    {
     "data": {
      "text/plain": [
       "str"
      ]
     },
     "execution_count": 81,
     "metadata": {},
     "output_type": "execute_result"
    }
   ],
   "source": [
    "type(s)"
   ]
  },
  {
   "cell_type": "code",
   "execution_count": 82,
   "id": "49c67a19",
   "metadata": {},
   "outputs": [
    {
     "data": {
      "text/plain": [
       "'HELLO EVERYONE, WE ARE LEARNING, PYTHON & IT REQUIRES PRACTICE'"
      ]
     },
     "execution_count": 82,
     "metadata": {},
     "output_type": "execute_result"
    }
   ],
   "source": [
    "s.upper()"
   ]
  },
  {
   "cell_type": "code",
   "execution_count": 83,
   "id": "47afd51b",
   "metadata": {},
   "outputs": [
    {
     "data": {
      "text/plain": [
       "'hello everyone, we are learning, python & it requires practice'"
      ]
     },
     "execution_count": 83,
     "metadata": {},
     "output_type": "execute_result"
    }
   ],
   "source": [
    "s.lower()"
   ]
  },
  {
   "cell_type": "code",
   "execution_count": 84,
   "id": "c89ada7a",
   "metadata": {},
   "outputs": [
    {
     "data": {
      "text/plain": [
       "'Hello Everyone, we are Learning, Python & it requires Practice'"
      ]
     },
     "execution_count": 84,
     "metadata": {},
     "output_type": "execute_result"
    }
   ],
   "source": [
    "s"
   ]
  },
  {
   "cell_type": "code",
   "execution_count": 85,
   "id": "bf1a0696",
   "metadata": {},
   "outputs": [
    {
     "data": {
      "text/plain": [
       "'Hello Everyone, We Are Learning, Python & It Requires Practice'"
      ]
     },
     "execution_count": 85,
     "metadata": {},
     "output_type": "execute_result"
    }
   ],
   "source": [
    "s.title()"
   ]
  },
  {
   "cell_type": "code",
   "execution_count": 86,
   "id": "21dbc7c9",
   "metadata": {},
   "outputs": [
    {
     "data": {
      "text/plain": [
       "'Hello everyone, we are learning, python & it requires practice'"
      ]
     },
     "execution_count": 86,
     "metadata": {},
     "output_type": "execute_result"
    }
   ],
   "source": [
    "s.capitalize()"
   ]
  },
  {
   "cell_type": "code",
   "execution_count": 87,
   "id": "7a0760d7",
   "metadata": {},
   "outputs": [
    {
     "data": {
      "text/plain": [
       "33"
      ]
     },
     "execution_count": 87,
     "metadata": {},
     "output_type": "execute_result"
    }
   ],
   "source": [
    "s.find('P')"
   ]
  },
  {
   "cell_type": "code",
   "execution_count": 88,
   "id": "a067006e",
   "metadata": {},
   "outputs": [
    {
     "data": {
      "text/plain": [
       "'Hello Everyone, we are Learning, Python & it requires Practice'"
      ]
     },
     "execution_count": 88,
     "metadata": {},
     "output_type": "execute_result"
    }
   ],
   "source": [
    "s"
   ]
  },
  {
   "cell_type": "code",
   "execution_count": 90,
   "id": "72e8a87e",
   "metadata": {},
   "outputs": [
    {
     "data": {
      "text/plain": [
       "54"
      ]
     },
     "execution_count": 90,
     "metadata": {},
     "output_type": "execute_result"
    }
   ],
   "source": [
    "s.find('P',34,55)"
   ]
  },
  {
   "cell_type": "code",
   "execution_count": 91,
   "id": "86087eee",
   "metadata": {},
   "outputs": [
    {
     "data": {
      "text/plain": [
       "-1"
      ]
     },
     "execution_count": 91,
     "metadata": {},
     "output_type": "execute_result"
    }
   ],
   "source": [
    "s.find('P',34,53)"
   ]
  },
  {
   "cell_type": "code",
   "execution_count": 92,
   "id": "30c13c02",
   "metadata": {},
   "outputs": [
    {
     "data": {
      "text/plain": [
       "'Hello Everyone, we are Learning, Python & it requires Practice'"
      ]
     },
     "execution_count": 92,
     "metadata": {},
     "output_type": "execute_result"
    }
   ],
   "source": [
    "s"
   ]
  },
  {
   "cell_type": "code",
   "execution_count": 93,
   "id": "6c5959c5",
   "metadata": {},
   "outputs": [
    {
     "data": {
      "text/plain": [
       "2"
      ]
     },
     "execution_count": 93,
     "metadata": {},
     "output_type": "execute_result"
    }
   ],
   "source": [
    "s.count('P')"
   ]
  },
  {
   "cell_type": "code",
   "execution_count": 94,
   "id": "9d81072b",
   "metadata": {},
   "outputs": [
    {
     "data": {
      "text/plain": [
       "9"
      ]
     },
     "execution_count": 94,
     "metadata": {},
     "output_type": "execute_result"
    }
   ],
   "source": [
    "s.count(' ')"
   ]
  },
  {
   "cell_type": "code",
   "execution_count": 95,
   "id": "ecadb359",
   "metadata": {},
   "outputs": [
    {
     "data": {
      "text/plain": [
       "'Hello Everyone, we are Learning, Python & it requires Practice'"
      ]
     },
     "execution_count": 95,
     "metadata": {},
     "output_type": "execute_result"
    }
   ],
   "source": [
    "s"
   ]
  },
  {
   "cell_type": "code",
   "execution_count": 96,
   "id": "1ea3f99f",
   "metadata": {},
   "outputs": [
    {
     "data": {
      "text/plain": [
       "6"
      ]
     },
     "execution_count": 96,
     "metadata": {},
     "output_type": "execute_result"
    }
   ],
   "source": [
    "s.index('E')"
   ]
  },
  {
   "cell_type": "code",
   "execution_count": 97,
   "id": "d21be494",
   "metadata": {},
   "outputs": [
    {
     "data": {
      "text/plain": [
       "False"
      ]
     },
     "execution_count": 97,
     "metadata": {},
     "output_type": "execute_result"
    }
   ],
   "source": [
    "s.isalnum()"
   ]
  },
  {
   "cell_type": "code",
   "execution_count": 99,
   "id": "2a26b0c7",
   "metadata": {},
   "outputs": [
    {
     "data": {
      "text/plain": [
       "False"
      ]
     },
     "execution_count": 99,
     "metadata": {},
     "output_type": "execute_result"
    }
   ],
   "source": [
    "s.isalpha()"
   ]
  },
  {
   "cell_type": "code",
   "execution_count": 100,
   "id": "5d0124f2",
   "metadata": {},
   "outputs": [
    {
     "data": {
      "text/plain": [
       "False"
      ]
     },
     "execution_count": 100,
     "metadata": {},
     "output_type": "execute_result"
    }
   ],
   "source": [
    "s.isdigit()"
   ]
  },
  {
   "cell_type": "code",
   "execution_count": 101,
   "id": "5714df11",
   "metadata": {},
   "outputs": [
    {
     "data": {
      "text/plain": [
       "True"
      ]
     },
     "execution_count": 101,
     "metadata": {},
     "output_type": "execute_result"
    }
   ],
   "source": [
    "'345'.isdigit()"
   ]
  },
  {
   "cell_type": "code",
   "execution_count": 102,
   "id": "67fac01d",
   "metadata": {},
   "outputs": [
    {
     "data": {
      "text/plain": [
       "'Hello Everyone, we are Learning, Python & it requires Practice'"
      ]
     },
     "execution_count": 102,
     "metadata": {},
     "output_type": "execute_result"
    }
   ],
   "source": [
    "s"
   ]
  },
  {
   "cell_type": "code",
   "execution_count": 103,
   "id": "042fce84",
   "metadata": {},
   "outputs": [
    {
     "data": {
      "text/plain": [
       "False"
      ]
     },
     "execution_count": 103,
     "metadata": {},
     "output_type": "execute_result"
    }
   ],
   "source": [
    "s.islower()"
   ]
  },
  {
   "cell_type": "code",
   "execution_count": 105,
   "id": "03ceae16",
   "metadata": {},
   "outputs": [
    {
     "data": {
      "text/plain": [
       "True"
      ]
     },
     "execution_count": 105,
     "metadata": {},
     "output_type": "execute_result"
    }
   ],
   "source": [
    "s.lower().islower()"
   ]
  },
  {
   "cell_type": "code",
   "execution_count": 106,
   "id": "48d13c86",
   "metadata": {},
   "outputs": [
    {
     "data": {
      "text/plain": [
       "'Hello Everyone, we are Learning, Python & it requires Practice'"
      ]
     },
     "execution_count": 106,
     "metadata": {},
     "output_type": "execute_result"
    }
   ],
   "source": [
    "s"
   ]
  },
  {
   "cell_type": "code",
   "execution_count": 107,
   "id": "a502a797",
   "metadata": {},
   "outputs": [
    {
     "data": {
      "text/plain": [
       "True"
      ]
     },
     "execution_count": 107,
     "metadata": {},
     "output_type": "execute_result"
    }
   ],
   "source": [
    "s.endswith('e')"
   ]
  },
  {
   "cell_type": "code",
   "execution_count": 108,
   "id": "0ad7b5bc",
   "metadata": {},
   "outputs": [
    {
     "data": {
      "text/plain": [
       "False"
      ]
     },
     "execution_count": 108,
     "metadata": {},
     "output_type": "execute_result"
    }
   ],
   "source": [
    "s.endswith('w')"
   ]
  },
  {
   "cell_type": "code",
   "execution_count": 109,
   "id": "4482147c",
   "metadata": {},
   "outputs": [],
   "source": [
    "a=50\n",
    "b=\"Sachin\""
   ]
  },
  {
   "cell_type": "code",
   "execution_count": 110,
   "id": "486d264f",
   "metadata": {},
   "outputs": [
    {
     "data": {
      "text/plain": [
       "'My number is 50 and my name is Sachin'"
      ]
     },
     "execution_count": 110,
     "metadata": {},
     "output_type": "execute_result"
    }
   ],
   "source": [
    "'My number is {} and my name is {}'.format(a,b)"
   ]
  },
  {
   "cell_type": "code",
   "execution_count": 111,
   "id": "51596e75",
   "metadata": {},
   "outputs": [
    {
     "data": {
      "text/plain": [
       "'My number is Sachin and my name is 50'"
      ]
     },
     "execution_count": 111,
     "metadata": {},
     "output_type": "execute_result"
    }
   ],
   "source": [
    "'My number is {} and my name is {}'.format(b,a)"
   ]
  },
  {
   "cell_type": "code",
   "execution_count": 112,
   "id": "240067c6",
   "metadata": {},
   "outputs": [
    {
     "data": {
      "text/plain": [
       "'My number is 50 and my name is Sachin Sachin Sachin Sachin'"
      ]
     },
     "execution_count": 112,
     "metadata": {},
     "output_type": "execute_result"
    }
   ],
   "source": [
    "'My number is {} and my name is {} {} {} {}'.format(a,b,b,b,b)"
   ]
  },
  {
   "cell_type": "code",
   "execution_count": 113,
   "id": "c9e1b2c0",
   "metadata": {},
   "outputs": [
    {
     "data": {
      "text/plain": [
       "'My number is 50 and my name is Sachin Sachin Sachin Sachin'"
      ]
     },
     "execution_count": 113,
     "metadata": {},
     "output_type": "execute_result"
    }
   ],
   "source": [
    "'My number is {one} and my name is {two} {two} {two} {two}'.format(one=a,two=b)"
   ]
  },
  {
   "cell_type": "code",
   "execution_count": 114,
   "id": "2f9b7b49",
   "metadata": {},
   "outputs": [],
   "source": [
    "a=True"
   ]
  },
  {
   "cell_type": "code",
   "execution_count": 115,
   "id": "9e530f3d",
   "metadata": {},
   "outputs": [],
   "source": [
    "b=False"
   ]
  },
  {
   "cell_type": "code",
   "execution_count": 116,
   "id": "bcf0562d",
   "metadata": {},
   "outputs": [
    {
     "data": {
      "text/plain": [
       "1"
      ]
     },
     "execution_count": 116,
     "metadata": {},
     "output_type": "execute_result"
    }
   ],
   "source": [
    "a+b"
   ]
  },
  {
   "cell_type": "code",
   "execution_count": 117,
   "id": "22a83d05",
   "metadata": {},
   "outputs": [
    {
     "data": {
      "text/plain": [
       "1"
      ]
     },
     "execution_count": 117,
     "metadata": {},
     "output_type": "execute_result"
    }
   ],
   "source": [
    "int(a)"
   ]
  },
  {
   "cell_type": "code",
   "execution_count": 118,
   "id": "66640949",
   "metadata": {},
   "outputs": [
    {
     "data": {
      "text/plain": [
       "0"
      ]
     },
     "execution_count": 118,
     "metadata": {},
     "output_type": "execute_result"
    }
   ],
   "source": [
    "int(b)"
   ]
  },
  {
   "cell_type": "code",
   "execution_count": 119,
   "id": "a2504468",
   "metadata": {},
   "outputs": [
    {
     "data": {
      "text/plain": [
       "1.0"
      ]
     },
     "execution_count": 119,
     "metadata": {},
     "output_type": "execute_result"
    }
   ],
   "source": [
    "float(a)"
   ]
  },
  {
   "cell_type": "code",
   "execution_count": 120,
   "id": "d4d78fad",
   "metadata": {},
   "outputs": [
    {
     "data": {
      "text/plain": [
       "0.0"
      ]
     },
     "execution_count": 120,
     "metadata": {},
     "output_type": "execute_result"
    }
   ],
   "source": [
    "float(b)"
   ]
  },
  {
   "cell_type": "code",
   "execution_count": 121,
   "id": "661f6c91",
   "metadata": {},
   "outputs": [
    {
     "data": {
      "text/plain": [
       "True"
      ]
     },
     "execution_count": 121,
     "metadata": {},
     "output_type": "execute_result"
    }
   ],
   "source": [
    "a"
   ]
  },
  {
   "cell_type": "code",
   "execution_count": 122,
   "id": "0365d0ea",
   "metadata": {},
   "outputs": [
    {
     "data": {
      "text/plain": [
       "bool"
      ]
     },
     "execution_count": 122,
     "metadata": {},
     "output_type": "execute_result"
    }
   ],
   "source": [
    "type(a)"
   ]
  },
  {
   "cell_type": "code",
   "execution_count": 123,
   "id": "14ddf1de",
   "metadata": {},
   "outputs": [
    {
     "data": {
      "text/plain": [
       "True"
      ]
     },
     "execution_count": 123,
     "metadata": {},
     "output_type": "execute_result"
    }
   ],
   "source": [
    "bool(1)"
   ]
  },
  {
   "cell_type": "code",
   "execution_count": 124,
   "id": "10f467a0",
   "metadata": {},
   "outputs": [
    {
     "data": {
      "text/plain": [
       "False"
      ]
     },
     "execution_count": 124,
     "metadata": {},
     "output_type": "execute_result"
    }
   ],
   "source": [
    "bool(0)"
   ]
  },
  {
   "cell_type": "code",
   "execution_count": 125,
   "id": "1fdb17ff",
   "metadata": {},
   "outputs": [
    {
     "data": {
      "text/plain": [
       "True"
      ]
     },
     "execution_count": 125,
     "metadata": {},
     "output_type": "execute_result"
    }
   ],
   "source": [
    "bool(-1)"
   ]
  },
  {
   "cell_type": "code",
   "execution_count": 126,
   "id": "8d07d56e",
   "metadata": {},
   "outputs": [
    {
     "data": {
      "text/plain": [
       "True"
      ]
     },
     "execution_count": 126,
     "metadata": {},
     "output_type": "execute_result"
    }
   ],
   "source": [
    "bool(5)"
   ]
  },
  {
   "cell_type": "code",
   "execution_count": 127,
   "id": "164e59f9",
   "metadata": {},
   "outputs": [
    {
     "data": {
      "text/plain": [
       "True"
      ]
     },
     "execution_count": 127,
     "metadata": {},
     "output_type": "execute_result"
    }
   ],
   "source": [
    "bool(45)"
   ]
  },
  {
   "cell_type": "code",
   "execution_count": 128,
   "id": "4f176c1b",
   "metadata": {},
   "outputs": [
    {
     "data": {
      "text/plain": [
       "True"
      ]
     },
     "execution_count": 128,
     "metadata": {},
     "output_type": "execute_result"
    }
   ],
   "source": [
    "bool(-45)"
   ]
  },
  {
   "cell_type": "code",
   "execution_count": 129,
   "id": "78202bf9",
   "metadata": {},
   "outputs": [
    {
     "data": {
      "text/plain": [
       "True"
      ]
     },
     "execution_count": 129,
     "metadata": {},
     "output_type": "execute_result"
    }
   ],
   "source": [
    "bool('hello')"
   ]
  },
  {
   "cell_type": "code",
   "execution_count": 130,
   "id": "7115a4ac",
   "metadata": {},
   "outputs": [
    {
     "data": {
      "text/plain": [
       "True"
      ]
     },
     "execution_count": 130,
     "metadata": {},
     "output_type": "execute_result"
    }
   ],
   "source": [
    "bool('d')"
   ]
  },
  {
   "cell_type": "code",
   "execution_count": 131,
   "id": "b2dd813f",
   "metadata": {},
   "outputs": [
    {
     "data": {
      "text/plain": [
       "False"
      ]
     },
     "execution_count": 131,
     "metadata": {},
     "output_type": "execute_result"
    }
   ],
   "source": [
    "bool('')"
   ]
  },
  {
   "cell_type": "code",
   "execution_count": 132,
   "id": "9ba1586f",
   "metadata": {},
   "outputs": [
    {
     "data": {
      "text/plain": [
       "True"
      ]
     },
     "execution_count": 132,
     "metadata": {},
     "output_type": "execute_result"
    }
   ],
   "source": [
    "bool(' ')"
   ]
  },
  {
   "cell_type": "code",
   "execution_count": 133,
   "id": "8efeae01",
   "metadata": {},
   "outputs": [
    {
     "data": {
      "text/plain": [
       "False"
      ]
     },
     "execution_count": 133,
     "metadata": {},
     "output_type": "execute_result"
    }
   ],
   "source": [
    "bool(0.0)"
   ]
  },
  {
   "cell_type": "code",
   "execution_count": 141,
   "id": "67fd1ecb",
   "metadata": {},
   "outputs": [
    {
     "name": "stdout",
     "output_type": "stream",
     "text": [
      "600\n"
     ]
    }
   ],
   "source": [
    "import pyttsx3\n",
    "engine=pyttsx3.init()\n",
    "\n",
    "\"\"\" RATE\"\"\"\n",
    "rate = engine.getProperty('rate')   # getting details of current speaking rate\n",
    "print (rate)                        #printing current voice rate\n",
    "engine.setProperty('rate', 200)     # setting up new voice rate\n",
    "\n",
    "\"\"\"VOICE\"\"\"\n",
    "voices = engine.getProperty('voices')       #getting details of current voice\n",
    "#engine.setProperty('voice', voices[0].id)  #changing index, changes voices. o for male\n",
    "engine.setProperty('voice', voices[1].id)   #changing index, changes voices. 1 for female\n",
    "\n",
    "engine.say(\"Hello everyone we are learning Python and it requires practice\")\n",
    "engine.runAndWait()"
   ]
  },
  {
   "cell_type": "code",
   "execution_count": 136,
   "id": "089cc90c",
   "metadata": {},
   "outputs": [
    {
     "name": "stdout",
     "output_type": "stream",
     "text": [
      "Requirement already satisfied: pyttsx3 in c:\\users\\yoges\\anaconda3\\lib\\site-packages (2.90)\n",
      "Requirement already satisfied: pywin32 in c:\\users\\yoges\\anaconda3\\lib\\site-packages (from pyttsx3) (305.1)\n",
      "Requirement already satisfied: comtypes in c:\\users\\yoges\\anaconda3\\lib\\site-packages (from pyttsx3) (1.2.0)\n",
      "Requirement already satisfied: pypiwin32 in c:\\users\\yoges\\anaconda3\\lib\\site-packages (from pyttsx3) (223)\n"
     ]
    }
   ],
   "source": [
    "!pip install pyttsx3"
   ]
  },
  {
   "cell_type": "code",
   "execution_count": 142,
   "id": "1916dfc9",
   "metadata": {},
   "outputs": [],
   "source": [
    "import os"
   ]
  },
  {
   "cell_type": "code",
   "execution_count": 143,
   "id": "5c5b0bed",
   "metadata": {},
   "outputs": [
    {
     "data": {
      "text/plain": [
       "'C:\\\\Users\\\\yoges'"
      ]
     },
     "execution_count": 143,
     "metadata": {},
     "output_type": "execute_result"
    }
   ],
   "source": [
    "pwd"
   ]
  },
  {
   "cell_type": "code",
   "execution_count": 144,
   "id": "29cfd7fa",
   "metadata": {},
   "outputs": [
    {
     "data": {
      "text/plain": [
       "'C:\\\\Users\\\\yoges'"
      ]
     },
     "execution_count": 144,
     "metadata": {},
     "output_type": "execute_result"
    }
   ],
   "source": [
    "os.getcwd()   #get current working directory"
   ]
  },
  {
   "cell_type": "code",
   "execution_count": 145,
   "id": "da74c1dd",
   "metadata": {},
   "outputs": [
    {
     "data": {
      "text/plain": [
       "'C:\\\\Users\\\\yoges'"
      ]
     },
     "execution_count": 145,
     "metadata": {},
     "output_type": "execute_result"
    }
   ],
   "source": [
    "pwd"
   ]
  },
  {
   "cell_type": "code",
   "execution_count": 147,
   "id": "71544d7b",
   "metadata": {},
   "outputs": [],
   "source": [
    "os.chdir(\"C:\\\\Users\\\\yoges\\\\OneDrive\\\\Desktop\")"
   ]
  },
  {
   "cell_type": "code",
   "execution_count": 148,
   "id": "d41749e9",
   "metadata": {},
   "outputs": [
    {
     "data": {
      "text/plain": [
       "'C:\\\\Users\\\\yoges\\\\OneDrive\\\\Desktop'"
      ]
     },
     "execution_count": 148,
     "metadata": {},
     "output_type": "execute_result"
    }
   ],
   "source": [
    "pwd"
   ]
  },
  {
   "cell_type": "code",
   "execution_count": 149,
   "id": "3be006f1",
   "metadata": {},
   "outputs": [],
   "source": [
    "os.chdir(\"C:\\\\Users\\\\yoges\")"
   ]
  },
  {
   "cell_type": "code",
   "execution_count": 150,
   "id": "4492a95b",
   "metadata": {},
   "outputs": [
    {
     "data": {
      "text/plain": [
       "'C:\\\\Users\\\\yoges'"
      ]
     },
     "execution_count": 150,
     "metadata": {},
     "output_type": "execute_result"
    }
   ],
   "source": [
    "pwd"
   ]
  },
  {
   "cell_type": "code",
   "execution_count": 151,
   "id": "f1bb4652",
   "metadata": {},
   "outputs": [
    {
     "name": "stdout",
     "output_type": "stream",
     "text": [
      " Volume in drive C is OS\n",
      " Volume Serial Number is 7255-0089\n",
      "\n",
      " Directory of C:\\Users\\yoges\n",
      "\n",
      "05-07-2024  20:49    <DIR>          .\n",
      "14-07-2023  10:54    <DIR>          ..\n",
      "14-12-2023  12:41    <DIR>          .astropy\n",
      "01-02-2024  08:28               164 .bash_history\n",
      "02-12-2023  14:46    <DIR>          .cache\n",
      "05-07-2024  20:50    <DIR>          .conda\n",
      "09-07-2023  12:10                25 .condarc\n",
      "09-07-2023  12:07    <DIR>          .continuum\n",
      "11-01-2024  15:20    <DIR>          .docker\n",
      "18-01-2024  11:48             7,188 .dotty_history\n",
      "02-12-2023  14:46    <DIR>          .eclipse\n",
      "01-02-2024  08:24                60 .gitconfig\n",
      "01-02-2024  08:41    <DIR>          .gnupg\n",
      "03-07-2024  20:09    <DIR>          .ipynb_checkpoints\n",
      "09-07-2023  12:12    <DIR>          .ipython\n",
      "18-04-2024  09:26    <DIR>          .jupyter\n",
      "18-04-2024  11:11    <DIR>          .keras\n",
      "01-02-2024  11:56                20 .lesshst\n",
      "26-07-2023  13:17    <DIR>          .matplotlib\n",
      "02-12-2023  14:46    <DIR>          .p2\n",
      "22-07-2023  12:19               371 .Rhistory\n",
      "04-01-2024  07:25    <DIR>          .sbt\n",
      "12-01-2024  10:35               268 .scala_history\n",
      "14-12-2023  12:46    <DIR>          .streamlit\n",
      "18-10-2023  15:40             7,277 11jarvis_assistant.ipynb\n",
      "14-05-2024  21:14            73,201 11May2024.ipynb\n",
      "18-05-2024  21:28           188,681 18May2024PandasPackage.ipynb\n",
      "26-05-2024  20:37         3,967,539 25May2024.ipynb\n",
      "30-05-2024  21:25         2,258,691 26May2024ZomatoUseCase.ipynb\n",
      "27-04-2024  21:35           155,538 27April2024.ipynb\n",
      "13-03-2024  21:36    <DIR>          2Pandas\n",
      "08-07-2023  18:27    <DIR>          3D Objects\n",
      "06-03-2024  20:48            27,434 3datetimeAndFileOperations (1).ipynb\n",
      "06-03-2024  11:03         4,286,903 51 B-Tech ENTC CBCS P2020 Sem III Fresher 19022024.pdf\n",
      "07-05-2024  21:09           665,023 7May2024.ipynb\n",
      "08-03-2024  21:14            74,109 8pmNumpy.ipynb\n",
      "09-12-2023  15:58           948,585 9Dec2023Application1.ipynb\n",
      "21-02-2024  14:42                68 abc.txt\n",
      "26-07-2023  09:05            16,085 Admission_Prediction.csv\n",
      "24-02-2024  09:13    <DIR>          ADMISSION_PREDICTION_PROJECT\n",
      "24-02-2024  09:12           883,811 ADMISSION_PREDICTION_PROJECT.zip\n",
      "26-07-2023  09:05             4,756 Advertising.csv\n",
      "09-07-2023  12:09    <DIR>          anaconda3\n",
      "14-07-2023  10:59    <DIR>          Contacts\n",
      "01-06-2024  21:13    <DIR>          Cristiano_Ronaldo\n",
      "04-03-2024  21:40         4,913,024 data.json\n",
      "23-06-2024  17:18            17,938 Day1.ipynb\n",
      "18-06-2024  17:00            89,800 Day1Session1.ipynb\n",
      "05-07-2024  20:49            65,556 Day1Session1B103.ipynb\n",
      "20-06-2024  12:34           403,511 Day2_Session.ipynb\n",
      "20-06-2024  11:25             5,288 day3.xlsx\n",
      "25-06-2024  12:20            14,129 day3F.ipynb\n",
      "26-07-2023  09:00            23,873 diabetes.csv\n",
      "08-07-2023  18:29    <DIR>          Documents\n",
      "04-07-2024  21:01    <DIR>          Downloads\n",
      "02-12-2023  14:36    <DIR>          eclipse\n",
      "02-12-2023  15:40    <DIR>          eclipse-workspace\n",
      "10-09-2023  15:49                51 example\n",
      "06-03-2024  11:59           210,098 example.pdf\n",
      "10-09-2023  15:49             5,508 Excel_Sample.xlsx\n",
      "14-07-2023  10:59    <DIR>          Favorites\n",
      "06-03-2024  13:38           156,745 fdp_session.ipynb\n",
      "01-06-2024  21:11    <DIR>          FIFA\n",
      "21-05-2024  20:41            12,376 fig1.png\n",
      "01-03-2024  21:21            27,062 FileHandling.ipynb\n",
      "15-03-2024  20:54            12,189 first_fig.png\n",
      "06-03-2024  20:34    <DIR>          first1\n",
      "02-12-2023  14:22               146 first1.java.txt\n",
      "01-03-2024  20:49               111 friday.txt\n",
      "18-04-2024  14:48    <DIR>          gan_images\n",
      "19-04-2024  11:33    <DIR>          GANNRNN\n",
      "18-04-2024  09:33    <DIR>          generative-adversarial-networks\n",
      "24-02-2024  16:07           618,969 i2it1.ipynb\n",
      "12-03-2024  07:15           524,982 ID_000000e27.dcm\n",
      "04-01-2024  10:16    <DIR>          IdeaProjects\n",
      "04-05-2024  20:07               146 India.txt\n",
      "15-03-2024  18:18    <DIR>          ITR\n",
      "07-04-2024  12:53    <DIR>          Letters\n",
      "14-07-2023  10:59    <DIR>          Links\n",
      "07-05-2024  19:48             3,127 map1.html\n",
      "07-05-2024  20:04             4,618 map2.html\n",
      "07-05-2024  20:58            80,959 map3.html\n",
      "09-07-2023  12:24    <DIR>          Microsoft\n",
      "28-02-2024  09:57                76 mit.txt\n",
      "29-02-2024  12:54           345,316 mit_adt2.ipynb\n",
      "14-07-2023  10:59    <DIR>          Music\n",
      "06-12-2023  20:53            38,201 ObjectOrientedProgramming.ipynb\n",
      "05-07-2024  10:48    <DIR>          OneDrive\n",
      "11-06-2024  21:15            62,500 OOP_11thJune2024.ipynb\n",
      "09-12-2023  21:56            53,347 oop_B92.ipynb\n",
      "25-07-2023  20:52    <DIR>          Postman\n",
      "02-12-2023  13:05            60,374 pvpit2Dec2023.ipynb\n",
      "18-08-2023  11:12    <DIR>          PycharmProjects\n",
      "17-01-2024  16:27           144,748 Python1.ipynb\n",
      "19-04-2024  06:34            11,558 RNNimdb.ipynb\n",
      "18-10-2023  16:28            58,793 s1.ipynb\n",
      "02-04-2024  22:00            72,172 s1_today.ipynb\n",
      "14-07-2023  10:59    <DIR>          Saved Games\n",
      "14-07-2023  10:59    <DIR>          Searches\n",
      "26-09-2023  21:44             4,030 Session1.ipynb\n",
      "12-03-2024  13:47            98,563 Session1_11March.ipynb\n",
      "28-10-2023  22:15            98,242 Session12.ipynb\n",
      "03-10-2023  22:16            86,423 Session2.ipynb\n",
      "20-04-2024  20:29             3,136 Session20April2024.ipynb\n",
      "06-10-2023  21:29            56,803 Session32.ipynb\n",
      "09-10-2023  21:14            34,419 Session33.ipynb\n",
      "04-05-2024  21:25           998,746 Session4May2024.ipynb\n",
      "07-10-2023  22:03            44,509 Session5.ipynb\n",
      "28-02-2024  21:12           196,548 Session6_8pm.ipynb\n",
      "06-04-2024  20:56            21,843 t1.png\n",
      "21-02-2024  15:04                86 Test.txt\n",
      "02-04-2024  21:53                 0 test10.txt\n",
      "02-04-2024  21:56                41 text10.txt\n",
      "12-03-2024  13:19                 0 today_dip.txt\n",
      "12-03-2024  13:27                92 today_dyp.txt\n",
      "08-11-2023  20:08            15,481 Today8Nov.png\n",
      "09-07-2023  12:14             1,356 Untitled.ipynb\n",
      "23-08-2023  08:02             1,874 Untitled1.ipynb\n",
      "23-10-2023  21:17            42,566 Untitled10.ipynb\n",
      "25-10-2023  21:17            60,784 Untitled11.ipynb\n",
      "26-10-2023  22:13            56,891 Untitled12.ipynb\n",
      "03-11-2023  21:12           173,141 Untitled13.ipynb\n",
      "04-11-2023  16:51            24,436 Untitled14.ipynb\n",
      "08-11-2023  20:18           351,721 Untitled15.ipynb\n",
      "25-11-2023  16:09             1,913 Untitled16.ipynb\n",
      "02-12-2023  21:56         4,062,411 Untitled17.ipynb\n",
      "09-12-2023  20:27               903 Untitled18.ipynb\n",
      "25-12-2023  19:25               589 Untitled19.ipynb\n",
      "27-08-2023  16:45            62,138 Untitled2.ipynb\n",
      "07-01-2024  00:21             1,518 Untitled20.ipynb\n",
      "09-01-2024  11:25             2,189 Untitled21.ipynb\n",
      "14-01-2024  15:36               870 Untitled22.ipynb\n",
      "16-01-2024  13:53               589 Untitled23.ipynb\n",
      "24-01-2024  08:43               589 Untitled24.ipynb\n",
      "09-02-2024  15:25            38,519 Untitled25.ipynb\n",
      "09-02-2024  20:09                72 Untitled26.ipynb\n",
      "09-02-2024  20:14               901 Untitled27.ipynb\n",
      "10-02-2024  09:13            67,847 Untitled28.ipynb\n",
      "21-02-2024  21:55               589 Untitled29.ipynb\n",
      "02-09-2023  16:31            84,770 Untitled3.ipynb\n",
      "26-02-2024  14:03             2,950 Untitled30.ipynb\n",
      "27-02-2024  15:40            61,710 Untitled31.ipynb\n",
      "04-03-2024  21:41            27,146 Untitled32.ipynb\n",
      "05-03-2024  09:43               589 Untitled33.ipynb\n",
      "05-03-2024  15:03        30,725,577 Untitled34.ipynb\n",
      "05-03-2024  16:23            28,729 Untitled35.ipynb\n",
      "07-03-2024  10:10             8,717 Untitled36.ipynb\n",
      "09-03-2024  08:19            11,364 Untitled37.ipynb\n",
      "10-03-2024  15:24           656,401 Untitled38.ipynb\n",
      "11-03-2024  21:50            67,887 Untitled39.ipynb\n",
      "10-09-2023  14:59           169,989 Untitled4.ipynb\n",
      "12-03-2024  07:53           113,902 Untitled40.ipynb\n",
      "13-03-2024  21:33           135,943 Untitled41.ipynb\n",
      "15-03-2024  13:43           201,442 Untitled42.ipynb\n",
      "15-03-2024  21:43           746,924 Untitled43.ipynb\n",
      "18-03-2024  21:47         1,627,588 Untitled44.ipynb\n",
      "27-03-2024  15:20            17,594 Untitled45.ipynb\n",
      "29-03-2024  20:08               589 Untitled46.ipynb\n",
      "04-04-2024  21:58           140,316 Untitled47.ipynb\n",
      "06-04-2024  21:34         1,418,867 Untitled48.ipynb\n",
      "18-04-2024  09:35            32,287 Untitled49.ipynb\n",
      "11-09-2023  12:26            41,416 Untitled5.ipynb\n",
      "19-04-2024  03:56         1,301,951 Untitled50.ipynb\n",
      "19-04-2024  05:20             9,882 Untitled51.ipynb\n",
      "25-04-2024  12:06            25,195 Untitled52.ipynb\n",
      "08-05-2024  11:56               589 Untitled53.ipynb\n",
      "25-05-2024  19:57               589 Untitled54.ipynb\n",
      "01-06-2024  21:15         4,286,032 Untitled55.ipynb\n",
      "06-06-2024  19:37               589 Untitled56.ipynb\n",
      "10-06-2024  10:57        17,840,675 Untitled57.ipynb\n",
      "12-06-2024  10:52            48,110 Untitled58.ipynb\n",
      "23-06-2024  12:20             7,903 Untitled59.ipynb\n",
      "26-09-2023  21:42             3,696 Untitled6.ipynb\n",
      "24-06-2024  12:20            13,276 Untitled60.ipynb\n",
      "24-06-2024  20:09               589 Untitled61.ipynb\n",
      "25-06-2024  15:21             8,715 Untitled62.ipynb\n",
      "25-06-2024  17:16            22,134 Untitled63.ipynb\n",
      "30-06-2024  12:07             8,245 Untitled64.ipynb\n",
      "02-07-2024  11:33               589 Untitled65.ipynb\n",
      "03-07-2024  15:17             8,286 Untitled66.ipynb\n",
      "05-10-2023  22:16            52,916 Untitled7.ipynb\n",
      "14-10-2023  17:10             3,119 Untitled8.ipynb\n",
      "18-10-2023  10:45               921 Untitled9.ipynb\n",
      "30-11-2023  22:05           984,788 Use Case1 B92.ipynb\n",
      "29-11-2023  20:48         1,058,296 Use Case1.ipynb\n",
      "14-07-2023  10:59    <DIR>          Videos\n",
      "16-12-2023  14:23             8,057 Volcanoes.txt\n",
      "22-02-2024  15:23         2,108,741 world (1).json\n",
      "26-07-2023  09:00       574,072,999 zomato.csv\n",
      "             144 File(s)    666,416,035 bytes\n",
      "              45 Dir(s)  213,739,876,352 bytes free\n"
     ]
    }
   ],
   "source": [
    "ls"
   ]
  },
  {
   "cell_type": "code",
   "execution_count": 3,
   "id": "d7512074",
   "metadata": {},
   "outputs": [
    {
     "name": "stdout",
     "output_type": "stream",
     "text": [
      "200\n"
     ]
    }
   ],
   "source": [
    "import pyttsx3\n",
    "engine=pyttsx3.init()\n",
    "\n",
    "\"\"\" RATE\"\"\"\n",
    "rate = engine.getProperty('rate')   # getting details of current speaking rate\n",
    "print (rate)                        #printing current voice rate\n",
    "engine.setProperty('rate', 200)     # setting up new voice rate\n",
    "\n",
    "\"\"\"VOICE\"\"\"\n",
    "voices = engine.getProperty('voices')       #getting details of current voice\n",
    "engine.setProperty('voice', voices[0].id)  #changing index, changes voices. o for male\n",
    "#engine.setProperty('voice', voices[1].id)   #changing index, changes voices. 1 for female\n",
    "\n",
    "engine.say(\"Hello everyone we are learning Python and it requires practice\")\n",
    "engine.runAndWait()"
   ]
  },
  {
   "cell_type": "code",
   "execution_count": 4,
   "id": "b14af5fb",
   "metadata": {},
   "outputs": [
    {
     "ename": "SyntaxError",
     "evalue": "cannot assign to literal here. Maybe you meant '==' instead of '='? (111768091.py, line 1)",
     "output_type": "error",
     "traceback": [
      "\u001b[1;36m  Cell \u001b[1;32mIn[4], line 1\u001b[1;36m\u001b[0m\n\u001b[1;33m    4=5\u001b[0m\n\u001b[1;37m    ^\u001b[0m\n\u001b[1;31mSyntaxError\u001b[0m\u001b[1;31m:\u001b[0m cannot assign to literal here. Maybe you meant '==' instead of '='?\n"
     ]
    }
   ],
   "source": [
    "4=5"
   ]
  },
  {
   "cell_type": "code",
   "execution_count": 5,
   "id": "c98478bc",
   "metadata": {},
   "outputs": [
    {
     "data": {
      "text/plain": [
       "False"
      ]
     },
     "execution_count": 5,
     "metadata": {},
     "output_type": "execute_result"
    }
   ],
   "source": [
    "4==5"
   ]
  },
  {
   "cell_type": "code",
   "execution_count": 6,
   "id": "afbb2138",
   "metadata": {},
   "outputs": [
    {
     "data": {
      "text/plain": [
       "False"
      ]
     },
     "execution_count": 6,
     "metadata": {},
     "output_type": "execute_result"
    }
   ],
   "source": [
    "'hi'=='bye'"
   ]
  },
  {
   "cell_type": "code",
   "execution_count": 7,
   "id": "a1e0771c",
   "metadata": {},
   "outputs": [
    {
     "data": {
      "text/plain": [
       "False"
      ]
     },
     "execution_count": 7,
     "metadata": {},
     "output_type": "execute_result"
    }
   ],
   "source": [
    "'hi'=='Hi'"
   ]
  },
  {
   "cell_type": "code",
   "execution_count": 8,
   "id": "5bac5983",
   "metadata": {},
   "outputs": [
    {
     "data": {
      "text/plain": [
       "True"
      ]
     },
     "execution_count": 8,
     "metadata": {},
     "output_type": "execute_result"
    }
   ],
   "source": [
    "'hi'=='hi'"
   ]
  },
  {
   "cell_type": "code",
   "execution_count": 9,
   "id": "7b468128",
   "metadata": {},
   "outputs": [
    {
     "data": {
      "text/plain": [
       "False"
      ]
     },
     "execution_count": 9,
     "metadata": {},
     "output_type": "execute_result"
    }
   ],
   "source": [
    "'India'=='india'"
   ]
  },
  {
   "cell_type": "code",
   "execution_count": 10,
   "id": "97914386",
   "metadata": {},
   "outputs": [
    {
     "data": {
      "text/plain": [
       "True"
      ]
     },
     "execution_count": 10,
     "metadata": {},
     "output_type": "execute_result"
    }
   ],
   "source": [
    "5==5"
   ]
  },
  {
   "cell_type": "code",
   "execution_count": 11,
   "id": "1a35d735",
   "metadata": {},
   "outputs": [
    {
     "data": {
      "text/plain": [
       "False"
      ]
     },
     "execution_count": 11,
     "metadata": {},
     "output_type": "execute_result"
    }
   ],
   "source": [
    "5>5"
   ]
  },
  {
   "cell_type": "code",
   "execution_count": 12,
   "id": "c54d9db4",
   "metadata": {},
   "outputs": [
    {
     "data": {
      "text/plain": [
       "True"
      ]
     },
     "execution_count": 12,
     "metadata": {},
     "output_type": "execute_result"
    }
   ],
   "source": [
    "5>4"
   ]
  },
  {
   "cell_type": "code",
   "execution_count": 13,
   "id": "33bb097c",
   "metadata": {},
   "outputs": [
    {
     "data": {
      "text/plain": [
       "True"
      ]
     },
     "execution_count": 13,
     "metadata": {},
     "output_type": "execute_result"
    }
   ],
   "source": [
    "4<5"
   ]
  },
  {
   "cell_type": "code",
   "execution_count": 14,
   "id": "06ee7f79",
   "metadata": {},
   "outputs": [
    {
     "data": {
      "text/plain": [
       "False"
      ]
     },
     "execution_count": 14,
     "metadata": {},
     "output_type": "execute_result"
    }
   ],
   "source": [
    "4>=5"
   ]
  },
  {
   "cell_type": "code",
   "execution_count": 15,
   "id": "53c66cf3",
   "metadata": {},
   "outputs": [
    {
     "data": {
      "text/plain": [
       "True"
      ]
     },
     "execution_count": 15,
     "metadata": {},
     "output_type": "execute_result"
    }
   ],
   "source": [
    "4<=5"
   ]
  },
  {
   "cell_type": "code",
   "execution_count": 16,
   "id": "2c42416d",
   "metadata": {},
   "outputs": [
    {
     "data": {
      "text/plain": [
       "True"
      ]
     },
     "execution_count": 16,
     "metadata": {},
     "output_type": "execute_result"
    }
   ],
   "source": [
    "4!=5"
   ]
  },
  {
   "cell_type": "code",
   "execution_count": 17,
   "id": "920e5371",
   "metadata": {},
   "outputs": [],
   "source": [
    "## Conditional Statements    if else elif"
   ]
  },
  {
   "cell_type": "code",
   "execution_count": 18,
   "id": "2112cb99",
   "metadata": {},
   "outputs": [
    {
     "name": "stdout",
     "output_type": "stream",
     "text": [
      "First\n"
     ]
    }
   ],
   "source": [
    "if 4==4:\n",
    "    print(\"First\")"
   ]
  },
  {
   "cell_type": "code",
   "execution_count": 19,
   "id": "de1052cc",
   "metadata": {},
   "outputs": [
    {
     "ename": "IndentationError",
     "evalue": "expected an indented block after 'if' statement on line 1 (2233566189.py, line 2)",
     "output_type": "error",
     "traceback": [
      "\u001b[1;36m  Cell \u001b[1;32mIn[19], line 2\u001b[1;36m\u001b[0m\n\u001b[1;33m    print(\"First\")\u001b[0m\n\u001b[1;37m    ^\u001b[0m\n\u001b[1;31mIndentationError\u001b[0m\u001b[1;31m:\u001b[0m expected an indented block after 'if' statement on line 1\n"
     ]
    }
   ],
   "source": [
    "if 4==4:\n",
    "print(\"First\")"
   ]
  },
  {
   "cell_type": "code",
   "execution_count": 23,
   "id": "16df776c",
   "metadata": {},
   "outputs": [
    {
     "name": "stdout",
     "output_type": "stream",
     "text": [
      "First\n"
     ]
    }
   ],
   "source": [
    "if 4==4:\n",
    "    print(\"First\")"
   ]
  },
  {
   "cell_type": "code",
   "execution_count": 24,
   "id": "c09cff4e",
   "metadata": {},
   "outputs": [],
   "source": [
    "if 4>5:\n",
    "    print(\"First!!\")"
   ]
  },
  {
   "cell_type": "code",
   "execution_count": 25,
   "id": "47448b99",
   "metadata": {},
   "outputs": [
    {
     "name": "stdout",
     "output_type": "stream",
     "text": [
      "Last!!\n"
     ]
    }
   ],
   "source": [
    "if 4>5:\n",
    "    print(\"First\")\n",
    "else:\n",
    "    print(\"Last!!\")"
   ]
  },
  {
   "cell_type": "code",
   "execution_count": 26,
   "id": "da1dd3b0",
   "metadata": {},
   "outputs": [
    {
     "name": "stdout",
     "output_type": "stream",
     "text": [
      "Second!!!\n"
     ]
    }
   ],
   "source": [
    "if 4>5:\n",
    "    print(\"First\")\n",
    "elif 10>5:\n",
    "    print(\"Second!!!\")\n",
    "else:\n",
    "    print(\"Last!!\")"
   ]
  },
  {
   "cell_type": "code",
   "execution_count": 27,
   "id": "dcf95d4a",
   "metadata": {},
   "outputs": [
    {
     "name": "stdout",
     "output_type": "stream",
     "text": [
      "Second!!!\n"
     ]
    }
   ],
   "source": [
    "if 4>5:\n",
    "    print(\"First\")\n",
    "elif 10>5:\n",
    "    print(\"Second!!!\")\n",
    "elif 'hi'=='Hi':\n",
    "    print(\"Third!!!\")\n",
    "else:\n",
    "    print(\"Last!!\")"
   ]
  },
  {
   "cell_type": "code",
   "execution_count": 28,
   "id": "abc5b356",
   "metadata": {},
   "outputs": [
    {
     "name": "stdout",
     "output_type": "stream",
     "text": [
      "Last!!\n"
     ]
    }
   ],
   "source": [
    "if 4>5:\n",
    "    print(\"First\")\n",
    "elif 10<5:\n",
    "    print(\"Second!!!\")\n",
    "elif 'hi'=='Hi':\n",
    "    print(\"Third!!!\")\n",
    "else:\n",
    "    print(\"Last!!\")"
   ]
  },
  {
   "cell_type": "code",
   "execution_count": 30,
   "id": "6569b58d",
   "metadata": {},
   "outputs": [
    {
     "name": "stdout",
     "output_type": "stream",
     "text": [
      "Third!!!\n"
     ]
    }
   ],
   "source": [
    "if 4>5:\n",
    "    print(\"First\")\n",
    "elif 10<5:\n",
    "    print(\"Second!!!\")\n",
    "elif 'hi'=='hi':\n",
    "    print(\"Third!!!\")\n",
    "else:\n",
    "    print(\"Last!!\")"
   ]
  },
  {
   "cell_type": "code",
   "execution_count": 31,
   "id": "f7abfec8",
   "metadata": {},
   "outputs": [
    {
     "name": "stdout",
     "output_type": "stream",
     "text": [
      "Third!!!\n"
     ]
    }
   ],
   "source": [
    "if 4>5:\n",
    "    print(\"First\")\n",
    "elif 10<5:\n",
    "    print(\"Second!!!\")\n",
    "elif 'hi'=='hi':\n",
    "    print(\"Third!!!\")\n",
    "elif 100>50:\n",
    "    print(\"Fourth!!!\")\n",
    "else:\n",
    "    print(\"Last!!\")"
   ]
  },
  {
   "cell_type": "code",
   "execution_count": 32,
   "id": "9a236270",
   "metadata": {},
   "outputs": [],
   "source": [
    "##Containers"
   ]
  },
  {
   "cell_type": "code",
   "execution_count": 34,
   "id": "1de2bc37",
   "metadata": {},
   "outputs": [],
   "source": [
    "##Lists - sequence of elements enclosed in square brackets"
   ]
  },
  {
   "cell_type": "code",
   "execution_count": 35,
   "id": "dafee9cc",
   "metadata": {},
   "outputs": [],
   "source": [
    "d1=[10,20,30,40,50]"
   ]
  },
  {
   "cell_type": "code",
   "execution_count": 36,
   "id": "0d555606",
   "metadata": {},
   "outputs": [
    {
     "data": {
      "text/plain": [
       "[10, 20, 30, 40, 50]"
      ]
     },
     "execution_count": 36,
     "metadata": {},
     "output_type": "execute_result"
    }
   ],
   "source": [
    "d1"
   ]
  },
  {
   "cell_type": "code",
   "execution_count": 37,
   "id": "13799fac",
   "metadata": {},
   "outputs": [
    {
     "data": {
      "text/plain": [
       "list"
      ]
     },
     "execution_count": 37,
     "metadata": {},
     "output_type": "execute_result"
    }
   ],
   "source": [
    "type(d1)"
   ]
  },
  {
   "cell_type": "code",
   "execution_count": 38,
   "id": "ea5114e2",
   "metadata": {},
   "outputs": [
    {
     "data": {
      "text/plain": [
       "[10, 20, 30, 40, 50]"
      ]
     },
     "execution_count": 38,
     "metadata": {},
     "output_type": "execute_result"
    }
   ],
   "source": [
    "d1"
   ]
  },
  {
   "cell_type": "code",
   "execution_count": 39,
   "id": "0831627f",
   "metadata": {},
   "outputs": [
    {
     "data": {
      "text/plain": [
       "30"
      ]
     },
     "execution_count": 39,
     "metadata": {},
     "output_type": "execute_result"
    }
   ],
   "source": [
    "d1[2]"
   ]
  },
  {
   "cell_type": "code",
   "execution_count": 43,
   "id": "8d0520ed",
   "metadata": {},
   "outputs": [
    {
     "data": {
      "text/plain": [
       "[20, 30]"
      ]
     },
     "execution_count": 43,
     "metadata": {},
     "output_type": "execute_result"
    }
   ],
   "source": [
    "d1[1:3]"
   ]
  },
  {
   "cell_type": "code",
   "execution_count": 44,
   "id": "7f358631",
   "metadata": {},
   "outputs": [
    {
     "data": {
      "text/plain": [
       "[10, 20, 30, 40, 50]"
      ]
     },
     "execution_count": 44,
     "metadata": {},
     "output_type": "execute_result"
    }
   ],
   "source": [
    "d1"
   ]
  },
  {
   "cell_type": "code",
   "execution_count": 45,
   "id": "df3d195f",
   "metadata": {},
   "outputs": [
    {
     "ename": "IndexError",
     "evalue": "list index out of range",
     "output_type": "error",
     "traceback": [
      "\u001b[1;31m---------------------------------------------------------------------------\u001b[0m",
      "\u001b[1;31mIndexError\u001b[0m                                Traceback (most recent call last)",
      "Cell \u001b[1;32mIn[45], line 1\u001b[0m\n\u001b[1;32m----> 1\u001b[0m \u001b[43md1\u001b[49m\u001b[43m[\u001b[49m\u001b[38;5;241;43m6\u001b[39;49m\u001b[43m]\u001b[49m\n",
      "\u001b[1;31mIndexError\u001b[0m: list index out of range"
     ]
    }
   ],
   "source": [
    "d1[6]"
   ]
  },
  {
   "cell_type": "code",
   "execution_count": 46,
   "id": "ec3ceef9",
   "metadata": {},
   "outputs": [
    {
     "data": {
      "text/plain": [
       "[10, 20, 30, 40, 50]"
      ]
     },
     "execution_count": 46,
     "metadata": {},
     "output_type": "execute_result"
    }
   ],
   "source": [
    "d1"
   ]
  },
  {
   "cell_type": "code",
   "execution_count": 47,
   "id": "50ea72cc",
   "metadata": {},
   "outputs": [
    {
     "data": {
      "text/plain": [
       "[]"
      ]
     },
     "execution_count": 47,
     "metadata": {},
     "output_type": "execute_result"
    }
   ],
   "source": [
    "d1[10:]"
   ]
  },
  {
   "cell_type": "code",
   "execution_count": 48,
   "id": "ab97d75d",
   "metadata": {},
   "outputs": [
    {
     "data": {
      "text/plain": [
       "[]"
      ]
     },
     "execution_count": 48,
     "metadata": {},
     "output_type": "execute_result"
    }
   ],
   "source": [
    "d1[50:100]"
   ]
  },
  {
   "cell_type": "code",
   "execution_count": 49,
   "id": "0923fc6d",
   "metadata": {},
   "outputs": [
    {
     "data": {
      "text/plain": [
       "[10, 20, 30, 40, 50]"
      ]
     },
     "execution_count": 49,
     "metadata": {},
     "output_type": "execute_result"
    }
   ],
   "source": [
    "d1"
   ]
  },
  {
   "cell_type": "code",
   "execution_count": 50,
   "id": "6960ea5d",
   "metadata": {},
   "outputs": [],
   "source": [
    "d2=['hello',56,45,'target','6545',23,'bye']"
   ]
  },
  {
   "cell_type": "code",
   "execution_count": 51,
   "id": "6e220a94",
   "metadata": {},
   "outputs": [
    {
     "data": {
      "text/plain": [
       "['hello', 56, 45, 'target', '6545', 23, 'bye']"
      ]
     },
     "execution_count": 51,
     "metadata": {},
     "output_type": "execute_result"
    }
   ],
   "source": [
    "d2"
   ]
  },
  {
   "cell_type": "code",
   "execution_count": 52,
   "id": "a6a91923",
   "metadata": {},
   "outputs": [
    {
     "data": {
      "text/plain": [
       "list"
      ]
     },
     "execution_count": 52,
     "metadata": {},
     "output_type": "execute_result"
    }
   ],
   "source": [
    "type(d2)"
   ]
  },
  {
   "cell_type": "code",
   "execution_count": 53,
   "id": "6165eccd",
   "metadata": {},
   "outputs": [
    {
     "data": {
      "text/plain": [
       "'target'"
      ]
     },
     "execution_count": 53,
     "metadata": {},
     "output_type": "execute_result"
    }
   ],
   "source": [
    "d2[3]"
   ]
  },
  {
   "cell_type": "code",
   "execution_count": 54,
   "id": "5fa4c137",
   "metadata": {},
   "outputs": [
    {
     "data": {
      "text/plain": [
       "'get'"
      ]
     },
     "execution_count": 54,
     "metadata": {},
     "output_type": "execute_result"
    }
   ],
   "source": [
    "d2[3][3:]"
   ]
  },
  {
   "cell_type": "code",
   "execution_count": 55,
   "id": "4a0b54a7",
   "metadata": {},
   "outputs": [
    {
     "data": {
      "text/plain": [
       "['hello', 56, 45, 'target', '6545', 23, 'bye']"
      ]
     },
     "execution_count": 55,
     "metadata": {},
     "output_type": "execute_result"
    }
   ],
   "source": [
    "d2"
   ]
  },
  {
   "cell_type": "code",
   "execution_count": 56,
   "id": "cb9e91f4",
   "metadata": {},
   "outputs": [
    {
     "data": {
      "text/plain": [
       "'rat'"
      ]
     },
     "execution_count": 56,
     "metadata": {},
     "output_type": "execute_result"
    }
   ],
   "source": [
    "d2[3][0:3][::-1]"
   ]
  },
  {
   "cell_type": "code",
   "execution_count": 60,
   "id": "47d7a1d8",
   "metadata": {},
   "outputs": [
    {
     "data": {
      "text/plain": [
       "'rat'"
      ]
     },
     "execution_count": 60,
     "metadata": {},
     "output_type": "execute_result"
    }
   ],
   "source": [
    "d2[-4::-1][0][0:3][::-1]"
   ]
  },
  {
   "cell_type": "code",
   "execution_count": 62,
   "id": "ac769dcc",
   "metadata": {},
   "outputs": [
    {
     "data": {
      "text/plain": [
       "'rat'"
      ]
     },
     "execution_count": 62,
     "metadata": {},
     "output_type": "execute_result"
    }
   ],
   "source": [
    "d2[3][0:3][::-1]"
   ]
  },
  {
   "cell_type": "code",
   "execution_count": 63,
   "id": "f0a183c4",
   "metadata": {},
   "outputs": [
    {
     "data": {
      "text/plain": [
       "'rat'"
      ]
     },
     "execution_count": 63,
     "metadata": {},
     "output_type": "execute_result"
    }
   ],
   "source": [
    "d2[3][-4::-1]"
   ]
  },
  {
   "cell_type": "code",
   "execution_count": 64,
   "id": "27c28cba",
   "metadata": {},
   "outputs": [
    {
     "data": {
      "text/plain": [
       "['hello', 56, 45, 'target', '6545', 23, 'bye']"
      ]
     },
     "execution_count": 64,
     "metadata": {},
     "output_type": "execute_result"
    }
   ],
   "source": [
    "d2"
   ]
  },
  {
   "cell_type": "code",
   "execution_count": 65,
   "id": "875c2e2d",
   "metadata": {},
   "outputs": [],
   "source": [
    "d3=[[1,2,3],[4,5,6],[7,8,9]]"
   ]
  },
  {
   "cell_type": "code",
   "execution_count": 66,
   "id": "6a0eeccd",
   "metadata": {},
   "outputs": [
    {
     "data": {
      "text/plain": [
       "[[1, 2, 3], [4, 5, 6], [7, 8, 9]]"
      ]
     },
     "execution_count": 66,
     "metadata": {},
     "output_type": "execute_result"
    }
   ],
   "source": [
    "d3"
   ]
  },
  {
   "cell_type": "code",
   "execution_count": 67,
   "id": "db83c963",
   "metadata": {},
   "outputs": [
    {
     "data": {
      "text/plain": [
       "list"
      ]
     },
     "execution_count": 67,
     "metadata": {},
     "output_type": "execute_result"
    }
   ],
   "source": [
    "type(d3)"
   ]
  },
  {
   "cell_type": "code",
   "execution_count": 68,
   "id": "6f7557d3",
   "metadata": {},
   "outputs": [
    {
     "data": {
      "text/plain": [
       "[[1, 2, 3], [4, 5, 6], [7, 8, 9]]"
      ]
     },
     "execution_count": 68,
     "metadata": {},
     "output_type": "execute_result"
    }
   ],
   "source": [
    "d3"
   ]
  },
  {
   "cell_type": "code",
   "execution_count": 69,
   "id": "f5c916e0",
   "metadata": {},
   "outputs": [
    {
     "data": {
      "text/plain": [
       "5"
      ]
     },
     "execution_count": 69,
     "metadata": {},
     "output_type": "execute_result"
    }
   ],
   "source": [
    "d3[1][1]"
   ]
  },
  {
   "cell_type": "code",
   "execution_count": 72,
   "id": "befd90bb",
   "metadata": {},
   "outputs": [
    {
     "data": {
      "text/plain": [
       "5"
      ]
     },
     "execution_count": 72,
     "metadata": {},
     "output_type": "execute_result"
    }
   ],
   "source": [
    "d3[-2][1]"
   ]
  },
  {
   "cell_type": "code",
   "execution_count": 1,
   "id": "e05ad1be",
   "metadata": {},
   "outputs": [],
   "source": [
    "data=[98,'python',[12,13,14,'target',[22,34,'hi',78,'bye']],100]"
   ]
  },
  {
   "cell_type": "code",
   "execution_count": 2,
   "id": "22c9102f",
   "metadata": {},
   "outputs": [
    {
     "data": {
      "text/plain": [
       "list"
      ]
     },
     "execution_count": 2,
     "metadata": {},
     "output_type": "execute_result"
    }
   ],
   "source": [
    "type(data)"
   ]
  },
  {
   "cell_type": "code",
   "execution_count": 3,
   "id": "62f9142f",
   "metadata": {},
   "outputs": [
    {
     "data": {
      "text/plain": [
       "[98, 'python', [12, 13, 14, 'target', [22, 34, 'hi', 78, 'bye']], 100]"
      ]
     },
     "execution_count": 3,
     "metadata": {},
     "output_type": "execute_result"
    }
   ],
   "source": [
    "data"
   ]
  },
  {
   "cell_type": "code",
   "execution_count": 4,
   "id": "75d19f0e",
   "metadata": {},
   "outputs": [
    {
     "data": {
      "text/plain": [
       "'hi'"
      ]
     },
     "execution_count": 4,
     "metadata": {},
     "output_type": "execute_result"
    }
   ],
   "source": [
    "data[2][4][2]"
   ]
  },
  {
   "cell_type": "code",
   "execution_count": 5,
   "id": "22ce5232",
   "metadata": {},
   "outputs": [
    {
     "data": {
      "text/plain": [
       "[12, 13, 14, 'target', [22, 34, 'hi', 78, 'bye']]"
      ]
     },
     "execution_count": 5,
     "metadata": {},
     "output_type": "execute_result"
    }
   ],
   "source": [
    "data[2]"
   ]
  },
  {
   "cell_type": "code",
   "execution_count": 6,
   "id": "761bced5",
   "metadata": {},
   "outputs": [
    {
     "data": {
      "text/plain": [
       "[22, 34, 'hi', 78, 'bye']"
      ]
     },
     "execution_count": 6,
     "metadata": {},
     "output_type": "execute_result"
    }
   ],
   "source": [
    "data[2][4]"
   ]
  },
  {
   "cell_type": "code",
   "execution_count": 7,
   "id": "9e4b2f94",
   "metadata": {},
   "outputs": [
    {
     "data": {
      "text/plain": [
       "'hi'"
      ]
     },
     "execution_count": 7,
     "metadata": {},
     "output_type": "execute_result"
    }
   ],
   "source": [
    "data[2][4][2]"
   ]
  },
  {
   "cell_type": "code",
   "execution_count": 8,
   "id": "e18e0cd6",
   "metadata": {},
   "outputs": [
    {
     "data": {
      "text/plain": [
       "[98, 'python', [12, 13, 14, 'target', [22, 34, 'hi', 78, 'bye']], 100]"
      ]
     },
     "execution_count": 8,
     "metadata": {},
     "output_type": "execute_result"
    }
   ],
   "source": [
    "data"
   ]
  },
  {
   "cell_type": "code",
   "execution_count": 9,
   "id": "64146018",
   "metadata": {},
   "outputs": [
    {
     "data": {
      "text/plain": [
       "list"
      ]
     },
     "execution_count": 9,
     "metadata": {},
     "output_type": "execute_result"
    }
   ],
   "source": [
    "type(data)"
   ]
  },
  {
   "cell_type": "code",
   "execution_count": 10,
   "id": "a94e7adb",
   "metadata": {},
   "outputs": [],
   "source": [
    "data.append(\"Hello\")"
   ]
  },
  {
   "cell_type": "code",
   "execution_count": 11,
   "id": "318662cd",
   "metadata": {},
   "outputs": [
    {
     "data": {
      "text/plain": [
       "[98, 'python', [12, 13, 14, 'target', [22, 34, 'hi', 78, 'bye']], 100, 'Hello']"
      ]
     },
     "execution_count": 11,
     "metadata": {},
     "output_type": "execute_result"
    }
   ],
   "source": [
    "data"
   ]
  },
  {
   "cell_type": "code",
   "execution_count": 12,
   "id": "5f08d60b",
   "metadata": {},
   "outputs": [],
   "source": [
    "d1=data.copy()"
   ]
  },
  {
   "cell_type": "code",
   "execution_count": 13,
   "id": "38613dcf",
   "metadata": {},
   "outputs": [
    {
     "data": {
      "text/plain": [
       "[98, 'python', [12, 13, 14, 'target', [22, 34, 'hi', 78, 'bye']], 100, 'Hello']"
      ]
     },
     "execution_count": 13,
     "metadata": {},
     "output_type": "execute_result"
    }
   ],
   "source": [
    "d1"
   ]
  },
  {
   "cell_type": "code",
   "execution_count": 14,
   "id": "017369d1",
   "metadata": {},
   "outputs": [
    {
     "data": {
      "text/plain": [
       "[98, 'python', [12, 13, 14, 'target', [22, 34, 'hi', 78, 'bye']], 100, 'Hello']"
      ]
     },
     "execution_count": 14,
     "metadata": {},
     "output_type": "execute_result"
    }
   ],
   "source": [
    "data"
   ]
  },
  {
   "cell_type": "code",
   "execution_count": 15,
   "id": "1516bd7c",
   "metadata": {},
   "outputs": [
    {
     "data": {
      "text/plain": [
       "'python'"
      ]
     },
     "execution_count": 15,
     "metadata": {},
     "output_type": "execute_result"
    }
   ],
   "source": [
    "d1[1]"
   ]
  },
  {
   "cell_type": "code",
   "execution_count": 16,
   "id": "8c1a0ab5",
   "metadata": {},
   "outputs": [],
   "source": [
    "d1[1]=1000"
   ]
  },
  {
   "cell_type": "code",
   "execution_count": 17,
   "id": "5512fca0",
   "metadata": {},
   "outputs": [
    {
     "data": {
      "text/plain": [
       "[98, 1000, [12, 13, 14, 'target', [22, 34, 'hi', 78, 'bye']], 100, 'Hello']"
      ]
     },
     "execution_count": 17,
     "metadata": {},
     "output_type": "execute_result"
    }
   ],
   "source": [
    "d1"
   ]
  },
  {
   "cell_type": "code",
   "execution_count": 18,
   "id": "d3c66b83",
   "metadata": {},
   "outputs": [
    {
     "data": {
      "text/plain": [
       "[98, 'python', [12, 13, 14, 'target', [22, 34, 'hi', 78, 'bye']], 100, 'Hello']"
      ]
     },
     "execution_count": 18,
     "metadata": {},
     "output_type": "execute_result"
    }
   ],
   "source": [
    "data"
   ]
  },
  {
   "cell_type": "code",
   "execution_count": 19,
   "id": "4789cc74",
   "metadata": {},
   "outputs": [
    {
     "data": {
      "text/plain": [
       "[98, 'python', [12, 13, 14, 'target', [22, 34, 'hi', 78, 'bye']], 100, 'Hello']"
      ]
     },
     "execution_count": 19,
     "metadata": {},
     "output_type": "execute_result"
    }
   ],
   "source": [
    "data"
   ]
  },
  {
   "cell_type": "code",
   "execution_count": 20,
   "id": "7d28851d",
   "metadata": {},
   "outputs": [
    {
     "data": {
      "text/plain": [
       "1"
      ]
     },
     "execution_count": 20,
     "metadata": {},
     "output_type": "execute_result"
    }
   ],
   "source": [
    "data.count(100)"
   ]
  },
  {
   "cell_type": "code",
   "execution_count": 21,
   "id": "32e2b770",
   "metadata": {},
   "outputs": [],
   "source": [
    "data.append(100)"
   ]
  },
  {
   "cell_type": "code",
   "execution_count": 23,
   "id": "ae11526f",
   "metadata": {},
   "outputs": [
    {
     "data": {
      "text/plain": [
       "[98,\n",
       " 'python',\n",
       " [12, 13, 14, 'target', [22, 34, 'hi', 78, 'bye']],\n",
       " 100,\n",
       " 'Hello',\n",
       " 100]"
      ]
     },
     "execution_count": 23,
     "metadata": {},
     "output_type": "execute_result"
    }
   ],
   "source": [
    "data"
   ]
  },
  {
   "cell_type": "code",
   "execution_count": 24,
   "id": "5f34ca63",
   "metadata": {},
   "outputs": [
    {
     "data": {
      "text/plain": [
       "2"
      ]
     },
     "execution_count": 24,
     "metadata": {},
     "output_type": "execute_result"
    }
   ],
   "source": [
    "data.count(100)"
   ]
  },
  {
   "cell_type": "code",
   "execution_count": 25,
   "id": "859de635",
   "metadata": {},
   "outputs": [
    {
     "data": {
      "text/plain": [
       "0"
      ]
     },
     "execution_count": 25,
     "metadata": {},
     "output_type": "execute_result"
    }
   ],
   "source": [
    "data.count('target')"
   ]
  },
  {
   "cell_type": "code",
   "execution_count": 26,
   "id": "4c9a6ccc",
   "metadata": {},
   "outputs": [
    {
     "data": {
      "text/plain": [
       "0"
      ]
     },
     "execution_count": 26,
     "metadata": {},
     "output_type": "execute_result"
    }
   ],
   "source": [
    "data.count('hi')"
   ]
  },
  {
   "cell_type": "code",
   "execution_count": 27,
   "id": "14eb75c6",
   "metadata": {},
   "outputs": [
    {
     "data": {
      "text/plain": [
       "[98,\n",
       " 'python',\n",
       " [12, 13, 14, 'target', [22, 34, 'hi', 78, 'bye']],\n",
       " 100,\n",
       " 'Hello',\n",
       " 100]"
      ]
     },
     "execution_count": 27,
     "metadata": {},
     "output_type": "execute_result"
    }
   ],
   "source": [
    "data"
   ]
  },
  {
   "cell_type": "code",
   "execution_count": 28,
   "id": "da15fd51",
   "metadata": {},
   "outputs": [
    {
     "data": {
      "text/plain": [
       "0"
      ]
     },
     "execution_count": 28,
     "metadata": {},
     "output_type": "execute_result"
    }
   ],
   "source": [
    "data.count('hello')"
   ]
  },
  {
   "cell_type": "code",
   "execution_count": 29,
   "id": "e2bb7475",
   "metadata": {},
   "outputs": [
    {
     "data": {
      "text/plain": [
       "1"
      ]
     },
     "execution_count": 29,
     "metadata": {},
     "output_type": "execute_result"
    }
   ],
   "source": [
    "data.count('Hello')"
   ]
  },
  {
   "cell_type": "code",
   "execution_count": 30,
   "id": "0fb63488",
   "metadata": {},
   "outputs": [
    {
     "data": {
      "text/plain": [
       "[98,\n",
       " 'python',\n",
       " [12, 13, 14, 'target', [22, 34, 'hi', 78, 'bye']],\n",
       " 100,\n",
       " 'Hello',\n",
       " 100]"
      ]
     },
     "execution_count": 30,
     "metadata": {},
     "output_type": "execute_result"
    }
   ],
   "source": [
    "data"
   ]
  },
  {
   "cell_type": "code",
   "execution_count": 31,
   "id": "ec4a2609",
   "metadata": {},
   "outputs": [],
   "source": [
    "d2=[5001,5002,5003]"
   ]
  },
  {
   "cell_type": "code",
   "execution_count": 32,
   "id": "8d13ac35",
   "metadata": {},
   "outputs": [],
   "source": [
    "data.extend(d2)"
   ]
  },
  {
   "cell_type": "code",
   "execution_count": 33,
   "id": "e939c65d",
   "metadata": {},
   "outputs": [
    {
     "data": {
      "text/plain": [
       "[98,\n",
       " 'python',\n",
       " [12, 13, 14, 'target', [22, 34, 'hi', 78, 'bye']],\n",
       " 100,\n",
       " 'Hello',\n",
       " 100,\n",
       " 5001,\n",
       " 5002,\n",
       " 5003]"
      ]
     },
     "execution_count": 33,
     "metadata": {},
     "output_type": "execute_result"
    }
   ],
   "source": [
    "data"
   ]
  },
  {
   "cell_type": "code",
   "execution_count": 34,
   "id": "2f01844d",
   "metadata": {},
   "outputs": [
    {
     "ename": "TypeError",
     "evalue": "list.append() takes exactly one argument (3 given)",
     "output_type": "error",
     "traceback": [
      "\u001b[1;31m---------------------------------------------------------------------------\u001b[0m",
      "\u001b[1;31mTypeError\u001b[0m                                 Traceback (most recent call last)",
      "Cell \u001b[1;32mIn[34], line 1\u001b[0m\n\u001b[1;32m----> 1\u001b[0m \u001b[43mdata\u001b[49m\u001b[38;5;241;43m.\u001b[39;49m\u001b[43mappend\u001b[49m\u001b[43m(\u001b[49m\u001b[38;5;241;43m34\u001b[39;49m\u001b[43m,\u001b[49m\u001b[38;5;241;43m67\u001b[39;49m\u001b[43m,\u001b[49m\u001b[38;5;241;43m789\u001b[39;49m\u001b[43m)\u001b[49m\n",
      "\u001b[1;31mTypeError\u001b[0m: list.append() takes exactly one argument (3 given)"
     ]
    }
   ],
   "source": [
    "data.append(34,67,789)"
   ]
  },
  {
   "cell_type": "code",
   "execution_count": 35,
   "id": "f497f917",
   "metadata": {},
   "outputs": [
    {
     "data": {
      "text/plain": [
       "[98,\n",
       " 'python',\n",
       " [12, 13, 14, 'target', [22, 34, 'hi', 78, 'bye']],\n",
       " 100,\n",
       " 'Hello',\n",
       " 100,\n",
       " 5001,\n",
       " 5002,\n",
       " 5003]"
      ]
     },
     "execution_count": 35,
     "metadata": {},
     "output_type": "execute_result"
    }
   ],
   "source": [
    "data"
   ]
  },
  {
   "cell_type": "code",
   "execution_count": 36,
   "id": "a5613c34",
   "metadata": {},
   "outputs": [
    {
     "data": {
      "text/plain": [
       "4"
      ]
     },
     "execution_count": 36,
     "metadata": {},
     "output_type": "execute_result"
    }
   ],
   "source": [
    "data.index('Hello')"
   ]
  },
  {
   "cell_type": "code",
   "execution_count": 37,
   "id": "199d439f",
   "metadata": {},
   "outputs": [],
   "source": [
    "data.insert(2,'India')"
   ]
  },
  {
   "cell_type": "code",
   "execution_count": 38,
   "id": "71fed7f1",
   "metadata": {},
   "outputs": [
    {
     "data": {
      "text/plain": [
       "[98,\n",
       " 'python',\n",
       " 'India',\n",
       " [12, 13, 14, 'target', [22, 34, 'hi', 78, 'bye']],\n",
       " 100,\n",
       " 'Hello',\n",
       " 100,\n",
       " 5001,\n",
       " 5002,\n",
       " 5003]"
      ]
     },
     "execution_count": 38,
     "metadata": {},
     "output_type": "execute_result"
    }
   ],
   "source": [
    "data"
   ]
  },
  {
   "cell_type": "code",
   "execution_count": 39,
   "id": "5aa7a0da",
   "metadata": {},
   "outputs": [
    {
     "data": {
      "text/plain": [
       "5003"
      ]
     },
     "execution_count": 39,
     "metadata": {},
     "output_type": "execute_result"
    }
   ],
   "source": [
    "data.pop()"
   ]
  },
  {
   "cell_type": "code",
   "execution_count": 40,
   "id": "9bae24bb",
   "metadata": {},
   "outputs": [
    {
     "data": {
      "text/plain": [
       "[98,\n",
       " 'python',\n",
       " 'India',\n",
       " [12, 13, 14, 'target', [22, 34, 'hi', 78, 'bye']],\n",
       " 100,\n",
       " 'Hello',\n",
       " 100,\n",
       " 5001,\n",
       " 5002]"
      ]
     },
     "execution_count": 40,
     "metadata": {},
     "output_type": "execute_result"
    }
   ],
   "source": [
    "data"
   ]
  },
  {
   "cell_type": "code",
   "execution_count": 41,
   "id": "de6f10df",
   "metadata": {},
   "outputs": [],
   "source": [
    "data.remove('Hello')"
   ]
  },
  {
   "cell_type": "code",
   "execution_count": 42,
   "id": "b5afa52b",
   "metadata": {},
   "outputs": [
    {
     "data": {
      "text/plain": [
       "[98,\n",
       " 'python',\n",
       " 'India',\n",
       " [12, 13, 14, 'target', [22, 34, 'hi', 78, 'bye']],\n",
       " 100,\n",
       " 100,\n",
       " 5001,\n",
       " 5002]"
      ]
     },
     "execution_count": 42,
     "metadata": {},
     "output_type": "execute_result"
    }
   ],
   "source": [
    "data"
   ]
  },
  {
   "cell_type": "code",
   "execution_count": 43,
   "id": "325e028f",
   "metadata": {},
   "outputs": [],
   "source": [
    "data.reverse()"
   ]
  },
  {
   "cell_type": "code",
   "execution_count": 44,
   "id": "20d8d34a",
   "metadata": {},
   "outputs": [
    {
     "data": {
      "text/plain": [
       "[5002,\n",
       " 5001,\n",
       " 100,\n",
       " 100,\n",
       " [12, 13, 14, 'target', [22, 34, 'hi', 78, 'bye']],\n",
       " 'India',\n",
       " 'python',\n",
       " 98]"
      ]
     },
     "execution_count": 44,
     "metadata": {},
     "output_type": "execute_result"
    }
   ],
   "source": [
    "data"
   ]
  },
  {
   "cell_type": "code",
   "execution_count": 45,
   "id": "c8f12ae8",
   "metadata": {},
   "outputs": [
    {
     "ename": "TypeError",
     "evalue": "'<' not supported between instances of 'list' and 'int'",
     "output_type": "error",
     "traceback": [
      "\u001b[1;31m---------------------------------------------------------------------------\u001b[0m",
      "\u001b[1;31mTypeError\u001b[0m                                 Traceback (most recent call last)",
      "Cell \u001b[1;32mIn[45], line 1\u001b[0m\n\u001b[1;32m----> 1\u001b[0m \u001b[43mdata\u001b[49m\u001b[38;5;241;43m.\u001b[39;49m\u001b[43msort\u001b[49m\u001b[43m(\u001b[49m\u001b[43m)\u001b[49m\n",
      "\u001b[1;31mTypeError\u001b[0m: '<' not supported between instances of 'list' and 'int'"
     ]
    }
   ],
   "source": [
    "data.sort()"
   ]
  },
  {
   "cell_type": "code",
   "execution_count": 46,
   "id": "6f11b44b",
   "metadata": {},
   "outputs": [],
   "source": [
    "s1=[23,56,88,1,3,55,100]"
   ]
  },
  {
   "cell_type": "code",
   "execution_count": 47,
   "id": "618668fd",
   "metadata": {},
   "outputs": [],
   "source": [
    "s1.sort()"
   ]
  },
  {
   "cell_type": "code",
   "execution_count": 48,
   "id": "f4479666",
   "metadata": {},
   "outputs": [
    {
     "data": {
      "text/plain": [
       "[1, 3, 23, 55, 56, 88, 100]"
      ]
     },
     "execution_count": 48,
     "metadata": {},
     "output_type": "execute_result"
    }
   ],
   "source": [
    "s1"
   ]
  },
  {
   "cell_type": "code",
   "execution_count": 49,
   "id": "583bd466",
   "metadata": {},
   "outputs": [],
   "source": [
    "s1.sort(reverse=True)"
   ]
  },
  {
   "cell_type": "code",
   "execution_count": 50,
   "id": "49a5c7c1",
   "metadata": {},
   "outputs": [
    {
     "data": {
      "text/plain": [
       "[100, 88, 56, 55, 23, 3, 1]"
      ]
     },
     "execution_count": 50,
     "metadata": {},
     "output_type": "execute_result"
    }
   ],
   "source": [
    "s1"
   ]
  },
  {
   "cell_type": "code",
   "execution_count": 51,
   "id": "f0e8e633",
   "metadata": {},
   "outputs": [],
   "source": [
    "s2=['a','z','d','g','u']"
   ]
  },
  {
   "cell_type": "code",
   "execution_count": 52,
   "id": "064ab936",
   "metadata": {},
   "outputs": [],
   "source": [
    "s2.sort()"
   ]
  },
  {
   "cell_type": "code",
   "execution_count": 53,
   "id": "822a28eb",
   "metadata": {},
   "outputs": [
    {
     "data": {
      "text/plain": [
       "['a', 'd', 'g', 'u', 'z']"
      ]
     },
     "execution_count": 53,
     "metadata": {},
     "output_type": "execute_result"
    }
   ],
   "source": [
    "s2"
   ]
  },
  {
   "cell_type": "code",
   "execution_count": 54,
   "id": "5f0bbbe8",
   "metadata": {},
   "outputs": [
    {
     "data": {
      "text/plain": [
       "[100,\n",
       " 100,\n",
       " 5001,\n",
       " 5002,\n",
       " [12, 13, 14, 'target', [22, 34, 'hi', 78, 'bye']],\n",
       " 'India',\n",
       " 'python',\n",
       " 98]"
      ]
     },
     "execution_count": 54,
     "metadata": {},
     "output_type": "execute_result"
    }
   ],
   "source": [
    "data"
   ]
  },
  {
   "cell_type": "code",
   "execution_count": 56,
   "id": "35f186e4",
   "metadata": {},
   "outputs": [],
   "source": [
    "data[3]=\"hello everyone\"    #Mutability - Lists are Mutable"
   ]
  },
  {
   "cell_type": "code",
   "execution_count": 57,
   "id": "d375c38b",
   "metadata": {},
   "outputs": [
    {
     "data": {
      "text/plain": [
       "[100,\n",
       " 100,\n",
       " 5001,\n",
       " 'hello everyone',\n",
       " [12, 13, 14, 'target', [22, 34, 'hi', 78, 'bye']],\n",
       " 'India',\n",
       " 'python',\n",
       " 98]"
      ]
     },
     "execution_count": 57,
     "metadata": {},
     "output_type": "execute_result"
    }
   ],
   "source": [
    "data"
   ]
  },
  {
   "cell_type": "code",
   "execution_count": 58,
   "id": "e7b6867c",
   "metadata": {},
   "outputs": [],
   "source": [
    "## Tuples"
   ]
  },
  {
   "cell_type": "code",
   "execution_count": 59,
   "id": "3b359e6d",
   "metadata": {},
   "outputs": [],
   "source": [
    "t1=(12,45,67,100,89)"
   ]
  },
  {
   "cell_type": "code",
   "execution_count": 60,
   "id": "a2c1ae25",
   "metadata": {},
   "outputs": [
    {
     "data": {
      "text/plain": [
       "tuple"
      ]
     },
     "execution_count": 60,
     "metadata": {},
     "output_type": "execute_result"
    }
   ],
   "source": [
    "type(t1)"
   ]
  },
  {
   "cell_type": "code",
   "execution_count": 61,
   "id": "75bcfbdb",
   "metadata": {},
   "outputs": [
    {
     "data": {
      "text/plain": [
       "(12, 45, 67, 100, 89)"
      ]
     },
     "execution_count": 61,
     "metadata": {},
     "output_type": "execute_result"
    }
   ],
   "source": [
    "t1"
   ]
  },
  {
   "cell_type": "code",
   "execution_count": 62,
   "id": "1ec2e130",
   "metadata": {},
   "outputs": [
    {
     "data": {
      "text/plain": [
       "67"
      ]
     },
     "execution_count": 62,
     "metadata": {},
     "output_type": "execute_result"
    }
   ],
   "source": [
    "t1[2]"
   ]
  },
  {
   "cell_type": "code",
   "execution_count": 63,
   "id": "81eb43f3",
   "metadata": {},
   "outputs": [
    {
     "ename": "TypeError",
     "evalue": "'tuple' object does not support item assignment",
     "output_type": "error",
     "traceback": [
      "\u001b[1;31m---------------------------------------------------------------------------\u001b[0m",
      "\u001b[1;31mTypeError\u001b[0m                                 Traceback (most recent call last)",
      "Cell \u001b[1;32mIn[63], line 1\u001b[0m\n\u001b[1;32m----> 1\u001b[0m t1[\u001b[38;5;241m2\u001b[39m]\u001b[38;5;241m=\u001b[39m\u001b[38;5;241m5000\u001b[39m\n",
      "\u001b[1;31mTypeError\u001b[0m: 'tuple' object does not support item assignment"
     ]
    }
   ],
   "source": [
    "t1[2]=5000    ## Tuples are Immutable"
   ]
  },
  {
   "cell_type": "code",
   "execution_count": 64,
   "id": "42d180c0",
   "metadata": {},
   "outputs": [
    {
     "data": {
      "text/plain": [
       "(12, 45, 67, 100, 89)"
      ]
     },
     "execution_count": 64,
     "metadata": {},
     "output_type": "execute_result"
    }
   ],
   "source": [
    "t1"
   ]
  },
  {
   "cell_type": "code",
   "execution_count": 65,
   "id": "3e0a339f",
   "metadata": {},
   "outputs": [
    {
     "data": {
      "text/plain": [
       "1"
      ]
     },
     "execution_count": 65,
     "metadata": {},
     "output_type": "execute_result"
    }
   ],
   "source": [
    "t1.count(67)"
   ]
  },
  {
   "cell_type": "code",
   "execution_count": 66,
   "id": "b62ff6fd",
   "metadata": {},
   "outputs": [
    {
     "data": {
      "text/plain": [
       "2"
      ]
     },
     "execution_count": 66,
     "metadata": {},
     "output_type": "execute_result"
    }
   ],
   "source": [
    "t1.index(67)"
   ]
  },
  {
   "cell_type": "code",
   "execution_count": 67,
   "id": "19562b5d",
   "metadata": {},
   "outputs": [],
   "source": [
    "t2=(45,34,'hello','bye','456',56,23.90)"
   ]
  },
  {
   "cell_type": "code",
   "execution_count": 68,
   "id": "8d9c7593",
   "metadata": {},
   "outputs": [
    {
     "data": {
      "text/plain": [
       "'bye'"
      ]
     },
     "execution_count": 68,
     "metadata": {},
     "output_type": "execute_result"
    }
   ],
   "source": [
    "t2[3]"
   ]
  },
  {
   "cell_type": "code",
   "execution_count": 69,
   "id": "91d3659a",
   "metadata": {},
   "outputs": [
    {
     "data": {
      "text/plain": [
       "'ell'"
      ]
     },
     "execution_count": 69,
     "metadata": {},
     "output_type": "execute_result"
    }
   ],
   "source": [
    "t2[2][1:4]"
   ]
  },
  {
   "cell_type": "code",
   "execution_count": 70,
   "id": "acc48111",
   "metadata": {},
   "outputs": [
    {
     "data": {
      "text/plain": [
       "(45, 34, 'hello', 'bye', '456', 56, 23.9)"
      ]
     },
     "execution_count": 70,
     "metadata": {},
     "output_type": "execute_result"
    }
   ],
   "source": [
    "t2"
   ]
  },
  {
   "cell_type": "code",
   "execution_count": 71,
   "id": "2ba190a4",
   "metadata": {},
   "outputs": [],
   "source": [
    "## Dictionaries -- Its a key-value pair"
   ]
  },
  {
   "cell_type": "code",
   "execution_count": 72,
   "id": "dc0929c2",
   "metadata": {},
   "outputs": [],
   "source": [
    "s1={'name':'Rohit','marks':75,'City':'Mumbai','contact':1234567}"
   ]
  },
  {
   "cell_type": "code",
   "execution_count": 73,
   "id": "07cc74e4",
   "metadata": {},
   "outputs": [
    {
     "data": {
      "text/plain": [
       "dict"
      ]
     },
     "execution_count": 73,
     "metadata": {},
     "output_type": "execute_result"
    }
   ],
   "source": [
    "type(s1)"
   ]
  },
  {
   "cell_type": "code",
   "execution_count": 74,
   "id": "bfaf33da",
   "metadata": {},
   "outputs": [
    {
     "data": {
      "text/plain": [
       "{'name': 'Rohit', 'marks': 75, 'City': 'Mumbai', 'contact': 1234567}"
      ]
     },
     "execution_count": 74,
     "metadata": {},
     "output_type": "execute_result"
    }
   ],
   "source": [
    "s1"
   ]
  },
  {
   "cell_type": "code",
   "execution_count": 75,
   "id": "d5bf7f81",
   "metadata": {},
   "outputs": [
    {
     "data": {
      "text/plain": [
       "75"
      ]
     },
     "execution_count": 75,
     "metadata": {},
     "output_type": "execute_result"
    }
   ],
   "source": [
    "s1['marks']"
   ]
  },
  {
   "cell_type": "code",
   "execution_count": 76,
   "id": "db6b2ef3",
   "metadata": {},
   "outputs": [
    {
     "data": {
      "text/plain": [
       "{'name': 'Rohit', 'marks': 75, 'City': 'Mumbai', 'contact': 1234567}"
      ]
     },
     "execution_count": 76,
     "metadata": {},
     "output_type": "execute_result"
    }
   ],
   "source": [
    "s1"
   ]
  },
  {
   "cell_type": "code",
   "execution_count": 79,
   "id": "6970bae7",
   "metadata": {},
   "outputs": [
    {
     "data": {
      "text/plain": [
       "'Mumbai'"
      ]
     },
     "execution_count": 79,
     "metadata": {},
     "output_type": "execute_result"
    }
   ],
   "source": [
    "s1['City']"
   ]
  },
  {
   "cell_type": "code",
   "execution_count": 80,
   "id": "119c83d5",
   "metadata": {},
   "outputs": [
    {
     "data": {
      "text/plain": [
       "'mba'"
      ]
     },
     "execution_count": 80,
     "metadata": {},
     "output_type": "execute_result"
    }
   ],
   "source": [
    "s1['City'][2:5]"
   ]
  },
  {
   "cell_type": "code",
   "execution_count": 81,
   "id": "830dd1ea",
   "metadata": {},
   "outputs": [],
   "source": [
    "s2={'student_names':['A','B','C','D'],'marks':[33,44,67,89],'college':'XYZ'}"
   ]
  },
  {
   "cell_type": "code",
   "execution_count": 82,
   "id": "54a524b8",
   "metadata": {},
   "outputs": [
    {
     "data": {
      "text/plain": [
       "{'student_names': ['A', 'B', 'C', 'D'],\n",
       " 'marks': [33, 44, 67, 89],\n",
       " 'college': 'XYZ'}"
      ]
     },
     "execution_count": 82,
     "metadata": {},
     "output_type": "execute_result"
    }
   ],
   "source": [
    "s2"
   ]
  },
  {
   "cell_type": "code",
   "execution_count": 83,
   "id": "509b8c07",
   "metadata": {},
   "outputs": [
    {
     "data": {
      "text/plain": [
       "'C'"
      ]
     },
     "execution_count": 83,
     "metadata": {},
     "output_type": "execute_result"
    }
   ],
   "source": [
    "s2['student_names'][2]"
   ]
  },
  {
   "cell_type": "code",
   "execution_count": 84,
   "id": "116193af",
   "metadata": {},
   "outputs": [
    {
     "data": {
      "text/plain": [
       "{'student_names': ['A', 'B', 'C', 'D'],\n",
       " 'marks': [33, 44, 67, 89],\n",
       " 'college': 'XYZ'}"
      ]
     },
     "execution_count": 84,
     "metadata": {},
     "output_type": "execute_result"
    }
   ],
   "source": [
    "s2"
   ]
  },
  {
   "cell_type": "code",
   "execution_count": 85,
   "id": "99de79db",
   "metadata": {},
   "outputs": [],
   "source": [
    "s3={'k1':{'k5':[45,'target',99,'bye']}}"
   ]
  },
  {
   "cell_type": "code",
   "execution_count": 86,
   "id": "39f11459",
   "metadata": {},
   "outputs": [
    {
     "data": {
      "text/plain": [
       "{'k1': {'k5': [45, 'target', 99, 'bye']}}"
      ]
     },
     "execution_count": 86,
     "metadata": {},
     "output_type": "execute_result"
    }
   ],
   "source": [
    "s3"
   ]
  },
  {
   "cell_type": "code",
   "execution_count": 87,
   "id": "ac18f4f8",
   "metadata": {},
   "outputs": [
    {
     "data": {
      "text/plain": [
       "'target'"
      ]
     },
     "execution_count": 87,
     "metadata": {},
     "output_type": "execute_result"
    }
   ],
   "source": [
    "s3['k1']['k5'][1]"
   ]
  },
  {
   "cell_type": "code",
   "execution_count": 88,
   "id": "0766e642",
   "metadata": {},
   "outputs": [
    {
     "data": {
      "text/plain": [
       "{'k5': [45, 'target', 99, 'bye']}"
      ]
     },
     "execution_count": 88,
     "metadata": {},
     "output_type": "execute_result"
    }
   ],
   "source": [
    "s3['k1']"
   ]
  },
  {
   "cell_type": "code",
   "execution_count": 89,
   "id": "cc0ef0f4",
   "metadata": {},
   "outputs": [
    {
     "data": {
      "text/plain": [
       "[45, 'target', 99, 'bye']"
      ]
     },
     "execution_count": 89,
     "metadata": {},
     "output_type": "execute_result"
    }
   ],
   "source": [
    "s3['k1']['k5']"
   ]
  },
  {
   "cell_type": "code",
   "execution_count": 90,
   "id": "2ebd525b",
   "metadata": {},
   "outputs": [
    {
     "data": {
      "text/plain": [
       "'target'"
      ]
     },
     "execution_count": 90,
     "metadata": {},
     "output_type": "execute_result"
    }
   ],
   "source": [
    "s3['k1']['k5'][1]"
   ]
  },
  {
   "cell_type": "code",
   "execution_count": 91,
   "id": "865c906c",
   "metadata": {},
   "outputs": [
    {
     "data": {
      "text/plain": [
       "'arg'"
      ]
     },
     "execution_count": 91,
     "metadata": {},
     "output_type": "execute_result"
    }
   ],
   "source": [
    "s3['k1']['k5'][1][1:4]"
   ]
  },
  {
   "cell_type": "code",
   "execution_count": 92,
   "id": "30d5a09e",
   "metadata": {},
   "outputs": [
    {
     "data": {
      "text/plain": [
       "{'name': 'Rohit', 'marks': 75, 'City': 'Mumbai', 'contact': 1234567}"
      ]
     },
     "execution_count": 92,
     "metadata": {},
     "output_type": "execute_result"
    }
   ],
   "source": [
    "s1"
   ]
  },
  {
   "cell_type": "code",
   "execution_count": 93,
   "id": "3cb2c798",
   "metadata": {},
   "outputs": [
    {
     "data": {
      "text/plain": [
       "dict_keys(['name', 'marks', 'City', 'contact'])"
      ]
     },
     "execution_count": 93,
     "metadata": {},
     "output_type": "execute_result"
    }
   ],
   "source": [
    "s1.keys()"
   ]
  },
  {
   "cell_type": "code",
   "execution_count": 94,
   "id": "fab40b85",
   "metadata": {},
   "outputs": [
    {
     "data": {
      "text/plain": [
       "dict_values(['Rohit', 75, 'Mumbai', 1234567])"
      ]
     },
     "execution_count": 94,
     "metadata": {},
     "output_type": "execute_result"
    }
   ],
   "source": [
    "s1.values()"
   ]
  },
  {
   "cell_type": "code",
   "execution_count": 95,
   "id": "d93763da",
   "metadata": {},
   "outputs": [
    {
     "data": {
      "text/plain": [
       "dict_items([('name', 'Rohit'), ('marks', 75), ('City', 'Mumbai'), ('contact', 1234567)])"
      ]
     },
     "execution_count": 95,
     "metadata": {},
     "output_type": "execute_result"
    }
   ],
   "source": [
    "s1.items()"
   ]
  },
  {
   "cell_type": "code",
   "execution_count": 96,
   "id": "a4cbc8fa",
   "metadata": {},
   "outputs": [
    {
     "data": {
      "text/plain": [
       "{'name': 'Rohit', 'marks': 75, 'City': 'Mumbai', 'contact': 1234567}"
      ]
     },
     "execution_count": 96,
     "metadata": {},
     "output_type": "execute_result"
    }
   ],
   "source": [
    "s1"
   ]
  },
  {
   "cell_type": "code",
   "execution_count": 97,
   "id": "aa1ebad9",
   "metadata": {},
   "outputs": [
    {
     "ename": "TypeError",
     "evalue": "pop expected at least 1 argument, got 0",
     "output_type": "error",
     "traceback": [
      "\u001b[1;31m---------------------------------------------------------------------------\u001b[0m",
      "\u001b[1;31mTypeError\u001b[0m                                 Traceback (most recent call last)",
      "Cell \u001b[1;32mIn[97], line 1\u001b[0m\n\u001b[1;32m----> 1\u001b[0m \u001b[43ms1\u001b[49m\u001b[38;5;241;43m.\u001b[39;49m\u001b[43mpop\u001b[49m\u001b[43m(\u001b[49m\u001b[43m)\u001b[49m\n",
      "\u001b[1;31mTypeError\u001b[0m: pop expected at least 1 argument, got 0"
     ]
    }
   ],
   "source": [
    "s1.pop()"
   ]
  },
  {
   "cell_type": "code",
   "execution_count": 98,
   "id": "759b0d06",
   "metadata": {},
   "outputs": [
    {
     "data": {
      "text/plain": [
       "75"
      ]
     },
     "execution_count": 98,
     "metadata": {},
     "output_type": "execute_result"
    }
   ],
   "source": [
    "s1.pop('marks')"
   ]
  },
  {
   "cell_type": "code",
   "execution_count": 99,
   "id": "f81def57",
   "metadata": {},
   "outputs": [
    {
     "data": {
      "text/plain": [
       "{'name': 'Rohit', 'City': 'Mumbai', 'contact': 1234567}"
      ]
     },
     "execution_count": 99,
     "metadata": {},
     "output_type": "execute_result"
    }
   ],
   "source": [
    "s1"
   ]
  },
  {
   "cell_type": "code",
   "execution_count": 100,
   "id": "8900c67c",
   "metadata": {},
   "outputs": [
    {
     "data": {
      "text/plain": [
       "('contact', 1234567)"
      ]
     },
     "execution_count": 100,
     "metadata": {},
     "output_type": "execute_result"
    }
   ],
   "source": [
    "s1.popitem()"
   ]
  },
  {
   "cell_type": "code",
   "execution_count": 101,
   "id": "c4eee2b1",
   "metadata": {},
   "outputs": [
    {
     "data": {
      "text/plain": [
       "{'name': 'Rohit', 'City': 'Mumbai'}"
      ]
     },
     "execution_count": 101,
     "metadata": {},
     "output_type": "execute_result"
    }
   ],
   "source": [
    "s1"
   ]
  },
  {
   "cell_type": "code",
   "execution_count": 102,
   "id": "317aa2a0",
   "metadata": {},
   "outputs": [
    {
     "data": {
      "text/plain": [
       "dict"
      ]
     },
     "execution_count": 102,
     "metadata": {},
     "output_type": "execute_result"
    }
   ],
   "source": [
    "type(s1)"
   ]
  },
  {
   "cell_type": "code",
   "execution_count": 103,
   "id": "d8311b08",
   "metadata": {},
   "outputs": [],
   "source": [
    "## Set -- Its collection of Unique elements"
   ]
  },
  {
   "cell_type": "code",
   "execution_count": 104,
   "id": "1439dbc7",
   "metadata": {},
   "outputs": [
    {
     "data": {
      "text/plain": [
       "{1, 2, 3}"
      ]
     },
     "execution_count": 104,
     "metadata": {},
     "output_type": "execute_result"
    }
   ],
   "source": [
    "{1,2,3,1,2,3,1,2,3,1,2,3,1,2,3}"
   ]
  },
  {
   "cell_type": "code",
   "execution_count": 105,
   "id": "dc6389b1",
   "metadata": {},
   "outputs": [],
   "source": [
    "set1={1,2,2,2,2,3,3,3,3,4,4,4,4,5}"
   ]
  },
  {
   "cell_type": "code",
   "execution_count": 106,
   "id": "4ee0c773",
   "metadata": {},
   "outputs": [
    {
     "data": {
      "text/plain": [
       "{1, 2, 3, 4, 5}"
      ]
     },
     "execution_count": 106,
     "metadata": {},
     "output_type": "execute_result"
    }
   ],
   "source": [
    "set1"
   ]
  },
  {
   "cell_type": "code",
   "execution_count": 107,
   "id": "70cad47d",
   "metadata": {},
   "outputs": [
    {
     "data": {
      "text/plain": [
       "set"
      ]
     },
     "execution_count": 107,
     "metadata": {},
     "output_type": "execute_result"
    }
   ],
   "source": [
    "type(set1)"
   ]
  },
  {
   "cell_type": "code",
   "execution_count": 108,
   "id": "984ba7cb",
   "metadata": {},
   "outputs": [
    {
     "data": {
      "text/plain": [
       "set"
      ]
     },
     "execution_count": 108,
     "metadata": {},
     "output_type": "execute_result"
    }
   ],
   "source": [
    "type({1,2,3})"
   ]
  },
  {
   "cell_type": "code",
   "execution_count": 109,
   "id": "f155a5fe",
   "metadata": {},
   "outputs": [
    {
     "data": {
      "text/plain": [
       "{1, 2, 3, 4, 5}"
      ]
     },
     "execution_count": 109,
     "metadata": {},
     "output_type": "execute_result"
    }
   ],
   "source": [
    "set1"
   ]
  },
  {
   "cell_type": "code",
   "execution_count": 110,
   "id": "f18590a6",
   "metadata": {},
   "outputs": [],
   "source": [
    "set1.add(98)"
   ]
  },
  {
   "cell_type": "code",
   "execution_count": 111,
   "id": "5eb48eb4",
   "metadata": {},
   "outputs": [
    {
     "data": {
      "text/plain": [
       "{1, 2, 3, 4, 5, 98}"
      ]
     },
     "execution_count": 111,
     "metadata": {},
     "output_type": "execute_result"
    }
   ],
   "source": [
    "set1"
   ]
  },
  {
   "cell_type": "code",
   "execution_count": 112,
   "id": "d99b53a9",
   "metadata": {},
   "outputs": [
    {
     "ename": "TypeError",
     "evalue": "set.add() takes exactly one argument (2 given)",
     "output_type": "error",
     "traceback": [
      "\u001b[1;31m---------------------------------------------------------------------------\u001b[0m",
      "\u001b[1;31mTypeError\u001b[0m                                 Traceback (most recent call last)",
      "Cell \u001b[1;32mIn[112], line 1\u001b[0m\n\u001b[1;32m----> 1\u001b[0m \u001b[43mset1\u001b[49m\u001b[38;5;241;43m.\u001b[39;49m\u001b[43madd\u001b[49m\u001b[43m(\u001b[49m\u001b[38;5;241;43m55\u001b[39;49m\u001b[43m,\u001b[49m\u001b[38;5;241;43m66\u001b[39;49m\u001b[43m)\u001b[49m\n",
      "\u001b[1;31mTypeError\u001b[0m: set.add() takes exactly one argument (2 given)"
     ]
    }
   ],
   "source": [
    "set1.add(55,66)"
   ]
  },
  {
   "cell_type": "code",
   "execution_count": 113,
   "id": "f564e3d9",
   "metadata": {},
   "outputs": [
    {
     "data": {
      "text/plain": [
       "{1, 2, 3, 4, 5, 55, 66, 98}"
      ]
     },
     "execution_count": 113,
     "metadata": {},
     "output_type": "execute_result"
    }
   ],
   "source": [
    "set1.union({55,66})"
   ]
  },
  {
   "cell_type": "code",
   "execution_count": 114,
   "id": "c7f2825a",
   "metadata": {},
   "outputs": [
    {
     "data": {
      "text/plain": [
       "{1, 2, 3, 4, 5, 98}"
      ]
     },
     "execution_count": 114,
     "metadata": {},
     "output_type": "execute_result"
    }
   ],
   "source": [
    "set1"
   ]
  },
  {
   "cell_type": "code",
   "execution_count": 115,
   "id": "bbe20a3c",
   "metadata": {},
   "outputs": [],
   "source": [
    "s3=set1.union({55,66})"
   ]
  },
  {
   "cell_type": "code",
   "execution_count": 116,
   "id": "bb1c98ba",
   "metadata": {},
   "outputs": [
    {
     "data": {
      "text/plain": [
       "{1, 2, 3, 4, 5, 55, 66, 98}"
      ]
     },
     "execution_count": 116,
     "metadata": {},
     "output_type": "execute_result"
    }
   ],
   "source": [
    "s3"
   ]
  },
  {
   "cell_type": "code",
   "execution_count": 117,
   "id": "ae02b0dc",
   "metadata": {},
   "outputs": [
    {
     "data": {
      "text/plain": [
       "1"
      ]
     },
     "execution_count": 117,
     "metadata": {},
     "output_type": "execute_result"
    }
   ],
   "source": [
    "s3.pop()"
   ]
  },
  {
   "cell_type": "code",
   "execution_count": 118,
   "id": "8ca65cdf",
   "metadata": {},
   "outputs": [
    {
     "data": {
      "text/plain": [
       "{2, 3, 4, 5, 55, 66, 98}"
      ]
     },
     "execution_count": 118,
     "metadata": {},
     "output_type": "execute_result"
    }
   ],
   "source": [
    "s3"
   ]
  },
  {
   "cell_type": "code",
   "execution_count": 119,
   "id": "9249f69a",
   "metadata": {},
   "outputs": [],
   "source": [
    "s3.remove(55)"
   ]
  },
  {
   "cell_type": "code",
   "execution_count": 120,
   "id": "d8faf672",
   "metadata": {},
   "outputs": [
    {
     "data": {
      "text/plain": [
       "{2, 3, 4, 5, 66, 98}"
      ]
     },
     "execution_count": 120,
     "metadata": {},
     "output_type": "execute_result"
    }
   ],
   "source": [
    "s3"
   ]
  },
  {
   "cell_type": "code",
   "execution_count": 121,
   "id": "56233c58",
   "metadata": {},
   "outputs": [
    {
     "data": {
      "text/plain": [
       "{2, 3, 4, 5, 66, 98}"
      ]
     },
     "execution_count": 121,
     "metadata": {},
     "output_type": "execute_result"
    }
   ],
   "source": [
    "s3"
   ]
  },
  {
   "cell_type": "code",
   "execution_count": 122,
   "id": "2dea2c02",
   "metadata": {},
   "outputs": [
    {
     "data": {
      "text/plain": [
       "set"
      ]
     },
     "execution_count": 122,
     "metadata": {},
     "output_type": "execute_result"
    }
   ],
   "source": [
    "type(s3)"
   ]
  },
  {
   "cell_type": "code",
   "execution_count": 123,
   "id": "6dc096c4",
   "metadata": {},
   "outputs": [
    {
     "data": {
      "text/plain": [
       "0"
      ]
     },
     "execution_count": 123,
     "metadata": {},
     "output_type": "execute_result"
    }
   ],
   "source": [
    "int(0)"
   ]
  },
  {
   "cell_type": "code",
   "execution_count": 124,
   "id": "3537a234",
   "metadata": {},
   "outputs": [
    {
     "data": {
      "text/plain": [
       "0.0"
      ]
     },
     "execution_count": 124,
     "metadata": {},
     "output_type": "execute_result"
    }
   ],
   "source": [
    "float(0)"
   ]
  },
  {
   "cell_type": "code",
   "execution_count": 125,
   "id": "ee6b7179",
   "metadata": {},
   "outputs": [
    {
     "data": {
      "text/plain": [
       "False"
      ]
     },
     "execution_count": 125,
     "metadata": {},
     "output_type": "execute_result"
    }
   ],
   "source": [
    "bool(0)"
   ]
  },
  {
   "cell_type": "code",
   "execution_count": 126,
   "id": "01358117",
   "metadata": {},
   "outputs": [
    {
     "data": {
      "text/plain": [
       "True"
      ]
     },
     "execution_count": 126,
     "metadata": {},
     "output_type": "execute_result"
    }
   ],
   "source": [
    "bool(1)"
   ]
  },
  {
   "cell_type": "code",
   "execution_count": 127,
   "id": "6f4a7f96",
   "metadata": {},
   "outputs": [
    {
     "data": {
      "text/plain": [
       "True"
      ]
     },
     "execution_count": 127,
     "metadata": {},
     "output_type": "execute_result"
    }
   ],
   "source": [
    "bool(-1)"
   ]
  },
  {
   "cell_type": "code",
   "execution_count": 128,
   "id": "6a8eeb22",
   "metadata": {},
   "outputs": [
    {
     "data": {
      "text/plain": [
       "True"
      ]
     },
     "execution_count": 128,
     "metadata": {},
     "output_type": "execute_result"
    }
   ],
   "source": [
    "bool(5)"
   ]
  },
  {
   "cell_type": "code",
   "execution_count": 129,
   "id": "cc8f19fd",
   "metadata": {},
   "outputs": [
    {
     "data": {
      "text/plain": [
       "False"
      ]
     },
     "execution_count": 129,
     "metadata": {},
     "output_type": "execute_result"
    }
   ],
   "source": [
    "bool([])"
   ]
  },
  {
   "cell_type": "code",
   "execution_count": 130,
   "id": "59a613af",
   "metadata": {},
   "outputs": [
    {
     "data": {
      "text/plain": [
       "False"
      ]
     },
     "execution_count": 130,
     "metadata": {},
     "output_type": "execute_result"
    }
   ],
   "source": [
    "bool(())"
   ]
  },
  {
   "cell_type": "code",
   "execution_count": 131,
   "id": "99aee9f4",
   "metadata": {},
   "outputs": [
    {
     "data": {
      "text/plain": [
       "False"
      ]
     },
     "execution_count": 131,
     "metadata": {},
     "output_type": "execute_result"
    }
   ],
   "source": [
    "bool(\"\")"
   ]
  },
  {
   "cell_type": "code",
   "execution_count": 132,
   "id": "905e1e3c",
   "metadata": {},
   "outputs": [
    {
     "data": {
      "text/plain": [
       "False"
      ]
     },
     "execution_count": 132,
     "metadata": {},
     "output_type": "execute_result"
    }
   ],
   "source": [
    "bool({})"
   ]
  },
  {
   "cell_type": "code",
   "execution_count": 133,
   "id": "42a2ed23",
   "metadata": {},
   "outputs": [
    {
     "data": {
      "text/plain": [
       "False"
      ]
     },
     "execution_count": 133,
     "metadata": {},
     "output_type": "execute_result"
    }
   ],
   "source": [
    "bool(set())"
   ]
  },
  {
   "cell_type": "code",
   "execution_count": 134,
   "id": "7bab5ad7",
   "metadata": {},
   "outputs": [],
   "source": [
    "## Loops"
   ]
  },
  {
   "cell_type": "code",
   "execution_count": 136,
   "id": "8ea972e0",
   "metadata": {},
   "outputs": [],
   "source": [
    "#For Loop - used to iterate through sequence of elements"
   ]
  },
  {
   "cell_type": "code",
   "execution_count": 137,
   "id": "ef5686c4",
   "metadata": {},
   "outputs": [],
   "source": [
    "data=[4,6,8,2,15]"
   ]
  },
  {
   "cell_type": "code",
   "execution_count": 138,
   "id": "eb20be06",
   "metadata": {},
   "outputs": [
    {
     "data": {
      "text/plain": [
       "[4, 6, 8, 2, 15]"
      ]
     },
     "execution_count": 138,
     "metadata": {},
     "output_type": "execute_result"
    }
   ],
   "source": [
    "data"
   ]
  },
  {
   "cell_type": "code",
   "execution_count": 139,
   "id": "554325a5",
   "metadata": {},
   "outputs": [
    {
     "data": {
      "text/plain": [
       "list"
      ]
     },
     "execution_count": 139,
     "metadata": {},
     "output_type": "execute_result"
    }
   ],
   "source": [
    "type(data)"
   ]
  },
  {
   "cell_type": "code",
   "execution_count": 140,
   "id": "f84866b3",
   "metadata": {},
   "outputs": [
    {
     "name": "stdout",
     "output_type": "stream",
     "text": [
      "4\n",
      "6\n",
      "8\n",
      "2\n",
      "15\n"
     ]
    }
   ],
   "source": [
    "for x in data:\n",
    "    print(x)"
   ]
  },
  {
   "cell_type": "code",
   "execution_count": 141,
   "id": "dc2a7b61",
   "metadata": {},
   "outputs": [
    {
     "name": "stdout",
     "output_type": "stream",
     "text": [
      "4 6 8 2 15 "
     ]
    }
   ],
   "source": [
    "for v in data:\n",
    "    print(v,end=' ')"
   ]
  },
  {
   "cell_type": "code",
   "execution_count": 142,
   "id": "4de7a671",
   "metadata": {},
   "outputs": [
    {
     "name": "stdout",
     "output_type": "stream",
     "text": [
      "4              6              8              2              15              "
     ]
    }
   ],
   "source": [
    "for v in data:\n",
    "    print(v,end='              ')"
   ]
  },
  {
   "cell_type": "code",
   "execution_count": 143,
   "id": "659af953",
   "metadata": {},
   "outputs": [
    {
     "name": "stdout",
     "output_type": "stream",
     "text": [
      "4*6*8*2*15*"
     ]
    }
   ],
   "source": [
    "for v in data:\n",
    "    print(v,end='*')"
   ]
  },
  {
   "cell_type": "code",
   "execution_count": 146,
   "id": "d19e76a1",
   "metadata": {},
   "outputs": [
    {
     "name": "stdout",
     "output_type": "stream",
     "text": [
      "*#*#*#*#*#"
     ]
    }
   ],
   "source": [
    "for v in data:\n",
    "    print('*',end='#')"
   ]
  },
  {
   "cell_type": "code",
   "execution_count": 147,
   "id": "c26ef2c7",
   "metadata": {},
   "outputs": [
    {
     "data": {
      "text/plain": [
       "[4, 6, 8, 2, 15]"
      ]
     },
     "execution_count": 147,
     "metadata": {},
     "output_type": "execute_result"
    }
   ],
   "source": [
    "data"
   ]
  },
  {
   "cell_type": "code",
   "execution_count": 148,
   "id": "97699c2f",
   "metadata": {},
   "outputs": [
    {
     "name": "stdout",
     "output_type": "stream",
     "text": [
      "64\n",
      "216\n",
      "512\n",
      "8\n",
      "3375\n"
     ]
    }
   ],
   "source": [
    "for i in data:\n",
    "    print(i**3)"
   ]
  },
  {
   "cell_type": "code",
   "execution_count": 149,
   "id": "7e98abd1",
   "metadata": {},
   "outputs": [
    {
     "data": {
      "text/plain": [
       "[4, 6, 8, 2, 15]"
      ]
     },
     "execution_count": 149,
     "metadata": {},
     "output_type": "execute_result"
    }
   ],
   "source": [
    "data"
   ]
  },
  {
   "cell_type": "code",
   "execution_count": 150,
   "id": "e5451780",
   "metadata": {},
   "outputs": [
    {
     "name": "stdout",
     "output_type": "stream",
     "text": [
      "4\n",
      "6\n",
      "8\n",
      "2\n"
     ]
    }
   ],
   "source": [
    "for v in data:\n",
    "    if v%2==0:\n",
    "        print(v)"
   ]
  },
  {
   "cell_type": "code",
   "execution_count": 151,
   "id": "1fc76f97",
   "metadata": {},
   "outputs": [],
   "source": [
    "s=\"abcdefghijk\""
   ]
  },
  {
   "cell_type": "code",
   "execution_count": 153,
   "id": "82b2733d",
   "metadata": {},
   "outputs": [
    {
     "name": "stdout",
     "output_type": "stream",
     "text": [
      "a b c d e f g h i j k "
     ]
    }
   ],
   "source": [
    "for v in s:\n",
    "    print(v,end=' ')"
   ]
  },
  {
   "cell_type": "code",
   "execution_count": 154,
   "id": "9651810c",
   "metadata": {},
   "outputs": [],
   "source": [
    "## While Loop"
   ]
  },
  {
   "cell_type": "code",
   "execution_count": 156,
   "id": "85df1642",
   "metadata": {},
   "outputs": [
    {
     "name": "stdout",
     "output_type": "stream",
     "text": [
      "10\n",
      "11\n",
      "12\n",
      "13\n",
      "14\n",
      "15\n",
      "16\n",
      "17\n",
      "18\n",
      "19\n"
     ]
    }
   ],
   "source": [
    "a=10\n",
    "while a<20:\n",
    "    print(a)\n",
    "    a=a+1"
   ]
  },
  {
   "cell_type": "code",
   "execution_count": 1,
   "id": "4f8043b2",
   "metadata": {},
   "outputs": [],
   "source": [
    "data=[100,200,500,22,45,1001]"
   ]
  },
  {
   "cell_type": "code",
   "execution_count": 2,
   "id": "e0628727",
   "metadata": {},
   "outputs": [
    {
     "data": {
      "text/plain": [
       "list"
      ]
     },
     "execution_count": 2,
     "metadata": {},
     "output_type": "execute_result"
    }
   ],
   "source": [
    "type(data)"
   ]
  },
  {
   "cell_type": "code",
   "execution_count": 3,
   "id": "43c3eddb",
   "metadata": {},
   "outputs": [
    {
     "data": {
      "text/plain": [
       "True"
      ]
     },
     "execution_count": 3,
     "metadata": {},
     "output_type": "execute_result"
    }
   ],
   "source": [
    "45 in data"
   ]
  },
  {
   "cell_type": "code",
   "execution_count": 4,
   "id": "464a691d",
   "metadata": {},
   "outputs": [
    {
     "data": {
      "text/plain": [
       "False"
      ]
     },
     "execution_count": 4,
     "metadata": {},
     "output_type": "execute_result"
    }
   ],
   "source": [
    "55 in data"
   ]
  },
  {
   "cell_type": "code",
   "execution_count": 5,
   "id": "80c3a7d6",
   "metadata": {},
   "outputs": [
    {
     "data": {
      "text/plain": [
       "True"
      ]
     },
     "execution_count": 5,
     "metadata": {},
     "output_type": "execute_result"
    }
   ],
   "source": [
    "55 not in data"
   ]
  },
  {
   "cell_type": "code",
   "execution_count": 6,
   "id": "7df65b83",
   "metadata": {},
   "outputs": [
    {
     "data": {
      "text/plain": [
       "True"
      ]
     },
     "execution_count": 6,
     "metadata": {},
     "output_type": "execute_result"
    }
   ],
   "source": [
    "'x' in ['a','b','x','y','z']"
   ]
  },
  {
   "cell_type": "code",
   "execution_count": 7,
   "id": "939d3899",
   "metadata": {},
   "outputs": [
    {
     "data": {
      "text/plain": [
       "False"
      ]
     },
     "execution_count": 7,
     "metadata": {},
     "output_type": "execute_result"
    }
   ],
   "source": [
    "'X' in ['a','b','x','y','z']"
   ]
  },
  {
   "cell_type": "code",
   "execution_count": 8,
   "id": "36064e71",
   "metadata": {},
   "outputs": [
    {
     "data": {
      "text/plain": [
       "True"
      ]
     },
     "execution_count": 8,
     "metadata": {},
     "output_type": "execute_result"
    }
   ],
   "source": [
    "'b' in 'abcdefghijk'"
   ]
  },
  {
   "cell_type": "code",
   "execution_count": 9,
   "id": "6e7c6e35",
   "metadata": {},
   "outputs": [
    {
     "data": {
      "text/plain": [
       "False"
      ]
     },
     "execution_count": 9,
     "metadata": {},
     "output_type": "execute_result"
    }
   ],
   "source": [
    "'4' in [1,2,3,4,5,6,7]"
   ]
  },
  {
   "cell_type": "code",
   "execution_count": 10,
   "id": "7def3941",
   "metadata": {},
   "outputs": [
    {
     "data": {
      "text/plain": [
       "False"
      ]
     },
     "execution_count": 10,
     "metadata": {},
     "output_type": "execute_result"
    }
   ],
   "source": [
    "'4'==4"
   ]
  },
  {
   "cell_type": "code",
   "execution_count": 11,
   "id": "df124b23",
   "metadata": {},
   "outputs": [
    {
     "data": {
      "text/plain": [
       "True"
      ]
     },
     "execution_count": 11,
     "metadata": {},
     "output_type": "execute_result"
    }
   ],
   "source": [
    "4 in [1,2,3,4,5,6,7]"
   ]
  },
  {
   "cell_type": "code",
   "execution_count": 12,
   "id": "d3e87bd3",
   "metadata": {},
   "outputs": [
    {
     "data": {
      "text/plain": [
       "True"
      ]
     },
     "execution_count": 12,
     "metadata": {},
     "output_type": "execute_result"
    }
   ],
   "source": [
    "'4' not in [1,2,3,4,5,6,7]"
   ]
  },
  {
   "cell_type": "code",
   "execution_count": 13,
   "id": "5f2caf04",
   "metadata": {},
   "outputs": [],
   "source": [
    "d1=[10,20,30,40,50]"
   ]
  },
  {
   "cell_type": "code",
   "execution_count": 14,
   "id": "bd5bd165",
   "metadata": {},
   "outputs": [],
   "source": [
    "d2=[10,20,30,40,50]"
   ]
  },
  {
   "cell_type": "code",
   "execution_count": 15,
   "id": "08118c46",
   "metadata": {},
   "outputs": [
    {
     "data": {
      "text/plain": [
       "False"
      ]
     },
     "execution_count": 15,
     "metadata": {},
     "output_type": "execute_result"
    }
   ],
   "source": [
    "d1 is d2"
   ]
  },
  {
   "cell_type": "code",
   "execution_count": 16,
   "id": "aaa141c1",
   "metadata": {},
   "outputs": [
    {
     "data": {
      "text/plain": [
       "True"
      ]
     },
     "execution_count": 16,
     "metadata": {},
     "output_type": "execute_result"
    }
   ],
   "source": [
    "d1==d2"
   ]
  },
  {
   "cell_type": "code",
   "execution_count": 17,
   "id": "e167db21",
   "metadata": {},
   "outputs": [],
   "source": [
    "d1=d2"
   ]
  },
  {
   "cell_type": "code",
   "execution_count": 18,
   "id": "d26f7a23",
   "metadata": {},
   "outputs": [
    {
     "data": {
      "text/plain": [
       "True"
      ]
     },
     "execution_count": 18,
     "metadata": {},
     "output_type": "execute_result"
    }
   ],
   "source": [
    "d1 is d2"
   ]
  },
  {
   "cell_type": "code",
   "execution_count": 19,
   "id": "2c10d32b",
   "metadata": {},
   "outputs": [
    {
     "data": {
      "text/plain": [
       "True"
      ]
     },
     "execution_count": 19,
     "metadata": {},
     "output_type": "execute_result"
    }
   ],
   "source": [
    "d1==d2"
   ]
  },
  {
   "cell_type": "code",
   "execution_count": 20,
   "id": "0341d17e",
   "metadata": {},
   "outputs": [],
   "source": [
    "## Functions"
   ]
  },
  {
   "cell_type": "code",
   "execution_count": 21,
   "id": "0fb90150",
   "metadata": {},
   "outputs": [],
   "source": [
    "def print_message():\n",
    "    print(\"Hello Everyone!!!\")"
   ]
  },
  {
   "cell_type": "code",
   "execution_count": 22,
   "id": "879ff1b6",
   "metadata": {},
   "outputs": [
    {
     "data": {
      "text/plain": [
       "<function __main__.print_message()>"
      ]
     },
     "execution_count": 22,
     "metadata": {},
     "output_type": "execute_result"
    }
   ],
   "source": [
    "print_message"
   ]
  },
  {
   "cell_type": "code",
   "execution_count": 23,
   "id": "8658109a",
   "metadata": {},
   "outputs": [
    {
     "name": "stdout",
     "output_type": "stream",
     "text": [
      "Hello Everyone!!!\n"
     ]
    }
   ],
   "source": [
    "print_message()    #calling function"
   ]
  },
  {
   "cell_type": "code",
   "execution_count": 24,
   "id": "ae50e308",
   "metadata": {},
   "outputs": [],
   "source": [
    "def say_hello(s):\n",
    "    return \"Hello \" + s"
   ]
  },
  {
   "cell_type": "code",
   "execution_count": 25,
   "id": "30078a7d",
   "metadata": {},
   "outputs": [
    {
     "data": {
      "text/plain": [
       "'Hello Rahul'"
      ]
     },
     "execution_count": 25,
     "metadata": {},
     "output_type": "execute_result"
    }
   ],
   "source": [
    "say_hello(\"Rahul\")"
   ]
  },
  {
   "cell_type": "code",
   "execution_count": 26,
   "id": "3e63ea36",
   "metadata": {},
   "outputs": [],
   "source": [
    "def say_hello1(s):\n",
    "    return \"Hello \" + str(s)"
   ]
  },
  {
   "cell_type": "code",
   "execution_count": 29,
   "id": "e0591102",
   "metadata": {},
   "outputs": [
    {
     "data": {
      "text/plain": [
       "'Hello 45'"
      ]
     },
     "execution_count": 29,
     "metadata": {},
     "output_type": "execute_result"
    }
   ],
   "source": [
    "say_hello1('45')"
   ]
  },
  {
   "cell_type": "code",
   "execution_count": 30,
   "id": "c436408e",
   "metadata": {},
   "outputs": [],
   "source": [
    "def find_cube(n):\n",
    "    return n**3"
   ]
  },
  {
   "cell_type": "code",
   "execution_count": 31,
   "id": "42ca047a",
   "metadata": {},
   "outputs": [
    {
     "data": {
      "text/plain": [
       "5832"
      ]
     },
     "execution_count": 31,
     "metadata": {},
     "output_type": "execute_result"
    }
   ],
   "source": [
    "find_cube(18)"
   ]
  },
  {
   "cell_type": "code",
   "execution_count": 32,
   "id": "12546e48",
   "metadata": {},
   "outputs": [
    {
     "ename": "TypeError",
     "evalue": "find_cube() missing 1 required positional argument: 'n'",
     "output_type": "error",
     "traceback": [
      "\u001b[1;31m---------------------------------------------------------------------------\u001b[0m",
      "\u001b[1;31mTypeError\u001b[0m                                 Traceback (most recent call last)",
      "Cell \u001b[1;32mIn[32], line 1\u001b[0m\n\u001b[1;32m----> 1\u001b[0m \u001b[43mfind_cube\u001b[49m\u001b[43m(\u001b[49m\u001b[43m)\u001b[49m\n",
      "\u001b[1;31mTypeError\u001b[0m: find_cube() missing 1 required positional argument: 'n'"
     ]
    }
   ],
   "source": [
    "find_cube()"
   ]
  },
  {
   "cell_type": "code",
   "execution_count": 33,
   "id": "8d31df29",
   "metadata": {},
   "outputs": [],
   "source": [
    "def f1(a,b):\n",
    "    return a+b"
   ]
  },
  {
   "cell_type": "code",
   "execution_count": 34,
   "id": "7bf5b99c",
   "metadata": {},
   "outputs": [
    {
     "data": {
      "text/plain": [
       "<function __main__.f1(a, b)>"
      ]
     },
     "execution_count": 34,
     "metadata": {},
     "output_type": "execute_result"
    }
   ],
   "source": [
    "f1"
   ]
  },
  {
   "cell_type": "code",
   "execution_count": 35,
   "id": "475a3d01",
   "metadata": {},
   "outputs": [
    {
     "ename": "TypeError",
     "evalue": "f1() missing 2 required positional arguments: 'a' and 'b'",
     "output_type": "error",
     "traceback": [
      "\u001b[1;31m---------------------------------------------------------------------------\u001b[0m",
      "\u001b[1;31mTypeError\u001b[0m                                 Traceback (most recent call last)",
      "Cell \u001b[1;32mIn[35], line 1\u001b[0m\n\u001b[1;32m----> 1\u001b[0m \u001b[43mf1\u001b[49m\u001b[43m(\u001b[49m\u001b[43m)\u001b[49m\n",
      "\u001b[1;31mTypeError\u001b[0m: f1() missing 2 required positional arguments: 'a' and 'b'"
     ]
    }
   ],
   "source": [
    "f1()"
   ]
  },
  {
   "cell_type": "code",
   "execution_count": 36,
   "id": "8adde617",
   "metadata": {},
   "outputs": [
    {
     "data": {
      "text/plain": [
       "9"
      ]
     },
     "execution_count": 36,
     "metadata": {},
     "output_type": "execute_result"
    }
   ],
   "source": [
    "f1(4,5)"
   ]
  },
  {
   "cell_type": "code",
   "execution_count": 37,
   "id": "ea0d25c0",
   "metadata": {},
   "outputs": [],
   "source": [
    "a=4"
   ]
  },
  {
   "cell_type": "code",
   "execution_count": 38,
   "id": "ac2e3fe7",
   "metadata": {},
   "outputs": [],
   "source": [
    "b=45"
   ]
  },
  {
   "cell_type": "code",
   "execution_count": 39,
   "id": "1b383282",
   "metadata": {},
   "outputs": [
    {
     "ename": "SyntaxError",
     "evalue": "invalid decimal literal (293490171.py, line 1)",
     "output_type": "error",
     "traceback": [
      "\u001b[1;36m  Cell \u001b[1;32mIn[39], line 1\u001b[1;36m\u001b[0m\n\u001b[1;33m    3a=55\u001b[0m\n\u001b[1;37m    ^\u001b[0m\n\u001b[1;31mSyntaxError\u001b[0m\u001b[1;31m:\u001b[0m invalid decimal literal\n"
     ]
    }
   ],
   "source": [
    "3a=55   #a variable name in Python cannot start with number"
   ]
  },
  {
   "cell_type": "code",
   "execution_count": 42,
   "id": "b15a7f0b",
   "metadata": {},
   "outputs": [
    {
     "ename": "SyntaxError",
     "evalue": "starred assignment target must be in a list or tuple (1442506365.py, line 1)",
     "output_type": "error",
     "traceback": [
      "\u001b[1;36m  Cell \u001b[1;32mIn[42], line 1\u001b[1;36m\u001b[0m\n\u001b[1;33m    *b=89\u001b[0m\n\u001b[1;37m    ^\u001b[0m\n\u001b[1;31mSyntaxError\u001b[0m\u001b[1;31m:\u001b[0m starred assignment target must be in a list or tuple\n"
     ]
    }
   ],
   "source": [
    "*b=89  "
   ]
  },
  {
   "cell_type": "code",
   "execution_count": 43,
   "id": "70f6bc33",
   "metadata": {},
   "outputs": [],
   "source": [
    "name_of_student='Rohit'"
   ]
  },
  {
   "cell_type": "code",
   "execution_count": 44,
   "id": "58dc96de",
   "metadata": {},
   "outputs": [],
   "source": [
    "marks_of_student=45"
   ]
  },
  {
   "cell_type": "code",
   "execution_count": 45,
   "id": "3dcee92a",
   "metadata": {},
   "outputs": [
    {
     "data": {
      "text/plain": [
       "[100, 200, 500, 22, 45, 1001]"
      ]
     },
     "execution_count": 45,
     "metadata": {},
     "output_type": "execute_result"
    }
   ],
   "source": [
    "data"
   ]
  },
  {
   "cell_type": "code",
   "execution_count": 46,
   "id": "49ed169b",
   "metadata": {},
   "outputs": [],
   "source": [
    "def find_even(d):\n",
    "    for v in d:\n",
    "        if v%2==0:\n",
    "            print(v)"
   ]
  },
  {
   "cell_type": "code",
   "execution_count": 47,
   "id": "872661ed",
   "metadata": {},
   "outputs": [
    {
     "name": "stdout",
     "output_type": "stream",
     "text": [
      "100\n",
      "200\n",
      "500\n",
      "22\n"
     ]
    }
   ],
   "source": [
    "find_even(data)"
   ]
  },
  {
   "cell_type": "code",
   "execution_count": 48,
   "id": "b2d3032b",
   "metadata": {},
   "outputs": [],
   "source": [
    "d2=['Mumbai','Pune','Banglore','Bombay','Chennai','Nagpur']"
   ]
  },
  {
   "cell_type": "code",
   "execution_count": 49,
   "id": "d6c18850",
   "metadata": {},
   "outputs": [
    {
     "data": {
      "text/plain": [
       "list"
      ]
     },
     "execution_count": 49,
     "metadata": {},
     "output_type": "execute_result"
    }
   ],
   "source": [
    "type(d2)"
   ]
  },
  {
   "cell_type": "code",
   "execution_count": 50,
   "id": "5bad7a70",
   "metadata": {},
   "outputs": [
    {
     "data": {
      "text/plain": [
       "['Mumbai', 'Pune', 'Banglore', 'Bombay', 'Chennai', 'Nagpur']"
      ]
     },
     "execution_count": 50,
     "metadata": {},
     "output_type": "execute_result"
    }
   ],
   "source": [
    "d2"
   ]
  },
  {
   "cell_type": "code",
   "execution_count": 54,
   "id": "328c5c0a",
   "metadata": {},
   "outputs": [],
   "source": [
    "def find_withnotb(d2):\n",
    "    for b in d2:\n",
    "        if b[0]!='B':\n",
    "            print(b)"
   ]
  },
  {
   "cell_type": "code",
   "execution_count": 55,
   "id": "449930dc",
   "metadata": {},
   "outputs": [
    {
     "name": "stdout",
     "output_type": "stream",
     "text": [
      "Mumbai\n",
      "Pune\n",
      "Chennai\n",
      "Nagpur\n"
     ]
    }
   ],
   "source": [
    "find_withnotb(d2)"
   ]
  },
  {
   "cell_type": "code",
   "execution_count": 56,
   "id": "ce8c142b",
   "metadata": {},
   "outputs": [
    {
     "data": {
      "text/plain": [
       "['Mumbai', 'Pune', 'Banglore', 'Bombay', 'Chennai', 'Nagpur']"
      ]
     },
     "execution_count": 56,
     "metadata": {},
     "output_type": "execute_result"
    }
   ],
   "source": [
    "d2"
   ]
  },
  {
   "cell_type": "code",
   "execution_count": 57,
   "id": "64b99160",
   "metadata": {},
   "outputs": [
    {
     "data": {
      "text/plain": [
       "[100, 200, 500, 22, 45, 1001]"
      ]
     },
     "execution_count": 57,
     "metadata": {},
     "output_type": "execute_result"
    }
   ],
   "source": [
    "data"
   ]
  },
  {
   "cell_type": "code",
   "execution_count": 58,
   "id": "63a057c1",
   "metadata": {},
   "outputs": [
    {
     "data": {
      "text/plain": [
       "'ss'"
      ]
     },
     "execution_count": 58,
     "metadata": {},
     "output_type": "execute_result"
    }
   ],
   "source": [
    "'s'*2"
   ]
  },
  {
   "cell_type": "code",
   "execution_count": 60,
   "id": "7386041a",
   "metadata": {},
   "outputs": [
    {
     "name": "stdout",
     "output_type": "stream",
     "text": [
      "v\n",
      "v\n",
      "v\n",
      "v\n",
      "v\n",
      "v\n"
     ]
    }
   ],
   "source": [
    "for v in data:\n",
    "    print('v')"
   ]
  },
  {
   "cell_type": "code",
   "execution_count": 61,
   "id": "1d59a424",
   "metadata": {},
   "outputs": [
    {
     "name": "stdout",
     "output_type": "stream",
     "text": [
      "v v v v v v "
     ]
    }
   ],
   "source": [
    "for v in data:\n",
    "    print('v',end=' ')"
   ]
  },
  {
   "cell_type": "code",
   "execution_count": 62,
   "id": "e3daa284",
   "metadata": {},
   "outputs": [
    {
     "data": {
      "text/plain": [
       "['Mumbai', 'Pune', 'Banglore', 'Bombay', 'Chennai', 'Nagpur']"
      ]
     },
     "execution_count": 62,
     "metadata": {},
     "output_type": "execute_result"
    }
   ],
   "source": [
    "d2"
   ]
  },
  {
   "cell_type": "code",
   "execution_count": 64,
   "id": "14f7c88d",
   "metadata": {},
   "outputs": [
    {
     "name": "stdout",
     "output_type": "stream",
     "text": [
      "*\n",
      "*\n",
      "*\n",
      "*\n",
      "*\n",
      "*\n"
     ]
    }
   ],
   "source": [
    "for city in d2:\n",
    "    print('*')"
   ]
  },
  {
   "cell_type": "code",
   "execution_count": 70,
   "id": "4e00e31a",
   "metadata": {},
   "outputs": [
    {
     "name": "stdout",
     "output_type": "stream",
     "text": [
      "*       *\n",
      "*       *       *\n",
      "*       *       *\n",
      "*       *       *\n",
      "*       *       *\n",
      "*       *       *\n",
      "*       "
     ]
    }
   ],
   "source": [
    "for city in d2:\n",
    "    print('*',end='       ')\n",
    "    print(\"*\")\n",
    "    print(\"*\",end=\"       \")"
   ]
  },
  {
   "cell_type": "code",
   "execution_count": 71,
   "id": "da9ebcd4",
   "metadata": {},
   "outputs": [],
   "source": [
    "## range() -- Its a generator function"
   ]
  },
  {
   "cell_type": "code",
   "execution_count": 72,
   "id": "2ed234e8",
   "metadata": {},
   "outputs": [
    {
     "data": {
      "text/plain": [
       "range(0, 10)"
      ]
     },
     "execution_count": 72,
     "metadata": {},
     "output_type": "execute_result"
    }
   ],
   "source": [
    "range(10)"
   ]
  },
  {
   "cell_type": "code",
   "execution_count": 73,
   "id": "ef5db5ff",
   "metadata": {},
   "outputs": [
    {
     "data": {
      "text/plain": [
       "[0, 1, 2, 3, 4, 5, 6, 7, 8, 9]"
      ]
     },
     "execution_count": 73,
     "metadata": {},
     "output_type": "execute_result"
    }
   ],
   "source": [
    "list(range(10))"
   ]
  },
  {
   "cell_type": "code",
   "execution_count": 74,
   "id": "7f35ed79",
   "metadata": {},
   "outputs": [
    {
     "data": {
      "text/plain": [
       "[10, 11, 12, 13, 14, 15, 16, 17, 18, 19]"
      ]
     },
     "execution_count": 74,
     "metadata": {},
     "output_type": "execute_result"
    }
   ],
   "source": [
    "list(range(10,20))"
   ]
  },
  {
   "cell_type": "code",
   "execution_count": 81,
   "id": "11683194",
   "metadata": {},
   "outputs": [
    {
     "data": {
      "text/plain": [
       "[10, 11, 12, 13, 14, 15, 16, 17, 18, 19, 20, 21, 22, 23, 24]"
      ]
     },
     "execution_count": 81,
     "metadata": {},
     "output_type": "execute_result"
    }
   ],
   "source": [
    "list(range(10,25))"
   ]
  },
  {
   "cell_type": "code",
   "execution_count": 82,
   "id": "732e5fa8",
   "metadata": {},
   "outputs": [
    {
     "data": {
      "text/plain": [
       "(10, 11, 12, 13, 14, 15, 16, 17, 18, 19, 20, 21, 22, 23, 24)"
      ]
     },
     "execution_count": 82,
     "metadata": {},
     "output_type": "execute_result"
    }
   ],
   "source": [
    "tuple(range(10,25))"
   ]
  },
  {
   "cell_type": "code",
   "execution_count": 84,
   "id": "74b7cf78",
   "metadata": {},
   "outputs": [
    {
     "data": {
      "text/plain": [
       "[10, 12, 14, 16, 18, 20, 22, 24, 26, 28]"
      ]
     },
     "execution_count": 84,
     "metadata": {},
     "output_type": "execute_result"
    }
   ],
   "source": [
    "list(range(10,30,2))"
   ]
  },
  {
   "cell_type": "code",
   "execution_count": 85,
   "id": "fe4118c2",
   "metadata": {},
   "outputs": [
    {
     "data": {
      "text/plain": [
       "[-10, -8, -6, -4, -2, 0, 2, 4, 6, 8]"
      ]
     },
     "execution_count": 85,
     "metadata": {},
     "output_type": "execute_result"
    }
   ],
   "source": [
    "list(range(-10,10,2))"
   ]
  },
  {
   "cell_type": "code",
   "execution_count": 86,
   "id": "16fe71a9",
   "metadata": {},
   "outputs": [
    {
     "data": {
      "text/plain": [
       "[100, 200, 300, 400, 500, 600, 700, 800, 900]"
      ]
     },
     "execution_count": 86,
     "metadata": {},
     "output_type": "execute_result"
    }
   ],
   "source": [
    "list(range(100,1000,100))"
   ]
  },
  {
   "cell_type": "code",
   "execution_count": 87,
   "id": "00e0d7c9",
   "metadata": {},
   "outputs": [
    {
     "name": "stdout",
     "output_type": "stream",
     "text": [
      "0\n",
      "1\n",
      "2\n",
      "3\n",
      "4\n",
      "5\n",
      "6\n",
      "7\n"
     ]
    }
   ],
   "source": [
    "for v in range(8):\n",
    "    print(v)"
   ]
  },
  {
   "cell_type": "code",
   "execution_count": 88,
   "id": "698e0de3",
   "metadata": {},
   "outputs": [
    {
     "name": "stdout",
     "output_type": "stream",
     "text": [
      "0 1 2 3 4 5 6 7 "
     ]
    }
   ],
   "source": [
    "for v in range(8):\n",
    "    print(v,end=' ')"
   ]
  },
  {
   "cell_type": "code",
   "execution_count": 94,
   "id": "8a9a235b",
   "metadata": {},
   "outputs": [
    {
     "name": "stdout",
     "output_type": "stream",
     "text": [
      "0 1 2 3 4 5 6 7 8 9 10 11 12 13 14 15 16 17 18 19 20 21 22 23 24 25 26 27 28 29 30 31 32 33 34 35 36 37 38 39 40 41 42 43 44 45 46 47 48 49 50 51 52 53 54 55 56 57 58 59 60 61 62 63 64 65 66 67 68 69 70 71 72 73 74 75 76 77 78 79 80 81 82 83 84 85 86 87 88 89 90 91 92 93 94 95 96 97 98 99 "
     ]
    }
   ],
   "source": [
    "for v in range(100):\n",
    "    print(v,end=' ')"
   ]
  },
  {
   "cell_type": "code",
   "execution_count": 95,
   "id": "b307f27e",
   "metadata": {},
   "outputs": [
    {
     "name": "stdout",
     "output_type": "stream",
     "text": [
      "100\n",
      "225\n",
      "400\n",
      "625\n",
      "900\n",
      "1225\n",
      "1600\n",
      "2025\n"
     ]
    }
   ],
   "source": [
    "for i in range(10,50,5):\n",
    "    print(i**2)"
   ]
  },
  {
   "cell_type": "code",
   "execution_count": 97,
   "id": "a497aa0d",
   "metadata": {},
   "outputs": [
    {
     "name": "stdout",
     "output_type": "stream",
     "text": [
      "* * * * * * * * * * "
     ]
    }
   ],
   "source": [
    "for num in range(10,20):\n",
    "    print('*',end=' ')"
   ]
  },
  {
   "cell_type": "code",
   "execution_count": 98,
   "id": "015dd3cf",
   "metadata": {},
   "outputs": [
    {
     "data": {
      "text/plain": [
       "[100, 200, 500, 22, 45, 1001]"
      ]
     },
     "execution_count": 98,
     "metadata": {},
     "output_type": "execute_result"
    }
   ],
   "source": [
    "data"
   ]
  },
  {
   "cell_type": "code",
   "execution_count": 99,
   "id": "be4f623c",
   "metadata": {},
   "outputs": [
    {
     "name": "stdout",
     "output_type": "stream",
     "text": [
      "hello\n",
      "hello\n",
      "hello\n",
      "hello\n"
     ]
    }
   ],
   "source": [
    "for d in data[1:5]:\n",
    "    print('hello')"
   ]
  },
  {
   "cell_type": "code",
   "execution_count": 100,
   "id": "97a2bf8f",
   "metadata": {},
   "outputs": [],
   "source": [
    "## Lambda Expressions -- An anonymous function(A function without name)"
   ]
  },
  {
   "cell_type": "code",
   "execution_count": 101,
   "id": "bf13030a",
   "metadata": {},
   "outputs": [],
   "source": [
    "def find_square(n):\n",
    "    return n**2"
   ]
  },
  {
   "cell_type": "code",
   "execution_count": 102,
   "id": "8069c07f",
   "metadata": {},
   "outputs": [
    {
     "data": {
      "text/plain": [
       "36"
      ]
     },
     "execution_count": 102,
     "metadata": {},
     "output_type": "execute_result"
    }
   ],
   "source": [
    "find_square(6)"
   ]
  },
  {
   "cell_type": "code",
   "execution_count": 103,
   "id": "eb7be883",
   "metadata": {},
   "outputs": [
    {
     "data": {
      "text/plain": [
       "<function __main__.<lambda>(v)>"
      ]
     },
     "execution_count": 103,
     "metadata": {},
     "output_type": "execute_result"
    }
   ],
   "source": [
    "lambda v:v**2"
   ]
  },
  {
   "cell_type": "code",
   "execution_count": 104,
   "id": "1b34e58d",
   "metadata": {},
   "outputs": [],
   "source": [
    "t1=lambda v:v**2"
   ]
  },
  {
   "cell_type": "code",
   "execution_count": 105,
   "id": "6995da92",
   "metadata": {},
   "outputs": [
    {
     "data": {
      "text/plain": [
       "<function __main__.<lambda>(v)>"
      ]
     },
     "execution_count": 105,
     "metadata": {},
     "output_type": "execute_result"
    }
   ],
   "source": [
    "t1"
   ]
  },
  {
   "cell_type": "code",
   "execution_count": 106,
   "id": "78bec59f",
   "metadata": {},
   "outputs": [
    {
     "data": {
      "text/plain": [
       "36"
      ]
     },
     "execution_count": 106,
     "metadata": {},
     "output_type": "execute_result"
    }
   ],
   "source": [
    "t1(6)"
   ]
  },
  {
   "cell_type": "code",
   "execution_count": 122,
   "id": "ff41334a",
   "metadata": {},
   "outputs": [],
   "source": [
    "d1=[11,12,13,14,15,16]"
   ]
  },
  {
   "cell_type": "code",
   "execution_count": 123,
   "id": "f773a46e",
   "metadata": {},
   "outputs": [],
   "source": []
  },
  {
   "cell_type": "code",
   "execution_count": 126,
   "id": "19e2154e",
   "metadata": {},
   "outputs": [
    {
     "data": {
      "text/plain": [
       "[11, 12, 13, 14, 15, 16]"
      ]
     },
     "execution_count": 126,
     "metadata": {},
     "output_type": "execute_result"
    }
   ],
   "source": [
    "d1"
   ]
  },
  {
   "cell_type": "code",
   "execution_count": 125,
   "id": "80eaabdf",
   "metadata": {},
   "outputs": [
    {
     "name": "stdout",
     "output_type": "stream",
     "text": [
      "12\n",
      "14\n",
      "16\n"
     ]
    }
   ],
   "source": [
    "for v in d1:\n",
    "    if v%2==0:\n",
    "        print(v)"
   ]
  },
  {
   "cell_type": "code",
   "execution_count": 129,
   "id": "c5958acf",
   "metadata": {},
   "outputs": [
    {
     "data": {
      "text/plain": [
       "[False, True, False, True, False, True]"
      ]
     },
     "execution_count": 129,
     "metadata": {},
     "output_type": "execute_result"
    }
   ],
   "source": [
    "list(map(lambda x:x%2==0,d1))"
   ]
  },
  {
   "cell_type": "code",
   "execution_count": 130,
   "id": "16e87c0b",
   "metadata": {},
   "outputs": [
    {
     "data": {
      "text/plain": [
       "[12, 14, 16]"
      ]
     },
     "execution_count": 130,
     "metadata": {},
     "output_type": "execute_result"
    }
   ],
   "source": [
    "list(filter(lambda x:x%2==0,d1))"
   ]
  },
  {
   "cell_type": "code",
   "execution_count": 131,
   "id": "b5ddc873",
   "metadata": {},
   "outputs": [
    {
     "name": "stdout",
     "output_type": "stream",
     "text": [
      "12\n",
      "14\n",
      "16\n"
     ]
    }
   ],
   "source": [
    "for v in list(filter(lambda x:x%2==0,d1)):\n",
    "    print(v)"
   ]
  },
  {
   "cell_type": "code",
   "execution_count": 132,
   "id": "fa93724b",
   "metadata": {},
   "outputs": [],
   "source": [
    "data=[10,12,13,14,15]"
   ]
  },
  {
   "cell_type": "code",
   "execution_count": 133,
   "id": "33ff8126",
   "metadata": {},
   "outputs": [
    {
     "data": {
      "text/plain": [
       "[1000, 1728, 2197, 2744, 3375]"
      ]
     },
     "execution_count": 133,
     "metadata": {},
     "output_type": "execute_result"
    }
   ],
   "source": [
    "list(map(lambda x:x**3,data))"
   ]
  },
  {
   "cell_type": "code",
   "execution_count": 134,
   "id": "9d2f30d4",
   "metadata": {},
   "outputs": [
    {
     "data": {
      "text/plain": [
       "[False, False, True, False, True]"
      ]
     },
     "execution_count": 134,
     "metadata": {},
     "output_type": "execute_result"
    }
   ],
   "source": [
    "list(map(lambda x:x%2!=0,data))"
   ]
  },
  {
   "cell_type": "code",
   "execution_count": 135,
   "id": "41d23333",
   "metadata": {},
   "outputs": [
    {
     "data": {
      "text/plain": [
       "[13, 15]"
      ]
     },
     "execution_count": 135,
     "metadata": {},
     "output_type": "execute_result"
    }
   ],
   "source": [
    "list(filter(lambda x:x%2!=0,data))"
   ]
  },
  {
   "cell_type": "code",
   "execution_count": 136,
   "id": "451c3564",
   "metadata": {},
   "outputs": [],
   "source": [
    "data=['soup','salad','cat','great','sachin']"
   ]
  },
  {
   "cell_type": "code",
   "execution_count": 137,
   "id": "0014bb53",
   "metadata": {},
   "outputs": [
    {
     "data": {
      "text/plain": [
       "['soup', 'salad', 'cat', 'great', 'sachin']"
      ]
     },
     "execution_count": 137,
     "metadata": {},
     "output_type": "execute_result"
    }
   ],
   "source": [
    "data"
   ]
  },
  {
   "cell_type": "code",
   "execution_count": 138,
   "id": "8f8a0864",
   "metadata": {},
   "outputs": [
    {
     "data": {
      "text/plain": [
       "[False, False, True, True, False]"
      ]
     },
     "execution_count": 138,
     "metadata": {},
     "output_type": "execute_result"
    }
   ],
   "source": [
    "list(map(lambda x:x[0]!='s',data))"
   ]
  },
  {
   "cell_type": "code",
   "execution_count": 139,
   "id": "06e9693b",
   "metadata": {},
   "outputs": [
    {
     "data": {
      "text/plain": [
       "['cat', 'great']"
      ]
     },
     "execution_count": 139,
     "metadata": {},
     "output_type": "execute_result"
    }
   ],
   "source": [
    "list(filter(lambda x:x[0]!='s',data))"
   ]
  },
  {
   "cell_type": "code",
   "execution_count": 140,
   "id": "78f98fa3",
   "metadata": {},
   "outputs": [],
   "source": [
    "##map and filter"
   ]
  },
  {
   "cell_type": "code",
   "execution_count": 141,
   "id": "7fdbec23",
   "metadata": {},
   "outputs": [],
   "source": [
    "num=[11,12,13,14,15,16,17,18]"
   ]
  },
  {
   "cell_type": "code",
   "execution_count": 142,
   "id": "46500fd1",
   "metadata": {},
   "outputs": [],
   "source": [
    "t1=lambda z:z**3"
   ]
  },
  {
   "cell_type": "code",
   "execution_count": 143,
   "id": "410000d0",
   "metadata": {},
   "outputs": [
    {
     "data": {
      "text/plain": [
       "[1331, 1728, 2197, 2744, 3375, 4096, 4913, 5832]"
      ]
     },
     "execution_count": 143,
     "metadata": {},
     "output_type": "execute_result"
    }
   ],
   "source": [
    "list(map(t1,num))"
   ]
  },
  {
   "cell_type": "code",
   "execution_count": 144,
   "id": "0e4762e0",
   "metadata": {},
   "outputs": [],
   "source": [
    "data=[(1,2),(3,4),(5,6)]"
   ]
  },
  {
   "cell_type": "code",
   "execution_count": 145,
   "id": "1e1e8bcf",
   "metadata": {},
   "outputs": [
    {
     "data": {
      "text/plain": [
       "[1, 3, 5]"
      ]
     },
     "execution_count": 145,
     "metadata": {},
     "output_type": "execute_result"
    }
   ],
   "source": [
    "list(map(lambda x: x[0], data))"
   ]
  },
  {
   "cell_type": "code",
   "execution_count": 151,
   "id": "f3c8feb9",
   "metadata": {},
   "outputs": [
    {
     "name": "stdout",
     "output_type": "stream",
     "text": [
      "1\n",
      "3\n",
      "5\n"
     ]
    }
   ],
   "source": [
    "for v in tuple(map(lambda x: x[0], data)):\n",
    "    print(v)"
   ]
  },
  {
   "cell_type": "code",
   "execution_count": null,
   "id": "eb64d591",
   "metadata": {},
   "outputs": [],
   "source": []
  },
  {
   "cell_type": "code",
   "execution_count": 146,
   "id": "a9216f47",
   "metadata": {},
   "outputs": [
    {
     "data": {
      "text/plain": [
       "[1, 3, 5]"
      ]
     },
     "execution_count": 146,
     "metadata": {},
     "output_type": "execute_result"
    }
   ],
   "source": [
    "t2=lambda x:x[0]\n",
    "list(map(t2,data))"
   ]
  },
  {
   "cell_type": "code",
   "execution_count": 147,
   "id": "a0eec8c9",
   "metadata": {},
   "outputs": [
    {
     "data": {
      "text/plain": [
       "[(1, 2), (3, 4), (5, 6)]"
      ]
     },
     "execution_count": 147,
     "metadata": {},
     "output_type": "execute_result"
    }
   ],
   "source": [
    "data"
   ]
  },
  {
   "cell_type": "code",
   "execution_count": 149,
   "id": "77d6349a",
   "metadata": {},
   "outputs": [
    {
     "name": "stdout",
     "output_type": "stream",
     "text": [
      "1\n",
      "3\n",
      "5\n"
     ]
    }
   ],
   "source": [
    "for x in data:\n",
    "    print(x[0])"
   ]
  },
  {
   "cell_type": "code",
   "execution_count": 152,
   "id": "e332ffa4",
   "metadata": {},
   "outputs": [
    {
     "name": "stdout",
     "output_type": "stream",
     "text": [
      "2\n",
      "4\n",
      "6\n"
     ]
    }
   ],
   "source": [
    "for x in data:\n",
    "    print(x[1])"
   ]
  },
  {
   "cell_type": "code",
   "execution_count": 153,
   "id": "7445a4dd",
   "metadata": {},
   "outputs": [
    {
     "data": {
      "text/plain": [
       "[(1, 2), (3, 4), (5, 6)]"
      ]
     },
     "execution_count": 153,
     "metadata": {},
     "output_type": "execute_result"
    }
   ],
   "source": [
    "data"
   ]
  },
  {
   "cell_type": "code",
   "execution_count": 155,
   "id": "347f2403",
   "metadata": {},
   "outputs": [
    {
     "name": "stdout",
     "output_type": "stream",
     "text": [
      "1\n",
      "2\n",
      "3\n",
      "4\n",
      "5\n",
      "6\n"
     ]
    }
   ],
   "source": [
    "for x in data:\n",
    "    print(x[0])\n",
    "    print(x[1])"
   ]
  },
  {
   "cell_type": "code",
   "execution_count": 156,
   "id": "52a0fe38",
   "metadata": {},
   "outputs": [
    {
     "name": "stdout",
     "output_type": "stream",
     "text": [
      "1\n",
      "3\n",
      "5\n"
     ]
    }
   ],
   "source": [
    "for (a,b) in data:\n",
    "    print(a)"
   ]
  },
  {
   "cell_type": "code",
   "execution_count": 157,
   "id": "da587dc0",
   "metadata": {},
   "outputs": [
    {
     "name": "stdout",
     "output_type": "stream",
     "text": [
      "2\n",
      "4\n",
      "6\n"
     ]
    }
   ],
   "source": [
    "for (a,b) in data:\n",
    "    print(b)"
   ]
  },
  {
   "cell_type": "code",
   "execution_count": 158,
   "id": "b8f7134d",
   "metadata": {},
   "outputs": [
    {
     "name": "stdout",
     "output_type": "stream",
     "text": [
      "1\n",
      "2\n",
      "3\n",
      "4\n",
      "5\n",
      "6\n"
     ]
    }
   ],
   "source": [
    "for (a,b) in data:\n",
    "    print(a)\n",
    "    print(b)"
   ]
  },
  {
   "cell_type": "code",
   "execution_count": 159,
   "id": "f32bb3f3",
   "metadata": {},
   "outputs": [
    {
     "name": "stdout",
     "output_type": "stream",
     "text": [
      "1\n",
      "2\n",
      "3\n",
      "4\n",
      "5\n",
      "6\n"
     ]
    }
   ],
   "source": [
    "for a,b in data:\n",
    "    print(a)\n",
    "    print(b)"
   ]
  },
  {
   "cell_type": "code",
   "execution_count": 7,
   "id": "6d1da45d",
   "metadata": {},
   "outputs": [],
   "source": [
    "def speed_ticket(speed,birthday):\n",
    "    if birthday == True:\n",
    "        new_speed = speed-5\n",
    "    else:\n",
    "        print(new_speed)\n",
    "    if new_speed<=60:\n",
    "        print(\"No Ticket\")\n",
    "    elif new_speed>=61 or new_speed>=80:\n",
    "        print(\"Small Ticket\")    \n",
    "    elif new_speed>80:\n",
    "        print(\"Big Ticket\")"
   ]
  },
  {
   "cell_type": "code",
   "execution_count": 8,
   "id": "317d8955",
   "metadata": {},
   "outputs": [
    {
     "name": "stdout",
     "output_type": "stream",
     "text": [
      "Small Ticket\n"
     ]
    }
   ],
   "source": [
    "speed_ticket(81,True)"
   ]
  },
  {
   "cell_type": "code",
   "execution_count": null,
   "id": "80017408",
   "metadata": {},
   "outputs": [],
   "source": []
  },
  {
   "cell_type": "code",
   "execution_count": 9,
   "id": "f592e1a1",
   "metadata": {},
   "outputs": [
    {
     "name": "stdout",
     "output_type": "stream",
     "text": [
      "Enter the input number:56\n"
     ]
    },
    {
     "data": {
      "text/plain": [
       "'56'"
      ]
     },
     "execution_count": 9,
     "metadata": {},
     "output_type": "execute_result"
    }
   ],
   "source": [
    "input(\"Enter the input number:\")"
   ]
  },
  {
   "cell_type": "code",
   "execution_count": 10,
   "id": "78b02165",
   "metadata": {},
   "outputs": [
    {
     "name": "stdout",
     "output_type": "stream",
     "text": [
      "Enter the number:456\n"
     ]
    }
   ],
   "source": [
    "n1=input(\"Enter the number:\")"
   ]
  },
  {
   "cell_type": "code",
   "execution_count": 11,
   "id": "5a737dce",
   "metadata": {},
   "outputs": [
    {
     "data": {
      "text/plain": [
       "'456'"
      ]
     },
     "execution_count": 11,
     "metadata": {},
     "output_type": "execute_result"
    }
   ],
   "source": [
    "n1"
   ]
  },
  {
   "cell_type": "code",
   "execution_count": 12,
   "id": "6ebb553b",
   "metadata": {},
   "outputs": [
    {
     "data": {
      "text/plain": [
       "str"
      ]
     },
     "execution_count": 12,
     "metadata": {},
     "output_type": "execute_result"
    }
   ],
   "source": [
    "type(n1)"
   ]
  },
  {
   "cell_type": "code",
   "execution_count": 13,
   "id": "6a45b1e1",
   "metadata": {},
   "outputs": [],
   "source": [
    "n1='hello'"
   ]
  },
  {
   "cell_type": "code",
   "execution_count": 14,
   "id": "b5aedaf4",
   "metadata": {},
   "outputs": [
    {
     "data": {
      "text/plain": [
       "'hello'"
      ]
     },
     "execution_count": 14,
     "metadata": {},
     "output_type": "execute_result"
    }
   ],
   "source": [
    "n1"
   ]
  },
  {
   "cell_type": "code",
   "execution_count": 15,
   "id": "f11fb3d9",
   "metadata": {},
   "outputs": [
    {
     "data": {
      "text/plain": [
       "'olleh'"
      ]
     },
     "execution_count": 15,
     "metadata": {},
     "output_type": "execute_result"
    }
   ],
   "source": [
    "n1[::-1]"
   ]
  },
  {
   "cell_type": "code",
   "execution_count": 16,
   "id": "ab6c9478",
   "metadata": {},
   "outputs": [],
   "source": [
    "n2='456'"
   ]
  },
  {
   "cell_type": "code",
   "execution_count": 17,
   "id": "b91c889e",
   "metadata": {},
   "outputs": [
    {
     "data": {
      "text/plain": [
       "'654'"
      ]
     },
     "execution_count": 17,
     "metadata": {},
     "output_type": "execute_result"
    }
   ],
   "source": [
    "n2[::-1]"
   ]
  },
  {
   "cell_type": "code",
   "execution_count": 18,
   "id": "98c8dd11",
   "metadata": {},
   "outputs": [
    {
     "name": "stdout",
     "output_type": "stream",
     "text": [
      "enter no:56\n"
     ]
    },
    {
     "data": {
      "text/plain": [
       "'56'"
      ]
     },
     "execution_count": 18,
     "metadata": {},
     "output_type": "execute_result"
    }
   ],
   "source": [
    "input(\"enter no:\")"
   ]
  },
  {
   "cell_type": "code",
   "execution_count": 45,
   "id": "7a9428a7",
   "metadata": {},
   "outputs": [
    {
     "name": "stdout",
     "output_type": "stream",
     "text": [
      "Enter the Number:78\n",
      "Number is: 165\n",
      "Reverse is: 561\n",
      "Number is: 726\n",
      "Reverse is: 627\n",
      "Number is: 726\n",
      "Reverse is: 627\n",
      "Number is: 1353\n",
      "Reverse is: 3531\n",
      "Number is: 1353\n",
      "Reverse is: 3531\n",
      "Number is: 4884\n",
      "Reverse is: 4884\n",
      "PAlindrome is: 4884\n"
     ]
    }
   ],
   "source": [
    "num1=input(\"Enter the Number:\")\n",
    "num2=int(num1[::-1])\n",
    "num3=str(int(num1)+num2)\n",
    "while num3!=num3[::-1]:\n",
    "    print(\"Number is:\",num3)\n",
    "    print(\"Reverse is:\",num3[::-1])\n",
    "    num3=str(int(num3)+int(num3[::-1]))\n",
    "    print(\"Number is:\",num3)\n",
    "    print(\"Reverse is:\",num3[::-1])\n",
    "print(\"PAlindrome is:\",num3)"
   ]
  },
  {
   "cell_type": "code",
   "execution_count": 35,
   "id": "71cc2b4e",
   "metadata": {},
   "outputs": [
    {
     "data": {
      "text/plain": [
       "'45'"
      ]
     },
     "execution_count": 35,
     "metadata": {},
     "output_type": "execute_result"
    }
   ],
   "source": [
    "num1"
   ]
  },
  {
   "cell_type": "code",
   "execution_count": 36,
   "id": "704899c9",
   "metadata": {},
   "outputs": [
    {
     "data": {
      "text/plain": [
       "54"
      ]
     },
     "execution_count": 36,
     "metadata": {},
     "output_type": "execute_result"
    }
   ],
   "source": [
    "num2"
   ]
  },
  {
   "cell_type": "code",
   "execution_count": 37,
   "id": "97398787",
   "metadata": {},
   "outputs": [
    {
     "data": {
      "text/plain": [
       "99"
      ]
     },
     "execution_count": 37,
     "metadata": {},
     "output_type": "execute_result"
    }
   ],
   "source": [
    "num3"
   ]
  },
  {
   "cell_type": "code",
   "execution_count": 33,
   "id": "5fc31310",
   "metadata": {},
   "outputs": [
    {
     "data": {
      "text/plain": [
       "'54'"
      ]
     },
     "execution_count": 33,
     "metadata": {},
     "output_type": "execute_result"
    }
   ],
   "source": [
    "'45'[::-1]"
   ]
  },
  {
   "cell_type": "code",
   "execution_count": 50,
   "id": "b959d4f5",
   "metadata": {},
   "outputs": [
    {
     "name": "stdout",
     "output_type": "stream",
     "text": [
      "Enter the input:78gh-99\n",
      "7899\n"
     ]
    }
   ],
   "source": [
    "s=input(\"Enter the input:\")\n",
    "num=''\n",
    "numbers=[0,1,2,3,4,5,6,7,8,9]\n",
    "if s[0]=='-':\n",
    "    num=num+s[0]\n",
    "for c in s:\n",
    "    if c in str(numbers):\n",
    "        num=num+c\n",
    "print(num)"
   ]
  },
  {
   "cell_type": "markdown",
   "id": "d3ac7272",
   "metadata": {},
   "source": [
    "#### What is 7 to the power of 4?**"
   ]
  },
  {
   "cell_type": "code",
   "execution_count": 51,
   "id": "20ba1895",
   "metadata": {},
   "outputs": [
    {
     "data": {
      "text/plain": [
       "2401"
      ]
     },
     "execution_count": 51,
     "metadata": {},
     "output_type": "execute_result"
    }
   ],
   "source": [
    "7**4"
   ]
  },
  {
   "cell_type": "code",
   "execution_count": 52,
   "id": "3ee763f4",
   "metadata": {},
   "outputs": [
    {
     "data": {
      "text/plain": [
       "'C:\\\\Users\\\\yoges'"
      ]
     },
     "execution_count": 52,
     "metadata": {},
     "output_type": "execute_result"
    }
   ],
   "source": [
    "pwd"
   ]
  },
  {
   "cell_type": "code",
   "execution_count": null,
   "id": "52b9c2b7",
   "metadata": {},
   "outputs": [],
   "source": []
  }
 ],
 "metadata": {
  "kernelspec": {
   "display_name": "Python 3 (ipykernel)",
   "language": "python",
   "name": "python3"
  },
  "language_info": {
   "codemirror_mode": {
    "name": "ipython",
    "version": 3
   },
   "file_extension": ".py",
   "mimetype": "text/x-python",
   "name": "python",
   "nbconvert_exporter": "python",
   "pygments_lexer": "ipython3",
   "version": "3.10.9"
  }
 },
 "nbformat": 4,
 "nbformat_minor": 5
}
